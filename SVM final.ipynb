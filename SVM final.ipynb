{
 "cells": [
  {
   "cell_type": "markdown",
   "metadata": {},
   "source": [
    "# SVM using Acoustic features"
   ]
  },
  {
   "cell_type": "code",
   "execution_count": 1,
   "metadata": {},
   "outputs": [],
   "source": [
    "import pandas as pd\n",
    "import numpy as np"
   ]
  },
  {
   "cell_type": "code",
   "execution_count": 4,
   "metadata": {},
   "outputs": [
    {
     "data": {
      "text/html": [
       "<div>\n",
       "<style scoped>\n",
       "    .dataframe tbody tr th:only-of-type {\n",
       "        vertical-align: middle;\n",
       "    }\n",
       "\n",
       "    .dataframe tbody tr th {\n",
       "        vertical-align: top;\n",
       "    }\n",
       "\n",
       "    .dataframe thead th {\n",
       "        text-align: right;\n",
       "    }\n",
       "</style>\n",
       "<table border=\"1\" class=\"dataframe\">\n",
       "  <thead>\n",
       "    <tr style=\"text-align: right;\">\n",
       "      <th></th>\n",
       "      <th>frameTime</th>\n",
       "      <th>pcm_RMSenergy_sma_max</th>\n",
       "      <th>pcm_RMSenergy_sma_min</th>\n",
       "      <th>pcm_RMSenergy_sma_range</th>\n",
       "      <th>pcm_RMSenergy_sma_maxPos</th>\n",
       "      <th>pcm_RMSenergy_sma_minPos</th>\n",
       "      <th>pcm_RMSenergy_sma_amean</th>\n",
       "      <th>pcm_RMSenergy_sma_linregc1</th>\n",
       "      <th>pcm_RMSenergy_sma_linregc2</th>\n",
       "      <th>pcm_RMSenergy_sma_linregerrQ</th>\n",
       "      <th>...</th>\n",
       "      <th>F0_sma_de_maxPos</th>\n",
       "      <th>F0_sma_de_minPos</th>\n",
       "      <th>F0_sma_de_amean</th>\n",
       "      <th>F0_sma_de_linregc1</th>\n",
       "      <th>F0_sma_de_linregc2</th>\n",
       "      <th>F0_sma_de_linregerrQ</th>\n",
       "      <th>F0_sma_de_stddev</th>\n",
       "      <th>F0_sma_de_skewness</th>\n",
       "      <th>F0_sma_de_kurtosis</th>\n",
       "      <th>label</th>\n",
       "    </tr>\n",
       "  </thead>\n",
       "  <tbody>\n",
       "    <tr>\n",
       "      <th>0</th>\n",
       "      <td>0</td>\n",
       "      <td>0.013430</td>\n",
       "      <td>0.000315</td>\n",
       "      <td>0.013115</td>\n",
       "      <td>62</td>\n",
       "      <td>31</td>\n",
       "      <td>0.002099</td>\n",
       "      <td>0.000036</td>\n",
       "      <td>0.000259</td>\n",
       "      <td>0.000014</td>\n",
       "      <td>...</td>\n",
       "      <td>62</td>\n",
       "      <td>71</td>\n",
       "      <td>-4.850182e-08</td>\n",
       "      <td>-0.020856</td>\n",
       "      <td>1.053219</td>\n",
       "      <td>170.07320</td>\n",
       "      <td>13.055660</td>\n",
       "      <td>0.139536</td>\n",
       "      <td>13.962990</td>\n",
       "      <td>D</td>\n",
       "    </tr>\n",
       "    <tr>\n",
       "      <th>1</th>\n",
       "      <td>0</td>\n",
       "      <td>0.012014</td>\n",
       "      <td>0.000097</td>\n",
       "      <td>0.011916</td>\n",
       "      <td>86</td>\n",
       "      <td>24</td>\n",
       "      <td>0.001798</td>\n",
       "      <td>-0.000005</td>\n",
       "      <td>0.002335</td>\n",
       "      <td>0.000010</td>\n",
       "      <td>...</td>\n",
       "      <td>57</td>\n",
       "      <td>112</td>\n",
       "      <td>9.946342e-09</td>\n",
       "      <td>-0.019791</td>\n",
       "      <td>1.998919</td>\n",
       "      <td>156.33080</td>\n",
       "      <td>12.556900</td>\n",
       "      <td>1.408134</td>\n",
       "      <td>28.568980</td>\n",
       "      <td>D</td>\n",
       "    </tr>\n",
       "    <tr>\n",
       "      <th>2</th>\n",
       "      <td>0</td>\n",
       "      <td>0.017445</td>\n",
       "      <td>0.000102</td>\n",
       "      <td>0.017343</td>\n",
       "      <td>87</td>\n",
       "      <td>766</td>\n",
       "      <td>0.002201</td>\n",
       "      <td>-0.000004</td>\n",
       "      <td>0.003788</td>\n",
       "      <td>0.000006</td>\n",
       "      <td>...</td>\n",
       "      <td>597</td>\n",
       "      <td>601</td>\n",
       "      <td>-4.064229e-08</td>\n",
       "      <td>-0.002775</td>\n",
       "      <td>1.064037</td>\n",
       "      <td>679.20410</td>\n",
       "      <td>26.068800</td>\n",
       "      <td>0.078041</td>\n",
       "      <td>5.901169</td>\n",
       "      <td>D</td>\n",
       "    </tr>\n",
       "    <tr>\n",
       "      <th>3</th>\n",
       "      <td>0</td>\n",
       "      <td>0.065849</td>\n",
       "      <td>0.003651</td>\n",
       "      <td>0.062198</td>\n",
       "      <td>46</td>\n",
       "      <td>1</td>\n",
       "      <td>0.009701</td>\n",
       "      <td>-0.000070</td>\n",
       "      <td>0.013960</td>\n",
       "      <td>0.000150</td>\n",
       "      <td>...</td>\n",
       "      <td>42</td>\n",
       "      <td>47</td>\n",
       "      <td>2.071429e-08</td>\n",
       "      <td>-0.011110</td>\n",
       "      <td>0.672133</td>\n",
       "      <td>234.11950</td>\n",
       "      <td>15.305970</td>\n",
       "      <td>0.073403</td>\n",
       "      <td>11.027760</td>\n",
       "      <td>D</td>\n",
       "    </tr>\n",
       "    <tr>\n",
       "      <th>4</th>\n",
       "      <td>0</td>\n",
       "      <td>0.036867</td>\n",
       "      <td>0.002773</td>\n",
       "      <td>0.034093</td>\n",
       "      <td>145</td>\n",
       "      <td>15</td>\n",
       "      <td>0.005615</td>\n",
       "      <td>0.000016</td>\n",
       "      <td>0.003674</td>\n",
       "      <td>0.000040</td>\n",
       "      <td>...</td>\n",
       "      <td>129</td>\n",
       "      <td>154</td>\n",
       "      <td>-7.481755e-09</td>\n",
       "      <td>-0.004885</td>\n",
       "      <td>0.581368</td>\n",
       "      <td>87.16737</td>\n",
       "      <td>9.342429</td>\n",
       "      <td>1.363256</td>\n",
       "      <td>33.537700</td>\n",
       "      <td>D</td>\n",
       "    </tr>\n",
       "  </tbody>\n",
       "</table>\n",
       "<p>5 rows × 386 columns</p>\n",
       "</div>"
      ],
      "text/plain": [
       "   frameTime  pcm_RMSenergy_sma_max  pcm_RMSenergy_sma_min  \\\n",
       "0          0               0.013430               0.000315   \n",
       "1          0               0.012014               0.000097   \n",
       "2          0               0.017445               0.000102   \n",
       "3          0               0.065849               0.003651   \n",
       "4          0               0.036867               0.002773   \n",
       "\n",
       "   pcm_RMSenergy_sma_range  pcm_RMSenergy_sma_maxPos  \\\n",
       "0                 0.013115                        62   \n",
       "1                 0.011916                        86   \n",
       "2                 0.017343                        87   \n",
       "3                 0.062198                        46   \n",
       "4                 0.034093                       145   \n",
       "\n",
       "   pcm_RMSenergy_sma_minPos  pcm_RMSenergy_sma_amean  \\\n",
       "0                        31                 0.002099   \n",
       "1                        24                 0.001798   \n",
       "2                       766                 0.002201   \n",
       "3                         1                 0.009701   \n",
       "4                        15                 0.005615   \n",
       "\n",
       "   pcm_RMSenergy_sma_linregc1  pcm_RMSenergy_sma_linregc2  \\\n",
       "0                    0.000036                    0.000259   \n",
       "1                   -0.000005                    0.002335   \n",
       "2                   -0.000004                    0.003788   \n",
       "3                   -0.000070                    0.013960   \n",
       "4                    0.000016                    0.003674   \n",
       "\n",
       "   pcm_RMSenergy_sma_linregerrQ  ...  F0_sma_de_maxPos  F0_sma_de_minPos  \\\n",
       "0                      0.000014  ...                62                71   \n",
       "1                      0.000010  ...                57               112   \n",
       "2                      0.000006  ...               597               601   \n",
       "3                      0.000150  ...                42                47   \n",
       "4                      0.000040  ...               129               154   \n",
       "\n",
       "   F0_sma_de_amean  F0_sma_de_linregc1  F0_sma_de_linregc2  \\\n",
       "0    -4.850182e-08           -0.020856            1.053219   \n",
       "1     9.946342e-09           -0.019791            1.998919   \n",
       "2    -4.064229e-08           -0.002775            1.064037   \n",
       "3     2.071429e-08           -0.011110            0.672133   \n",
       "4    -7.481755e-09           -0.004885            0.581368   \n",
       "\n",
       "   F0_sma_de_linregerrQ  F0_sma_de_stddev  F0_sma_de_skewness  \\\n",
       "0             170.07320         13.055660            0.139536   \n",
       "1             156.33080         12.556900            1.408134   \n",
       "2             679.20410         26.068800            0.078041   \n",
       "3             234.11950         15.305970            0.073403   \n",
       "4              87.16737          9.342429            1.363256   \n",
       "\n",
       "   F0_sma_de_kurtosis  label  \n",
       "0           13.962990      D  \n",
       "1           28.568980      D  \n",
       "2            5.901169      D  \n",
       "3           11.027760      D  \n",
       "4           33.537700      D  \n",
       "\n",
       "[5 rows x 386 columns]"
      ]
     },
     "execution_count": 4,
     "metadata": {},
     "output_type": "execute_result"
    }
   ],
   "source": [
    "df = pd.read_csv('OpenSmile_Acoustic_DATA.csv')\n",
    "\n",
    "df.fillna(0, inplace=True)\n",
    "\n",
    "df.head()"
   ]
  },
  {
   "cell_type": "code",
   "execution_count": 6,
   "metadata": {},
   "outputs": [],
   "source": [
    "columns = df.columns.tolist()\n",
    "\n",
    "features = [f for f in filter(lambda x: x not in ['label', 'frameTime'], columns)]\n",
    "target = ['label']\n",
    "\n",
    "feature_df = df[features]\n",
    "\n",
    "X = np.asarray(feature_df)\n",
    "\n",
    "y = np.asarray(df['label'])\n"
   ]
  },
  {
   "cell_type": "code",
   "execution_count": 7,
   "metadata": {},
   "outputs": [],
   "source": [
    "from sklearn.preprocessing import MinMaxScaler\n",
    "\n",
    "scaler = MinMaxScaler()\n",
    "scaler.fit(X)\n",
    "\n",
    "X = scaler.transform(X)"
   ]
  },
  {
   "cell_type": "code",
   "execution_count": 9,
   "metadata": {},
   "outputs": [
    {
     "data": {
      "text/plain": [
       "(3233, 384)"
      ]
     },
     "execution_count": 9,
     "metadata": {},
     "output_type": "execute_result"
    }
   ],
   "source": [
    "from sklearn.model_selection import train_test_split\n",
    "\n",
    "\n",
    "X_train, X_test, y_train, y_test = train_test_split(X, y, test_size=0.1, random_state=4)\n",
    "\n",
    "X_train.shape"
   ]
  },
  {
   "cell_type": "code",
   "execution_count": 15,
   "metadata": {},
   "outputs": [],
   "source": [
    "from sklearn import svm\n",
    "\n",
    "classifier = svm.SVC(kernel='rbf',C=0.1, gamma=1)\n",
    "\n",
    "classifier.fit(X_train, y_train)\n",
    "\n",
    "y_predict = classifier.predict(X_test)"
   ]
  },
  {
   "cell_type": "code",
   "execution_count": 16,
   "metadata": {},
   "outputs": [
    {
     "name": "stdout",
     "output_type": "stream",
     "text": [
      "              precision    recall  f1-score   support\n",
      "\n",
      "           D       0.00      0.00      0.00       106\n",
      "          ND       0.71      1.00      0.83       254\n",
      "\n",
      "   micro avg       0.71      0.71      0.71       360\n",
      "   macro avg       0.35      0.50      0.41       360\n",
      "weighted avg       0.50      0.71      0.58       360\n",
      "\n"
     ]
    },
    {
     "name": "stderr",
     "output_type": "stream",
     "text": [
      "C:\\Users\\Ashwin Ram\\Anaconda3\\lib\\site-packages\\sklearn\\metrics\\classification.py:1143: UndefinedMetricWarning: Precision and F-score are ill-defined and being set to 0.0 in labels with no predicted samples.\n",
      "  'precision', 'predicted', average, warn_for)\n"
     ]
    }
   ],
   "source": [
    "from sklearn.metrics import classification_report\n",
    "\n",
    "print(classification_report(y_test, y_predict))"
   ]
  },
  {
   "cell_type": "code",
   "execution_count": 17,
   "metadata": {},
   "outputs": [
    {
     "data": {
      "text/plain": [
       "0.7055555555555556"
      ]
     },
     "execution_count": 17,
     "metadata": {},
     "output_type": "execute_result"
    }
   ],
   "source": [
    "from sklearn.metrics import accuracy_score\n",
    "accuracy_score(y_test, y_predict)"
   ]
  },
  {
   "cell_type": "markdown",
   "metadata": {},
   "source": [
    "# SVM using glottal features"
   ]
  },
  {
   "cell_type": "code",
   "execution_count": 2,
   "metadata": {},
   "outputs": [],
   "source": [
    "import pandas as pd\n",
    "import numpy as np"
   ]
  },
  {
   "cell_type": "code",
   "execution_count": 66,
   "metadata": {},
   "outputs": [],
   "source": [
    "df = pd.read_csv('Glottal features.csv')\n",
    "\n",
    "df.fillna(0, inplace=True)"
   ]
  },
  {
   "cell_type": "code",
   "execution_count": 67,
   "metadata": {
    "scrolled": true
   },
   "outputs": [
    {
     "data": {
      "text/html": [
       "<div>\n",
       "<style scoped>\n",
       "    .dataframe tbody tr th:only-of-type {\n",
       "        vertical-align: middle;\n",
       "    }\n",
       "\n",
       "    .dataframe tbody tr th {\n",
       "        vertical-align: top;\n",
       "    }\n",
       "\n",
       "    .dataframe thead th {\n",
       "        text-align: right;\n",
       "    }\n",
       "</style>\n",
       "<table border=\"1\" class=\"dataframe\">\n",
       "  <thead>\n",
       "    <tr style=\"text-align: right;\">\n",
       "      <th></th>\n",
       "      <th>OQ1</th>\n",
       "      <th>OQ2</th>\n",
       "      <th>NAQ</th>\n",
       "      <th>AQ</th>\n",
       "      <th>ClQ</th>\n",
       "      <th>OQa</th>\n",
       "      <th>QOQ</th>\n",
       "      <th>SQ1</th>\n",
       "      <th>SQ2</th>\n",
       "      <th>DH12</th>\n",
       "      <th>PSP</th>\n",
       "      <th>HRF</th>\n",
       "    </tr>\n",
       "  </thead>\n",
       "  <tbody>\n",
       "    <tr>\n",
       "      <th>0</th>\n",
       "      <td>13.472685</td>\n",
       "      <td>10.142316</td>\n",
       "      <td>0.991781</td>\n",
       "      <td>0.006941</td>\n",
       "      <td>7.703431</td>\n",
       "      <td>2.417849</td>\n",
       "      <td>4.889335</td>\n",
       "      <td>15.031153</td>\n",
       "      <td>6.548111</td>\n",
       "      <td>21.701640</td>\n",
       "      <td>9.005336</td>\n",
       "      <td>-10.397435</td>\n",
       "    </tr>\n",
       "    <tr>\n",
       "      <th>1</th>\n",
       "      <td>0.812903</td>\n",
       "      <td>0.646946</td>\n",
       "      <td>0.153377</td>\n",
       "      <td>0.002528</td>\n",
       "      <td>0.415674</td>\n",
       "      <td>0.405545</td>\n",
       "      <td>0.488987</td>\n",
       "      <td>0.965098</td>\n",
       "      <td>0.532640</td>\n",
       "      <td>21.698599</td>\n",
       "      <td>0.275154</td>\n",
       "      <td>0.924383</td>\n",
       "    </tr>\n",
       "    <tr>\n",
       "      <th>2</th>\n",
       "      <td>13.472685</td>\n",
       "      <td>10.142316</td>\n",
       "      <td>0.991781</td>\n",
       "      <td>0.006941</td>\n",
       "      <td>7.703431</td>\n",
       "      <td>2.417849</td>\n",
       "      <td>4.889335</td>\n",
       "      <td>15.031153</td>\n",
       "      <td>6.548111</td>\n",
       "      <td>23.301822</td>\n",
       "      <td>9.005336</td>\n",
       "      <td>-8.691624</td>\n",
       "    </tr>\n",
       "    <tr>\n",
       "      <th>3</th>\n",
       "      <td>0.710072</td>\n",
       "      <td>0.476530</td>\n",
       "      <td>0.077525</td>\n",
       "      <td>0.001359</td>\n",
       "      <td>0.344136</td>\n",
       "      <td>0.220149</td>\n",
       "      <td>0.140251</td>\n",
       "      <td>0.980445</td>\n",
       "      <td>0.671318</td>\n",
       "      <td>19.577620</td>\n",
       "      <td>0.350059</td>\n",
       "      <td>6.190404</td>\n",
       "    </tr>\n",
       "    <tr>\n",
       "      <th>4</th>\n",
       "      <td>13.472685</td>\n",
       "      <td>10.142316</td>\n",
       "      <td>0.991781</td>\n",
       "      <td>0.006941</td>\n",
       "      <td>7.703431</td>\n",
       "      <td>2.417849</td>\n",
       "      <td>4.889335</td>\n",
       "      <td>15.031153</td>\n",
       "      <td>6.548111</td>\n",
       "      <td>20.080114</td>\n",
       "      <td>9.005336</td>\n",
       "      <td>-9.621048</td>\n",
       "    </tr>\n",
       "  </tbody>\n",
       "</table>\n",
       "</div>"
      ],
      "text/plain": [
       "         OQ1        OQ2       NAQ        AQ       ClQ       OQa       QOQ  \\\n",
       "0  13.472685  10.142316  0.991781  0.006941  7.703431  2.417849  4.889335   \n",
       "1   0.812903   0.646946  0.153377  0.002528  0.415674  0.405545  0.488987   \n",
       "2  13.472685  10.142316  0.991781  0.006941  7.703431  2.417849  4.889335   \n",
       "3   0.710072   0.476530  0.077525  0.001359  0.344136  0.220149  0.140251   \n",
       "4  13.472685  10.142316  0.991781  0.006941  7.703431  2.417849  4.889335   \n",
       "\n",
       "         SQ1       SQ2       DH12       PSP        HRF  \n",
       "0  15.031153  6.548111  21.701640  9.005336 -10.397435  \n",
       "1   0.965098  0.532640  21.698599  0.275154   0.924383  \n",
       "2  15.031153  6.548111  23.301822  9.005336  -8.691624  \n",
       "3   0.980445  0.671318  19.577620  0.350059   6.190404  \n",
       "4  15.031153  6.548111  20.080114  9.005336  -9.621048  "
      ]
     },
     "execution_count": 67,
     "metadata": {},
     "output_type": "execute_result"
    }
   ],
   "source": [
    "columns = df.columns.tolist()\n",
    "from numpy import nan\n",
    "features = [f for f in filter(lambda x: x not in ['Label', 'frameTime'], columns)]\n",
    "target = ['Label']\n",
    "\n",
    "feature_df = df[features].replace(0, nan)\n",
    "feature_df.fillna(feature_df.sum(), inplace=True)\n",
    "\n",
    "X = np.asarray(feature_df)\n",
    "\n",
    "y = np.asarray(df['Label'])\n",
    "feature_df.head()\n"
   ]
  },
  {
   "cell_type": "code",
   "execution_count": 68,
   "metadata": {},
   "outputs": [],
   "source": [
    "from sklearn.preprocessing import MinMaxScaler\n",
    "\n",
    "scaler = MinMaxScaler()\n",
    "scaler.fit(X)\n",
    "\n",
    "X = scaler.transform(X)"
   ]
  },
  {
   "cell_type": "code",
   "execution_count": 69,
   "metadata": {},
   "outputs": [
    {
     "data": {
      "text/plain": [
       "(181, 12)"
      ]
     },
     "execution_count": 69,
     "metadata": {},
     "output_type": "execute_result"
    }
   ],
   "source": [
    "from sklearn.model_selection import train_test_split\n",
    "\n",
    "\n",
    "X_train, X_test, y_train, y_test = train_test_split(X, y, test_size=0.1, random_state=4)\n",
    "\n",
    "X_train.shape"
   ]
  },
  {
   "cell_type": "code",
   "execution_count": 70,
   "metadata": {},
   "outputs": [],
   "source": [
    "from sklearn import svm\n",
    "\n",
    "classifier = svm.SVC(kernel='rbf',C=10, gamma=0.1)\n",
    "\n",
    "classifier.fit(X_train, y_train)\n",
    "\n",
    "y_predict = classifier.predict(X_test)"
   ]
  },
  {
   "cell_type": "code",
   "execution_count": 71,
   "metadata": {},
   "outputs": [
    {
     "name": "stdout",
     "output_type": "stream",
     "text": [
      "              precision    recall  f1-score   support\n",
      "\n",
      "           1       1.00      0.25      0.40         8\n",
      "           2       0.68      1.00      0.81        13\n",
      "\n",
      "   micro avg       0.71      0.71      0.71        21\n",
      "   macro avg       0.84      0.62      0.61        21\n",
      "weighted avg       0.80      0.71      0.66        21\n",
      "\n"
     ]
    }
   ],
   "source": [
    "from sklearn.metrics import classification_report\n",
    "\n",
    "print(classification_report(y_test, y_predict))"
   ]
  },
  {
   "cell_type": "code",
   "execution_count": 72,
   "metadata": {},
   "outputs": [
    {
     "data": {
      "text/plain": [
       "0.7142857142857143"
      ]
     },
     "execution_count": 72,
     "metadata": {},
     "output_type": "execute_result"
    }
   ],
   "source": [
    "from sklearn.metrics import accuracy_score\n",
    "accuracy_score(y_test, y_predict)"
   ]
  },
  {
   "cell_type": "markdown",
   "metadata": {},
   "source": [
    "# SVM using feature extracted from PCA"
   ]
  },
  {
   "cell_type": "code",
   "execution_count": 81,
   "metadata": {},
   "outputs": [],
   "source": [
    "numpy.savetxt(\"pca.csv\", a, delimiter=\",\")"
   ]
  },
  {
   "cell_type": "code",
   "execution_count": 60,
   "metadata": {
    "colab": {
     "base_uri": "https://localhost:8080/",
     "height": 279
    },
    "executionInfo": {
     "elapsed": 1079,
     "status": "ok",
     "timestamp": 1603202839383,
     "user": {
      "displayName": "Shabhitha Murugadass",
      "photoUrl": "https://lh3.googleusercontent.com/a-/AOh14Gi7p7UAHTXYSPe5n79FNbudyYF3DblZOEKKAnVy=s64",
      "userId": "09384834320567856021"
     },
     "user_tz": -330
    },
    "id": "UeHOrW1QSkqY",
    "outputId": "30c9bf77-7cc0-4bbc-b2d3-823b44369512"
   },
   "outputs": [
    {
     "data": {
      "image/png": "[encoded data removed]",
      "text/plain": [
       "<Figure size 432x288 with 1 Axes>"
      ]
     },
     "metadata": {
      "needs_background": "light"
     },
     "output_type": "display_data"
    }
   ],
   "source": [
    "pca=PCA().fit(X_std)\n",
    "plt.plot(np.cumsum(pca.explained_variance_ratio_))\n",
    "plt.xlabel('number of components')\n",
    "plt.ylabel('cumulative explained variance')\n",
    "plt.show()"
   ]
  },
  {
   "cell_type": "code",
   "execution_count": null,
   "metadata": {
    "id": "pOupudFiSkqe"
   },
   "outputs": [],
   "source": [
    "#plt.figure(flagsize=(1,0))\n",
    "#plt.scatter(X_pca[1,0],X_pca[1,0],d1)\n",
    "#plt.xlabel('number of components')\n",
    "#plt.ylabel('cumulative explained variance')"
   ]
  },
  {
   "cell_type": "code",
   "execution_count": 96,
   "metadata": {
    "id": "m6cOKemaSkqj"
   },
   "outputs": [],
   "source": [
    "df = pd.read_csv(\"pca.csv\")\n",
    "df.fillna(0, inplace=True)"
   ]
  },
  {
   "cell_type": "code",
   "execution_count": 97,
   "metadata": {},
   "outputs": [
    {
     "data": {
      "text/html": [
       "<div>\n",
       "<style scoped>\n",
       "    .dataframe tbody tr th:only-of-type {\n",
       "        vertical-align: middle;\n",
       "    }\n",
       "\n",
       "    .dataframe tbody tr th {\n",
       "        vertical-align: top;\n",
       "    }\n",
       "\n",
       "    .dataframe thead th {\n",
       "        text-align: right;\n",
       "    }\n",
       "</style>\n",
       "<table border=\"1\" class=\"dataframe\">\n",
       "  <thead>\n",
       "    <tr style=\"text-align: right;\">\n",
       "      <th></th>\n",
       "      <th>AQ_kurt</th>\n",
       "      <th>AQ_max</th>\n",
       "      <th>AQ_mean</th>\n",
       "      <th>AQ_median</th>\n",
       "      <th>AQ_min</th>\n",
       "      <th>AQ_skew</th>\n",
       "      <th>AQ_std</th>\n",
       "      <th>ClQ_kurt</th>\n",
       "      <th>ClQ_max</th>\n",
       "      <th>ClQ_mean</th>\n",
       "      <th>...</th>\n",
       "      <th>NAQ_min</th>\n",
       "      <th>NAQ_skew</th>\n",
       "      <th>NAQ_std</th>\n",
       "      <th>OQ1_kurt</th>\n",
       "      <th>OQ1_max</th>\n",
       "      <th>OQ1_mean</th>\n",
       "      <th>OQ1_median</th>\n",
       "      <th>OQ1_min</th>\n",
       "      <th>OQ1_skew</th>\n",
       "      <th>OQ1_std</th>\n",
       "    </tr>\n",
       "  </thead>\n",
       "  <tbody>\n",
       "    <tr>\n",
       "      <th>0</th>\n",
       "      <td>-0.105</td>\n",
       "      <td>4.040</td>\n",
       "      <td>5.720</td>\n",
       "      <td>0.396</td>\n",
       "      <td>-6.690</td>\n",
       "      <td>8.030</td>\n",
       "      <td>-4.4800</td>\n",
       "      <td>3.840</td>\n",
       "      <td>-0.0586</td>\n",
       "      <td>1.3700</td>\n",
       "      <td>...</td>\n",
       "      <td>-0.6930</td>\n",
       "      <td>-0.463</td>\n",
       "      <td>-0.96600</td>\n",
       "      <td>-0.3270</td>\n",
       "      <td>-1.2700</td>\n",
       "      <td>0.608</td>\n",
       "      <td>-1.070000</td>\n",
       "      <td>0.2550</td>\n",
       "      <td>-0.1020</td>\n",
       "      <td>-0.62500</td>\n",
       "    </tr>\n",
       "    <tr>\n",
       "      <th>1</th>\n",
       "      <td>11.500</td>\n",
       "      <td>0.173</td>\n",
       "      <td>-0.662</td>\n",
       "      <td>0.436</td>\n",
       "      <td>0.322</td>\n",
       "      <td>-0.311</td>\n",
       "      <td>-0.5860</td>\n",
       "      <td>0.225</td>\n",
       "      <td>-0.5020</td>\n",
       "      <td>0.2830</td>\n",
       "      <td>...</td>\n",
       "      <td>0.1550</td>\n",
       "      <td>0.183</td>\n",
       "      <td>0.00799</td>\n",
       "      <td>0.0498</td>\n",
       "      <td>-0.1390</td>\n",
       "      <td>0.105</td>\n",
       "      <td>-0.026000</td>\n",
       "      <td>-0.1480</td>\n",
       "      <td>0.2150</td>\n",
       "      <td>0.15900</td>\n",
       "    </tr>\n",
       "    <tr>\n",
       "      <th>2</th>\n",
       "      <td>-2.980</td>\n",
       "      <td>0.519</td>\n",
       "      <td>-5.140</td>\n",
       "      <td>1.130</td>\n",
       "      <td>-0.131</td>\n",
       "      <td>-0.744</td>\n",
       "      <td>-0.0157</td>\n",
       "      <td>0.180</td>\n",
       "      <td>-1.8000</td>\n",
       "      <td>-0.0531</td>\n",
       "      <td>...</td>\n",
       "      <td>0.0493</td>\n",
       "      <td>-0.421</td>\n",
       "      <td>-0.62400</td>\n",
       "      <td>-0.2580</td>\n",
       "      <td>-0.4720</td>\n",
       "      <td>-0.738</td>\n",
       "      <td>0.144000</td>\n",
       "      <td>-0.0845</td>\n",
       "      <td>-0.5560</td>\n",
       "      <td>0.10200</td>\n",
       "    </tr>\n",
       "    <tr>\n",
       "      <th>3</th>\n",
       "      <td>1.600</td>\n",
       "      <td>-2.130</td>\n",
       "      <td>-3.330</td>\n",
       "      <td>-0.643</td>\n",
       "      <td>-0.957</td>\n",
       "      <td>1.530</td>\n",
       "      <td>4.7100</td>\n",
       "      <td>1.440</td>\n",
       "      <td>1.4200</td>\n",
       "      <td>-1.6000</td>\n",
       "      <td>...</td>\n",
       "      <td>0.3230</td>\n",
       "      <td>0.272</td>\n",
       "      <td>-0.20700</td>\n",
       "      <td>0.1250</td>\n",
       "      <td>0.4720</td>\n",
       "      <td>-0.502</td>\n",
       "      <td>0.620000</td>\n",
       "      <td>0.0931</td>\n",
       "      <td>0.1860</td>\n",
       "      <td>0.11700</td>\n",
       "    </tr>\n",
       "    <tr>\n",
       "      <th>4</th>\n",
       "      <td>11.800</td>\n",
       "      <td>0.713</td>\n",
       "      <td>-0.774</td>\n",
       "      <td>0.481</td>\n",
       "      <td>0.129</td>\n",
       "      <td>-0.757</td>\n",
       "      <td>-0.3160</td>\n",
       "      <td>-0.233</td>\n",
       "      <td>0.8170</td>\n",
       "      <td>0.9260</td>\n",
       "      <td>...</td>\n",
       "      <td>-0.0194</td>\n",
       "      <td>-0.103</td>\n",
       "      <td>0.02070</td>\n",
       "      <td>-0.0748</td>\n",
       "      <td>-0.0805</td>\n",
       "      <td>0.178</td>\n",
       "      <td>0.000565</td>\n",
       "      <td>-0.0733</td>\n",
       "      <td>-0.0262</td>\n",
       "      <td>0.00923</td>\n",
       "    </tr>\n",
       "  </tbody>\n",
       "</table>\n",
       "<p>5 rows × 30 columns</p>\n",
       "</div>"
      ],
      "text/plain": [
       "   AQ_kurt  AQ_max  AQ_mean  AQ_median  AQ_min  AQ_skew  AQ_std  ClQ_kurt  \\\n",
       "0   -0.105   4.040    5.720      0.396  -6.690    8.030 -4.4800     3.840   \n",
       "1   11.500   0.173   -0.662      0.436   0.322   -0.311 -0.5860     0.225   \n",
       "2   -2.980   0.519   -5.140      1.130  -0.131   -0.744 -0.0157     0.180   \n",
       "3    1.600  -2.130   -3.330     -0.643  -0.957    1.530  4.7100     1.440   \n",
       "4   11.800   0.713   -0.774      0.481   0.129   -0.757 -0.3160    -0.233   \n",
       "\n",
       "   ClQ_max  ClQ_mean  ...  NAQ_min  NAQ_skew  NAQ_std  OQ1_kurt  OQ1_max  \\\n",
       "0  -0.0586    1.3700  ...  -0.6930    -0.463 -0.96600   -0.3270  -1.2700   \n",
       "1  -0.5020    0.2830  ...   0.1550     0.183  0.00799    0.0498  -0.1390   \n",
       "2  -1.8000   -0.0531  ...   0.0493    -0.421 -0.62400   -0.2580  -0.4720   \n",
       "3   1.4200   -1.6000  ...   0.3230     0.272 -0.20700    0.1250   0.4720   \n",
       "4   0.8170    0.9260  ...  -0.0194    -0.103  0.02070   -0.0748  -0.0805   \n",
       "\n",
       "   OQ1_mean  OQ1_median  OQ1_min  OQ1_skew  OQ1_std  \n",
       "0     0.608   -1.070000   0.2550   -0.1020 -0.62500  \n",
       "1     0.105   -0.026000  -0.1480    0.2150  0.15900  \n",
       "2    -0.738    0.144000  -0.0845   -0.5560  0.10200  \n",
       "3    -0.502    0.620000   0.0931    0.1860  0.11700  \n",
       "4     0.178    0.000565  -0.0733   -0.0262  0.00923  \n",
       "\n",
       "[5 rows x 30 columns]"
      ]
     },
     "execution_count": 97,
     "metadata": {},
     "output_type": "execute_result"
    }
   ],
   "source": [
    "columns = df.columns.tolist()\n",
    "from numpy import nan\n",
    "features = [f for f in filter(lambda x: x not in ['Label', 'frameTime'], columns)]\n",
    "target = ['Label']\n",
    "\n",
    "feature_df = df[features].replace(0, nan)\n",
    "feature_df.fillna(feature_df.sum(), inplace=True)\n",
    "\n",
    "X = np.asarray(feature_df)\n",
    "\n",
    "y = np.asarray(df['Label'])\n",
    "feature_df.head()"
   ]
  },
  {
   "cell_type": "code",
   "execution_count": 98,
   "metadata": {},
   "outputs": [],
   "source": [
    "from sklearn.preprocessing import MinMaxScaler\n",
    "\n",
    "scaler = MinMaxScaler()\n",
    "scaler.fit(X)\n",
    "\n",
    "X = scaler.transform(X)"
   ]
  },
  {
   "cell_type": "code",
   "execution_count": 99,
   "metadata": {},
   "outputs": [
    {
     "data": {
      "text/plain": [
       "(180, 30)"
      ]
     },
     "execution_count": 99,
     "metadata": {},
     "output_type": "execute_result"
    }
   ],
   "source": [
    "from sklearn.model_selection import train_test_split\n",
    "\n",
    "\n",
    "X_train, X_test, y_train, y_test = train_test_split(X, y, test_size=0.1, random_state=4)\n",
    "\n",
    "X_train.shape"
   ]
  },
  {
   "cell_type": "code",
   "execution_count": 172,
   "metadata": {},
   "outputs": [],
   "source": [
    "from sklearn import svm\n",
    "\n",
    "classifier = svm.SVC(C=0.1, gamma=0.1, kernel='linear')\n",
    "\n",
    "classifier.fit(X_train, y_train)\n",
    "\n",
    "y_predict = classifier.predict(X_test)"
   ]
  },
  {
   "cell_type": "code",
   "execution_count": 173,
   "metadata": {},
   "outputs": [
    {
     "name": "stdout",
     "output_type": "stream",
     "text": [
      "              precision    recall  f1-score   support\n",
      "\n",
      "           0       0.92      1.00      0.96        12\n",
      "           1       1.00      0.89      0.94         9\n",
      "\n",
      "   micro avg       0.95      0.95      0.95        21\n",
      "   macro avg       0.96      0.94      0.95        21\n",
      "weighted avg       0.96      0.95      0.95        21\n",
      "\n"
     ]
    }
   ],
   "source": [
    "from sklearn.metrics import classification_report\n",
    "\n",
    "print(classification_report(y_test, y_predict))"
   ]
  },
  {
   "cell_type": "code",
   "execution_count": 174,
   "metadata": {},
   "outputs": [
    {
     "data": {
      "text/plain": [
       "0.9523809523809523"
      ]
     },
     "execution_count": 174,
     "metadata": {},
     "output_type": "execute_result"
    }
   ],
   "source": [
    "from sklearn.metrics import accuracy_score\n",
    "accuracy_score(y_test, y_predict)"
   ]
  },
  {
   "cell_type": "markdown",
   "metadata": {},
   "source": [
    "# SequentialFeatureSelector"
   ]
  },
  {
   "cell_type": "code",
   "execution_count": 64,
   "metadata": {},
   "outputs": [
    {
     "data": {
      "text/plain": [
       "97768"
      ]
     },
     "execution_count": 64,
     "metadata": {},
     "output_type": "execute_result"
    }
   ],
   "source": [
    "df = pd.read_csv('final1.csv')\n",
    "\n",
    "df.fillna(0, inplace=True)\n",
    "\n",
    "df.head()\n",
    "df.size"
   ]
  },
  {
   "cell_type": "code",
   "execution_count": 65,
   "metadata": {},
   "outputs": [
    {
     "data": {
      "text/html": [
       "<div>\n",
       "<style scoped>\n",
       "    .dataframe tbody tr th:only-of-type {\n",
       "        vertical-align: middle;\n",
       "    }\n",
       "\n",
       "    .dataframe tbody tr th {\n",
       "        vertical-align: top;\n",
       "    }\n",
       "\n",
       "    .dataframe thead th {\n",
       "        text-align: right;\n",
       "    }\n",
       "</style>\n",
       "<table border=\"1\" class=\"dataframe\">\n",
       "  <thead>\n",
       "    <tr style=\"text-align: right;\">\n",
       "      <th></th>\n",
       "      <th>Unnamed: 0</th>\n",
       "      <th>frameTime</th>\n",
       "      <th>pcm_RMSenergy_sma_max</th>\n",
       "      <th>pcm_RMSenergy_sma_min</th>\n",
       "      <th>pcm_RMSenergy_sma_range</th>\n",
       "      <th>pcm_RMSenergy_sma_maxPos</th>\n",
       "      <th>pcm_RMSenergy_sma_minPos</th>\n",
       "      <th>pcm_RMSenergy_sma_amean</th>\n",
       "      <th>pcm_RMSenergy_sma_linregc1</th>\n",
       "      <th>pcm_RMSenergy_sma_linregc2</th>\n",
       "      <th>...</th>\n",
       "      <th>PCA20</th>\n",
       "      <th>PCA21</th>\n",
       "      <th>PCA22</th>\n",
       "      <th>PCA23</th>\n",
       "      <th>PCA24</th>\n",
       "      <th>PCA25</th>\n",
       "      <th>PCA26</th>\n",
       "      <th>PCA27</th>\n",
       "      <th>PCA28</th>\n",
       "      <th>PCA29</th>\n",
       "    </tr>\n",
       "  </thead>\n",
       "  <tbody>\n",
       "    <tr>\n",
       "      <th>0</th>\n",
       "      <td>0</td>\n",
       "      <td>0</td>\n",
       "      <td>0.010374</td>\n",
       "      <td>0.000102</td>\n",
       "      <td>0.010271</td>\n",
       "      <td>82</td>\n",
       "      <td>149</td>\n",
       "      <td>0.002477</td>\n",
       "      <td>-3.260000e-06</td>\n",
       "      <td>0.002743</td>\n",
       "      <td>...</td>\n",
       "      <td>-0.6930</td>\n",
       "      <td>-0.463</td>\n",
       "      <td>-0.96600</td>\n",
       "      <td>-0.3270</td>\n",
       "      <td>-1.2700</td>\n",
       "      <td>0.608</td>\n",
       "      <td>-1.070000</td>\n",
       "      <td>0.2550</td>\n",
       "      <td>-0.1020</td>\n",
       "      <td>-0.62500</td>\n",
       "    </tr>\n",
       "    <tr>\n",
       "      <th>1</th>\n",
       "      <td>1</td>\n",
       "      <td>0</td>\n",
       "      <td>0.008003</td>\n",
       "      <td>0.000108</td>\n",
       "      <td>0.007896</td>\n",
       "      <td>88</td>\n",
       "      <td>5</td>\n",
       "      <td>0.001813</td>\n",
       "      <td>5.450000e-06</td>\n",
       "      <td>0.001394</td>\n",
       "      <td>...</td>\n",
       "      <td>0.1550</td>\n",
       "      <td>0.183</td>\n",
       "      <td>0.00799</td>\n",
       "      <td>0.0498</td>\n",
       "      <td>-0.1390</td>\n",
       "      <td>0.105</td>\n",
       "      <td>-0.026000</td>\n",
       "      <td>-0.1480</td>\n",
       "      <td>0.2150</td>\n",
       "      <td>0.15900</td>\n",
       "    </tr>\n",
       "    <tr>\n",
       "      <th>2</th>\n",
       "      <td>2</td>\n",
       "      <td>0</td>\n",
       "      <td>0.011478</td>\n",
       "      <td>0.000100</td>\n",
       "      <td>0.011378</td>\n",
       "      <td>83</td>\n",
       "      <td>194</td>\n",
       "      <td>0.003527</td>\n",
       "      <td>-2.220000e-06</td>\n",
       "      <td>0.003756</td>\n",
       "      <td>...</td>\n",
       "      <td>0.0493</td>\n",
       "      <td>-0.421</td>\n",
       "      <td>-0.62400</td>\n",
       "      <td>-0.2580</td>\n",
       "      <td>-0.4720</td>\n",
       "      <td>-0.738</td>\n",
       "      <td>0.144000</td>\n",
       "      <td>-0.0845</td>\n",
       "      <td>-0.5560</td>\n",
       "      <td>0.10200</td>\n",
       "    </tr>\n",
       "    <tr>\n",
       "      <th>3</th>\n",
       "      <td>3</td>\n",
       "      <td>0</td>\n",
       "      <td>0.005419</td>\n",
       "      <td>0.000100</td>\n",
       "      <td>0.005319</td>\n",
       "      <td>109</td>\n",
       "      <td>206</td>\n",
       "      <td>0.001289</td>\n",
       "      <td>4.160000e-07</td>\n",
       "      <td>0.001246</td>\n",
       "      <td>...</td>\n",
       "      <td>0.3230</td>\n",
       "      <td>0.272</td>\n",
       "      <td>-0.20700</td>\n",
       "      <td>0.1250</td>\n",
       "      <td>0.4720</td>\n",
       "      <td>-0.502</td>\n",
       "      <td>0.620000</td>\n",
       "      <td>0.0931</td>\n",
       "      <td>0.1860</td>\n",
       "      <td>0.11700</td>\n",
       "    </tr>\n",
       "    <tr>\n",
       "      <th>4</th>\n",
       "      <td>4</td>\n",
       "      <td>0</td>\n",
       "      <td>0.011950</td>\n",
       "      <td>0.000100</td>\n",
       "      <td>0.011850</td>\n",
       "      <td>79</td>\n",
       "      <td>31</td>\n",
       "      <td>0.002273</td>\n",
       "      <td>9.090000e-06</td>\n",
       "      <td>0.001574</td>\n",
       "      <td>...</td>\n",
       "      <td>-0.0194</td>\n",
       "      <td>-0.103</td>\n",
       "      <td>0.02070</td>\n",
       "      <td>-0.0748</td>\n",
       "      <td>-0.0805</td>\n",
       "      <td>0.178</td>\n",
       "      <td>0.000565</td>\n",
       "      <td>-0.0733</td>\n",
       "      <td>-0.0262</td>\n",
       "      <td>0.00923</td>\n",
       "    </tr>\n",
       "  </tbody>\n",
       "</table>\n",
       "<p>5 rows × 484 columns</p>\n",
       "</div>"
      ],
      "text/plain": [
       "   Unnamed: 0  frameTime  pcm_RMSenergy_sma_max  pcm_RMSenergy_sma_min  \\\n",
       "0           0          0               0.010374               0.000102   \n",
       "1           1          0               0.008003               0.000108   \n",
       "2           2          0               0.011478               0.000100   \n",
       "3           3          0               0.005419               0.000100   \n",
       "4           4          0               0.011950               0.000100   \n",
       "\n",
       "   pcm_RMSenergy_sma_range  pcm_RMSenergy_sma_maxPos  \\\n",
       "0                 0.010271                        82   \n",
       "1                 0.007896                        88   \n",
       "2                 0.011378                        83   \n",
       "3                 0.005319                       109   \n",
       "4                 0.011850                        79   \n",
       "\n",
       "   pcm_RMSenergy_sma_minPos  pcm_RMSenergy_sma_amean  \\\n",
       "0                       149                 0.002477   \n",
       "1                         5                 0.001813   \n",
       "2                       194                 0.003527   \n",
       "3                       206                 0.001289   \n",
       "4                        31                 0.002273   \n",
       "\n",
       "   pcm_RMSenergy_sma_linregc1  pcm_RMSenergy_sma_linregc2  ...   PCA20  PCA21  \\\n",
       "0               -3.260000e-06                    0.002743  ... -0.6930 -0.463   \n",
       "1                5.450000e-06                    0.001394  ...  0.1550  0.183   \n",
       "2               -2.220000e-06                    0.003756  ...  0.0493 -0.421   \n",
       "3                4.160000e-07                    0.001246  ...  0.3230  0.272   \n",
       "4                9.090000e-06                    0.001574  ... -0.0194 -0.103   \n",
       "\n",
       "     PCA22   PCA23   PCA24  PCA25     PCA26   PCA27   PCA28    PCA29  \n",
       "0 -0.96600 -0.3270 -1.2700  0.608 -1.070000  0.2550 -0.1020 -0.62500  \n",
       "1  0.00799  0.0498 -0.1390  0.105 -0.026000 -0.1480  0.2150  0.15900  \n",
       "2 -0.62400 -0.2580 -0.4720 -0.738  0.144000 -0.0845 -0.5560  0.10200  \n",
       "3 -0.20700  0.1250  0.4720 -0.502  0.620000  0.0931  0.1860  0.11700  \n",
       "4  0.02070 -0.0748 -0.0805  0.178  0.000565 -0.0733 -0.0262  0.00923  \n",
       "\n",
       "[5 rows x 484 columns]"
      ]
     },
     "execution_count": 65,
     "metadata": {},
     "output_type": "execute_result"
    }
   ],
   "source": [
    "df.head()"
   ]
  },
  {
   "cell_type": "code",
   "execution_count": 66,
   "metadata": {},
   "outputs": [],
   "source": [
    "columns = df.columns.tolist()\n",
    "\n",
    "features = [f for f in filter(lambda x: x not in ['label', 'frameTime','filename'], columns)]\n",
    "target = ['label']\n",
    "\n",
    "feature_df = df[features]\n",
    "\n",
    "X = np.asarray(feature_df)\n",
    "\n",
    "y = np.asarray(df['label'])\n"
   ]
  },
  {
   "cell_type": "code",
   "execution_count": 67,
   "metadata": {},
   "outputs": [],
   "source": [
    "from sklearn.model_selection import train_test_split\n",
    "\n",
    "\n",
    "X_train, X_test, y_train, y_test = train_test_split(feature_df, df['label'], test_size=0.1, random_state=4)\n",
    "\n",
    "X_train.shapefrom sklearn.preprocessing import MinMaxScaler\n",
    "\n",
    "scaler = MinMaxScaler()\n",
    "scaler.fit(X)\n",
    "\n",
    "X = scaler.transform(X)"
   ]
  },
  {
   "cell_type": "code",
   "execution_count": 68,
   "metadata": {},
   "outputs": [
    {
     "data": {
      "text/plain": [
       "(181, 481)"
      ]
     },
     "execution_count": 68,
     "metadata": {},
     "output_type": "execute_result"
    }
   ],
   "source": [
    "from sklearn.model_selection import train_test_split\n",
    "\n",
    "\n",
    "X_train, X_test, y_train, y_test = train_test_split(feature_df, df['label'], test_size=0.1, random_state=4)\n",
    "\n",
    "X_train.shape"
   ]
  },
  {
   "cell_type": "markdown",
   "metadata": {},
   "source": [
    "<img src=\"sequentialModelDiagram.png\">"
   ]
  },
  {
   "cell_type": "code",
   "execution_count": 91,
   "metadata": {},
   "outputs": [],
   "source": [
    "from mlxtend.feature_selection import SequentialFeatureSelector as SFS\n",
    "from sklearn.svm import SVC \n",
    "classifier = SVC(gamma='auto', C=10)\n",
    "# Sequential Forward Selection(sfs)\n",
    "feature_selector = SFS(SVC(kernel='rbf', C=1000, gamma='auto'),\n",
    "           k_features=20,\n",
    "           forward=True,\n",
    "           verbose=2,\n",
    "           scoring='roc_auc',\n",
    "           cv=4)"
   ]
  },
  {
   "cell_type": "code",
   "execution_count": 92,
   "metadata": {},
   "outputs": [
    {
     "name": "stderr",
     "output_type": "stream",
     "text": [
      "[Parallel(n_jobs=1)]: Using backend SequentialBackend with 1 concurrent workers.\n",
      "[Parallel(n_jobs=1)]: Done   1 out of   1 | elapsed:    0.0s remaining:    0.0s\n",
      "[Parallel(n_jobs=1)]: Done 481 out of 481 | elapsed:   14.0s finished\n",
      "\n",
      "[2020-11-22 12:37:03] Features: 1/20 -- score: 1.0[Parallel(n_jobs=1)]: Using backend SequentialBackend with 1 concurrent workers.\n",
      "[Parallel(n_jobs=1)]: Done   1 out of   1 | elapsed:    0.0s remaining:    0.0s\n",
      "[Parallel(n_jobs=1)]: Done 480 out of 480 | elapsed:    6.3s finished\n",
      "\n",
      "[2020-11-22 12:37:09] Features: 2/20 -- score: 1.0[Parallel(n_jobs=1)]: Using backend SequentialBackend with 1 concurrent workers.\n",
      "[Parallel(n_jobs=1)]: Done   1 out of   1 | elapsed:    0.0s remaining:    0.0s\n",
      "[Parallel(n_jobs=1)]: Done 479 out of 479 | elapsed:    6.3s finished\n",
      "\n",
      "[2020-11-22 12:37:16] Features: 3/20 -- score: 1.0[Parallel(n_jobs=1)]: Using backend SequentialBackend with 1 concurrent workers.\n",
      "[Parallel(n_jobs=1)]: Done   1 out of   1 | elapsed:    0.0s remaining:    0.0s\n",
      "[Parallel(n_jobs=1)]: Done 478 out of 478 | elapsed:    6.9s finished\n",
      "\n",
      "[2020-11-22 12:37:23] Features: 4/20 -- score: 1.0[Parallel(n_jobs=1)]: Using backend SequentialBackend with 1 concurrent workers.\n",
      "[Parallel(n_jobs=1)]: Done   1 out of   1 | elapsed:    0.0s remaining:    0.0s\n",
      "[Parallel(n_jobs=1)]: Done 477 out of 477 | elapsed:    6.4s finished\n",
      "\n",
      "[2020-11-22 12:37:29] Features: 5/20 -- score: 1.0[Parallel(n_jobs=1)]: Using backend SequentialBackend with 1 concurrent workers.\n",
      "[Parallel(n_jobs=1)]: Done   1 out of   1 | elapsed:    0.0s remaining:    0.0s\n",
      "[Parallel(n_jobs=1)]: Done 476 out of 476 | elapsed:    6.4s finished\n",
      "\n",
      "[2020-11-22 12:37:36] Features: 6/20 -- score: 1.0[Parallel(n_jobs=1)]: Using backend SequentialBackend with 1 concurrent workers.\n",
      "[Parallel(n_jobs=1)]: Done   1 out of   1 | elapsed:    0.0s remaining:    0.0s\n",
      "[Parallel(n_jobs=1)]: Done 475 out of 475 | elapsed:    6.4s finished\n",
      "\n",
      "[2020-11-22 12:37:42] Features: 7/20 -- score: 1.0[Parallel(n_jobs=1)]: Using backend SequentialBackend with 1 concurrent workers.\n",
      "[Parallel(n_jobs=1)]: Done   1 out of   1 | elapsed:    0.0s remaining:    0.0s\n",
      "[Parallel(n_jobs=1)]: Done 474 out of 474 | elapsed:    6.3s finished\n",
      "\n",
      "[2020-11-22 12:37:49] Features: 8/20 -- score: 1.0[Parallel(n_jobs=1)]: Using backend SequentialBackend with 1 concurrent workers.\n",
      "[Parallel(n_jobs=1)]: Done   1 out of   1 | elapsed:    0.0s remaining:    0.0s\n",
      "[Parallel(n_jobs=1)]: Done 473 out of 473 | elapsed:    6.2s finished\n",
      "\n",
      "[2020-11-22 12:37:55] Features: 9/20 -- score: 1.0[Parallel(n_jobs=1)]: Using backend SequentialBackend with 1 concurrent workers.\n",
      "[Parallel(n_jobs=1)]: Done   1 out of   1 | elapsed:    0.0s remaining:    0.0s\n",
      "[Parallel(n_jobs=1)]: Done 472 out of 472 | elapsed:    6.3s finished\n",
      "\n",
      "[2020-11-22 12:38:02] Features: 10/20 -- score: 1.0[Parallel(n_jobs=1)]: Using backend SequentialBackend with 1 concurrent workers.\n",
      "[Parallel(n_jobs=1)]: Done   1 out of   1 | elapsed:    0.0s remaining:    0.0s\n",
      "[Parallel(n_jobs=1)]: Done 471 out of 471 | elapsed:    5.8s finished\n",
      "\n",
      "[2020-11-22 12:38:08] Features: 11/20 -- score: 1.0[Parallel(n_jobs=1)]: Using backend SequentialBackend with 1 concurrent workers.\n",
      "[Parallel(n_jobs=1)]: Done   1 out of   1 | elapsed:    0.0s remaining:    0.0s\n",
      "[Parallel(n_jobs=1)]: Done 470 out of 470 | elapsed:    6.6s finished\n",
      "\n",
      "[2020-11-22 12:38:14] Features: 12/20 -- score: 1.0[Parallel(n_jobs=1)]: Using backend SequentialBackend with 1 concurrent workers.\n",
      "[Parallel(n_jobs=1)]: Done   1 out of   1 | elapsed:    0.0s remaining:    0.0s\n",
      "[Parallel(n_jobs=1)]: Done 469 out of 469 | elapsed:    6.3s finished\n",
      "\n",
      "[2020-11-22 12:38:21] Features: 13/20 -- score: 1.0[Parallel(n_jobs=1)]: Using backend SequentialBackend with 1 concurrent workers.\n",
      "[Parallel(n_jobs=1)]: Done   1 out of   1 | elapsed:    0.0s remaining:    0.0s\n",
      "[Parallel(n_jobs=1)]: Done 468 out of 468 | elapsed:    5.8s finished\n",
      "\n",
      "[2020-11-22 12:38:27] Features: 14/20 -- score: 1.0[Parallel(n_jobs=1)]: Using backend SequentialBackend with 1 concurrent workers.\n",
      "[Parallel(n_jobs=1)]: Done   1 out of   1 | elapsed:    0.0s remaining:    0.0s\n",
      "[Parallel(n_jobs=1)]: Done 467 out of 467 | elapsed:    5.8s finished\n",
      "\n",
      "[2020-11-22 12:38:32] Features: 15/20 -- score: 1.0[Parallel(n_jobs=1)]: Using backend SequentialBackend with 1 concurrent workers.\n",
      "[Parallel(n_jobs=1)]: Done   1 out of   1 | elapsed:    0.0s remaining:    0.0s\n",
      "[Parallel(n_jobs=1)]: Done 466 out of 466 | elapsed:    5.7s finished\n",
      "\n",
      "[2020-11-22 12:38:38] Features: 16/20 -- score: 1.0[Parallel(n_jobs=1)]: Using backend SequentialBackend with 1 concurrent workers.\n",
      "[Parallel(n_jobs=1)]: Done   1 out of   1 | elapsed:    0.0s remaining:    0.0s\n",
      "[Parallel(n_jobs=1)]: Done 465 out of 465 | elapsed:    5.7s finished\n",
      "\n",
      "[2020-11-22 12:38:44] Features: 17/20 -- score: 1.0[Parallel(n_jobs=1)]: Using backend SequentialBackend with 1 concurrent workers.\n",
      "[Parallel(n_jobs=1)]: Done   1 out of   1 | elapsed:    0.0s remaining:    0.0s\n",
      "[Parallel(n_jobs=1)]: Done 464 out of 464 | elapsed:    5.7s finished\n",
      "\n",
      "[2020-11-22 12:38:50] Features: 18/20 -- score: 1.0[Parallel(n_jobs=1)]: Using backend SequentialBackend with 1 concurrent workers.\n",
      "[Parallel(n_jobs=1)]: Done   1 out of   1 | elapsed:    0.0s remaining:    0.0s\n",
      "[Parallel(n_jobs=1)]: Done 463 out of 463 | elapsed:    5.8s finished\n",
      "\n",
      "[2020-11-22 12:38:56] Features: 19/20 -- score: 1.0[Parallel(n_jobs=1)]: Using backend SequentialBackend with 1 concurrent workers.\n",
      "[Parallel(n_jobs=1)]: Done   1 out of   1 | elapsed:    0.0s remaining:    0.0s\n",
      "[Parallel(n_jobs=1)]: Done 462 out of 462 | elapsed:    5.7s finished\n",
      "\n",
      "[2020-11-22 12:39:02] Features: 20/20 -- score: 1.0"
     ]
    },
    {
     "data": {
      "text/plain": [
       "(0, 1, 2, 3, 6, 7, 8, 9, 10, 11, 12, 13, 15, 18, 19, 20, 22, 23, 24, 30)"
      ]
     },
     "execution_count": 92,
     "metadata": {},
     "output_type": "execute_result"
    }
   ],
   "source": [
    "feature_selector.fit(X_train, y_train)\n",
    "feature_selector.k_feature_idx_  "
   ]
  },
  {
   "cell_type": "code",
   "execution_count": 93,
   "metadata": {},
   "outputs": [
    {
     "data": {
      "text/plain": [
       "Index(['Unnamed: 0', 'pcm_RMSenergy_sma_max', 'pcm_RMSenergy_sma_min',\n",
       "       'pcm_RMSenergy_sma_range', 'pcm_RMSenergy_sma_amean',\n",
       "       'pcm_RMSenergy_sma_linregc1', 'pcm_RMSenergy_sma_linregc2',\n",
       "       'pcm_RMSenergy_sma_linregerrQ', 'pcm_RMSenergy_sma_stddev',\n",
       "       'pcm_RMSenergy_sma_skewness', 'pcm_RMSenergy_sma_kurtosis',\n",
       "       'pcm_fftMag_mfcc_sma[1]_max', 'pcm_fftMag_mfcc_sma[1]_range',\n",
       "       'pcm_fftMag_mfcc_sma[1]_amean', 'pcm_fftMag_mfcc_sma[1]_linregc1',\n",
       "       'pcm_fftMag_mfcc_sma[1]_linregc2', 'pcm_fftMag_mfcc_sma[1]_stddev',\n",
       "       'pcm_fftMag_mfcc_sma[1]_skewness', 'pcm_fftMag_mfcc_sma[1]_kurtosis',\n",
       "       'pcm_fftMag_mfcc_sma[2]_amean'],\n",
       "      dtype='object')"
      ]
     },
     "execution_count": 93,
     "metadata": {},
     "output_type": "execute_result"
    }
   ],
   "source": [
    "filtered_features= df[features].columns[list(feature_selector.k_feature_idx_)]\n",
    "filtered_features"
   ]
  },
  {
   "cell_type": "code",
   "execution_count": 100,
   "metadata": {},
   "outputs": [],
   "source": [
    "from sklearn import svm\n",
    "\n",
    "\n",
    "classifier = svm.SVC(kernel='rbf',gamma=\"auto\",C=100)\n",
    "\n",
    "classifier.fit(X_train[filtered_features], y_train)\n",
    "\n",
    "y_predict = classifier.predict(X_test[filtered_features])"
   ]
  },
  {
   "cell_type": "code",
   "execution_count": 101,
   "metadata": {},
   "outputs": [
    {
     "name": "stdout",
     "output_type": "stream",
     "text": [
      "              precision    recall  f1-score   support\n",
      "\n",
      "           0       1.00      0.77      0.87        13\n",
      "           1       0.73      1.00      0.84         8\n",
      "\n",
      "   micro avg       0.86      0.86      0.86        21\n",
      "   macro avg       0.86      0.88      0.86        21\n",
      "weighted avg       0.90      0.86      0.86        21\n",
      "\n"
     ]
    }
   ],
   "source": [
    "from sklearn.metrics import classification_report\n",
    "\n",
    "print(classification_report(y_test, y_predict))"
   ]
  },
  {
   "cell_type": "code",
   "execution_count": 102,
   "metadata": {},
   "outputs": [
    {
     "data": {
      "text/plain": [
       "0.8571428571428571"
      ]
     },
     "execution_count": 102,
     "metadata": {},
     "output_type": "execute_result"
    }
   ],
   "source": [
    "from sklearn.metrics import accuracy_score\n",
    "accuracy_score(y_test, y_predict)"
   ]
  }
 ],
 "metadata": {
  "kernelspec": {
   "display_name": "'Python Interactive'",
   "language": "python",
   "name": "63476874-fa36-435a-a3b9-898b5473e28f"
  },
  "language_info": {
   "codemirror_mode": {
    "name": "ipython",
    "version": 3
   },
   "file_extension": ".py",
   "mimetype": "text/x-python",
   "name": "python",
   "nbconvert_exporter": "python",
   "pygments_lexer": "ipython3",
   "version": "3.7.3"
  }
 },
 "nbformat": 4,
 "nbformat_minor": 2
}
