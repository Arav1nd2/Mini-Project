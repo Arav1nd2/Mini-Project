{
 "cells": [
  {
   "cell_type": "markdown",
   "metadata": {},
   "source": [
    "## Dysarthric Speech Classifier"
   ]
  },
  {
   "cell_type": "code",
   "execution_count": 2,
   "metadata": {},
   "outputs": [],
   "source": [
    "import pandas as pd\n",
    "import numpy as np"
   ]
  },
  {
   "cell_type": "code",
   "execution_count": 9,
   "metadata": {},
   "outputs": [],
   "source": [
    "# Remove unnamed columns \n",
    "def remove_cols(df, cols=['unnamed']):\n",
    "    for c in cols:\n",
    "        df.drop(df.columns[df.columns.str.contains(c ,case = False)],axis = 1, inplace = True)\n"
   ]
  },
  {
   "cell_type": "markdown",
   "metadata": {},
   "source": [
    "### Read all data and store them in appropriate dataframes"
   ]
  },
  {
   "cell_type": "code",
   "execution_count": 11,
   "metadata": {},
   "outputs": [
    {
     "data": {
      "text/html": [
       "<div>\n",
       "<style scoped>\n",
       "    .dataframe tbody tr th:only-of-type {\n",
       "        vertical-align: middle;\n",
       "    }\n",
       "\n",
       "    .dataframe tbody tr th {\n",
       "        vertical-align: top;\n",
       "    }\n",
       "\n",
       "    .dataframe thead th {\n",
       "        text-align: right;\n",
       "    }\n",
       "</style>\n",
       "<table border=\"1\" class=\"dataframe\">\n",
       "  <thead>\n",
       "    <tr style=\"text-align: right;\">\n",
       "      <th></th>\n",
       "      <th>PCA0</th>\n",
       "      <th>PCA1</th>\n",
       "      <th>PCA2</th>\n",
       "      <th>PCA3</th>\n",
       "      <th>PCA4</th>\n",
       "      <th>PCA5</th>\n",
       "      <th>PCA6</th>\n",
       "      <th>PCA7</th>\n",
       "      <th>PCA8</th>\n",
       "      <th>PCA9</th>\n",
       "      <th>...</th>\n",
       "      <th>PCA22</th>\n",
       "      <th>PCA23</th>\n",
       "      <th>PCA24</th>\n",
       "      <th>PCA25</th>\n",
       "      <th>PCA26</th>\n",
       "      <th>PCA27</th>\n",
       "      <th>PCA28</th>\n",
       "      <th>PCA29</th>\n",
       "      <th>filename</th>\n",
       "      <th>label</th>\n",
       "    </tr>\n",
       "  </thead>\n",
       "  <tbody>\n",
       "    <tr>\n",
       "      <th>0</th>\n",
       "      <td>6.072951</td>\n",
       "      <td>-8.379528</td>\n",
       "      <td>5.577261</td>\n",
       "      <td>-3.415463</td>\n",
       "      <td>-0.291024</td>\n",
       "      <td>-2.599755</td>\n",
       "      <td>2.666768</td>\n",
       "      <td>-0.311165</td>\n",
       "      <td>0.753887</td>\n",
       "      <td>7.794293</td>\n",
       "      <td>...</td>\n",
       "      <td>2.448468</td>\n",
       "      <td>-1.973694</td>\n",
       "      <td>0.418576</td>\n",
       "      <td>4.317791</td>\n",
       "      <td>0.548730</td>\n",
       "      <td>-0.908461</td>\n",
       "      <td>-0.378939</td>\n",
       "      <td>-2.327045</td>\n",
       "      <td>D17</td>\n",
       "      <td>1.0</td>\n",
       "    </tr>\n",
       "    <tr>\n",
       "      <th>1</th>\n",
       "      <td>9.121491</td>\n",
       "      <td>-5.841063</td>\n",
       "      <td>2.433022</td>\n",
       "      <td>-0.960440</td>\n",
       "      <td>1.741790</td>\n",
       "      <td>-5.793687</td>\n",
       "      <td>0.819953</td>\n",
       "      <td>-2.056339</td>\n",
       "      <td>-1.087733</td>\n",
       "      <td>1.881972</td>\n",
       "      <td>...</td>\n",
       "      <td>-0.294742</td>\n",
       "      <td>-0.906101</td>\n",
       "      <td>-0.342386</td>\n",
       "      <td>0.868768</td>\n",
       "      <td>-2.512790</td>\n",
       "      <td>2.699075</td>\n",
       "      <td>3.160857</td>\n",
       "      <td>-0.871171</td>\n",
       "      <td>D2</td>\n",
       "      <td>1.0</td>\n",
       "    </tr>\n",
       "    <tr>\n",
       "      <th>2</th>\n",
       "      <td>6.829803</td>\n",
       "      <td>-4.761638</td>\n",
       "      <td>1.156062</td>\n",
       "      <td>6.030174</td>\n",
       "      <td>-4.836396</td>\n",
       "      <td>1.171264</td>\n",
       "      <td>3.120006</td>\n",
       "      <td>0.119320</td>\n",
       "      <td>3.211237</td>\n",
       "      <td>1.073850</td>\n",
       "      <td>...</td>\n",
       "      <td>-0.566967</td>\n",
       "      <td>-1.356335</td>\n",
       "      <td>0.961374</td>\n",
       "      <td>-0.504994</td>\n",
       "      <td>-1.590274</td>\n",
       "      <td>-0.311877</td>\n",
       "      <td>-0.006198</td>\n",
       "      <td>0.434887</td>\n",
       "      <td>D16</td>\n",
       "      <td>1.0</td>\n",
       "    </tr>\n",
       "    <tr>\n",
       "      <th>3</th>\n",
       "      <td>7.105508</td>\n",
       "      <td>-5.262632</td>\n",
       "      <td>4.549543</td>\n",
       "      <td>-2.271064</td>\n",
       "      <td>-0.839390</td>\n",
       "      <td>-4.274856</td>\n",
       "      <td>-0.235649</td>\n",
       "      <td>0.942712</td>\n",
       "      <td>-0.233031</td>\n",
       "      <td>-0.243069</td>\n",
       "      <td>...</td>\n",
       "      <td>1.986139</td>\n",
       "      <td>-1.179298</td>\n",
       "      <td>1.185099</td>\n",
       "      <td>0.948335</td>\n",
       "      <td>-1.440725</td>\n",
       "      <td>1.456308</td>\n",
       "      <td>-0.048675</td>\n",
       "      <td>0.149327</td>\n",
       "      <td>D63</td>\n",
       "      <td>1.0</td>\n",
       "    </tr>\n",
       "    <tr>\n",
       "      <th>4</th>\n",
       "      <td>4.020848</td>\n",
       "      <td>-2.693716</td>\n",
       "      <td>-7.290392</td>\n",
       "      <td>-2.415865</td>\n",
       "      <td>-5.678421</td>\n",
       "      <td>0.218685</td>\n",
       "      <td>1.853003</td>\n",
       "      <td>-6.123078</td>\n",
       "      <td>-1.589755</td>\n",
       "      <td>-4.136185</td>\n",
       "      <td>...</td>\n",
       "      <td>2.039828</td>\n",
       "      <td>-0.797543</td>\n",
       "      <td>-0.510078</td>\n",
       "      <td>2.104387</td>\n",
       "      <td>1.501729</td>\n",
       "      <td>-0.061067</td>\n",
       "      <td>-1.635011</td>\n",
       "      <td>-0.783493</td>\n",
       "      <td>D88</td>\n",
       "      <td>1.0</td>\n",
       "    </tr>\n",
       "  </tbody>\n",
       "</table>\n",
       "<p>5 rows × 32 columns</p>\n",
       "</div>"
      ],
      "text/plain": [
       "       PCA0      PCA1      PCA2      PCA3      PCA4      PCA5      PCA6  \\\n",
       "0  6.072951 -8.379528  5.577261 -3.415463 -0.291024 -2.599755  2.666768   \n",
       "1  9.121491 -5.841063  2.433022 -0.960440  1.741790 -5.793687  0.819953   \n",
       "2  6.829803 -4.761638  1.156062  6.030174 -4.836396  1.171264  3.120006   \n",
       "3  7.105508 -5.262632  4.549543 -2.271064 -0.839390 -4.274856 -0.235649   \n",
       "4  4.020848 -2.693716 -7.290392 -2.415865 -5.678421  0.218685  1.853003   \n",
       "\n",
       "       PCA7      PCA8      PCA9  ...     PCA22     PCA23     PCA24     PCA25  \\\n",
       "0 -0.311165  0.753887  7.794293  ...  2.448468 -1.973694  0.418576  4.317791   \n",
       "1 -2.056339 -1.087733  1.881972  ... -0.294742 -0.906101 -0.342386  0.868768   \n",
       "2  0.119320  3.211237  1.073850  ... -0.566967 -1.356335  0.961374 -0.504994   \n",
       "3  0.942712 -0.233031 -0.243069  ...  1.986139 -1.179298  1.185099  0.948335   \n",
       "4 -6.123078 -1.589755 -4.136185  ...  2.039828 -0.797543 -0.510078  2.104387   \n",
       "\n",
       "      PCA26     PCA27     PCA28     PCA29  filename  label  \n",
       "0  0.548730 -0.908461 -0.378939 -2.327045       D17    1.0  \n",
       "1 -2.512790  2.699075  3.160857 -0.871171        D2    1.0  \n",
       "2 -1.590274 -0.311877 -0.006198  0.434887       D16    1.0  \n",
       "3 -1.440725  1.456308 -0.048675  0.149327       D63    1.0  \n",
       "4  1.501729 -0.061067 -1.635011 -0.783493       D88    1.0  \n",
       "\n",
       "[5 rows x 32 columns]"
      ]
     },
     "execution_count": 11,
     "metadata": {},
     "output_type": "execute_result"
    }
   ],
   "source": [
    "acoustic_df = pd.read_csv('Acoustic.csv', delimiter=';')\n",
    "glottal_df = pd.read_csv('Glottal.csv')\n",
    "pca_df = pd.read_csv('PCA.csv')\n",
    "\n",
    "name_label = glottal_df[['filename', 'label']]\n",
    "\n",
    "remove_cols(acoustic_df)\n",
    "remove_cols(glottal_df)\n",
    "remove_cols(pca_df)\n",
    "\n",
    "acoustic_df = pd.merge(acoustic_df, name_label, on='filename')\n",
    "pca_df = pd.merge(pca_df, name_label, on='filename')\n",
    "\n",
    "\n",
    "pca_df.head()"
   ]
  },
  {
   "cell_type": "markdown",
   "metadata": {},
   "source": [
    "## Building SVM using only Acoustic Features"
   ]
  },
  {
   "cell_type": "code",
   "execution_count": 13,
   "metadata": {},
   "outputs": [
    {
     "data": {
      "text/html": [
       "<div>\n",
       "<style scoped>\n",
       "    .dataframe tbody tr th:only-of-type {\n",
       "        vertical-align: middle;\n",
       "    }\n",
       "\n",
       "    .dataframe tbody tr th {\n",
       "        vertical-align: top;\n",
       "    }\n",
       "\n",
       "    .dataframe thead th {\n",
       "        text-align: right;\n",
       "    }\n",
       "</style>\n",
       "<table border=\"1\" class=\"dataframe\">\n",
       "  <thead>\n",
       "    <tr style=\"text-align: right;\">\n",
       "      <th></th>\n",
       "      <th>frameTime</th>\n",
       "      <th>pcm_RMSenergy_sma_max</th>\n",
       "      <th>pcm_RMSenergy_sma_min</th>\n",
       "      <th>pcm_RMSenergy_sma_range</th>\n",
       "      <th>pcm_RMSenergy_sma_maxPos</th>\n",
       "      <th>pcm_RMSenergy_sma_minPos</th>\n",
       "      <th>pcm_RMSenergy_sma_amean</th>\n",
       "      <th>pcm_RMSenergy_sma_linregc1</th>\n",
       "      <th>pcm_RMSenergy_sma_linregc2</th>\n",
       "      <th>pcm_RMSenergy_sma_linregerrQ</th>\n",
       "      <th>...</th>\n",
       "      <th>F0_sma_de_minPos</th>\n",
       "      <th>F0_sma_de_amean</th>\n",
       "      <th>F0_sma_de_linregc1</th>\n",
       "      <th>F0_sma_de_linregc2</th>\n",
       "      <th>F0_sma_de_linregerrQ</th>\n",
       "      <th>F0_sma_de_stddev</th>\n",
       "      <th>F0_sma_de_skewness</th>\n",
       "      <th>F0_sma_de_kurtosis</th>\n",
       "      <th>filename</th>\n",
       "      <th>label</th>\n",
       "    </tr>\n",
       "  </thead>\n",
       "  <tbody>\n",
       "    <tr>\n",
       "      <th>0</th>\n",
       "      <td>0.0</td>\n",
       "      <td>0.010374</td>\n",
       "      <td>0.000102</td>\n",
       "      <td>0.010271</td>\n",
       "      <td>82</td>\n",
       "      <td>149</td>\n",
       "      <td>0.002477</td>\n",
       "      <td>-3.260103e-06</td>\n",
       "      <td>0.002743</td>\n",
       "      <td>0.000012</td>\n",
       "      <td>...</td>\n",
       "      <td>108</td>\n",
       "      <td>-4.465805e-08</td>\n",
       "      <td>-0.040824</td>\n",
       "      <td>3.327116</td>\n",
       "      <td>216.6325</td>\n",
       "      <td>14.84479</td>\n",
       "      <td>-0.109238</td>\n",
       "      <td>18.603090</td>\n",
       "      <td>D17</td>\n",
       "      <td>1.0</td>\n",
       "    </tr>\n",
       "    <tr>\n",
       "      <th>1</th>\n",
       "      <td>0.0</td>\n",
       "      <td>0.008003</td>\n",
       "      <td>0.000108</td>\n",
       "      <td>0.007896</td>\n",
       "      <td>88</td>\n",
       "      <td>5</td>\n",
       "      <td>0.001813</td>\n",
       "      <td>5.445886e-06</td>\n",
       "      <td>0.001394</td>\n",
       "      <td>0.000006</td>\n",
       "      <td>...</td>\n",
       "      <td>54</td>\n",
       "      <td>7.152558e-08</td>\n",
       "      <td>-0.040462</td>\n",
       "      <td>3.115546</td>\n",
       "      <td>616.1741</td>\n",
       "      <td>24.88879</td>\n",
       "      <td>-0.001942</td>\n",
       "      <td>7.910336</td>\n",
       "      <td>D2</td>\n",
       "      <td>1.0</td>\n",
       "    </tr>\n",
       "    <tr>\n",
       "      <th>2</th>\n",
       "      <td>0.0</td>\n",
       "      <td>0.011478</td>\n",
       "      <td>0.000100</td>\n",
       "      <td>0.011378</td>\n",
       "      <td>83</td>\n",
       "      <td>194</td>\n",
       "      <td>0.003527</td>\n",
       "      <td>-2.217385e-06</td>\n",
       "      <td>0.003756</td>\n",
       "      <td>0.000014</td>\n",
       "      <td>...</td>\n",
       "      <td>52</td>\n",
       "      <td>2.177862e-08</td>\n",
       "      <td>-0.026768</td>\n",
       "      <td>2.770505</td>\n",
       "      <td>303.0591</td>\n",
       "      <td>17.48263</td>\n",
       "      <td>-0.062166</td>\n",
       "      <td>15.810880</td>\n",
       "      <td>D16</td>\n",
       "      <td>1.0</td>\n",
       "    </tr>\n",
       "    <tr>\n",
       "      <th>3</th>\n",
       "      <td>0.0</td>\n",
       "      <td>0.005419</td>\n",
       "      <td>0.000100</td>\n",
       "      <td>0.005319</td>\n",
       "      <td>109</td>\n",
       "      <td>206</td>\n",
       "      <td>0.001289</td>\n",
       "      <td>4.164633e-07</td>\n",
       "      <td>0.001246</td>\n",
       "      <td>0.000003</td>\n",
       "      <td>...</td>\n",
       "      <td>47</td>\n",
       "      <td>-3.250674e-08</td>\n",
       "      <td>-0.022291</td>\n",
       "      <td>2.307168</td>\n",
       "      <td>532.0298</td>\n",
       "      <td>23.10457</td>\n",
       "      <td>0.034254</td>\n",
       "      <td>12.496320</td>\n",
       "      <td>D63</td>\n",
       "      <td>1.0</td>\n",
       "    </tr>\n",
       "    <tr>\n",
       "      <th>4</th>\n",
       "      <td>0.0</td>\n",
       "      <td>0.011950</td>\n",
       "      <td>0.000100</td>\n",
       "      <td>0.011850</td>\n",
       "      <td>79</td>\n",
       "      <td>31</td>\n",
       "      <td>0.002273</td>\n",
       "      <td>9.087521e-06</td>\n",
       "      <td>0.001574</td>\n",
       "      <td>0.000008</td>\n",
       "      <td>...</td>\n",
       "      <td>86</td>\n",
       "      <td>-1.724449e-08</td>\n",
       "      <td>-0.006227</td>\n",
       "      <td>0.479484</td>\n",
       "      <td>155.4552</td>\n",
       "      <td>12.47128</td>\n",
       "      <td>-0.010072</td>\n",
       "      <td>21.192810</td>\n",
       "      <td>D88</td>\n",
       "      <td>1.0</td>\n",
       "    </tr>\n",
       "  </tbody>\n",
       "</table>\n",
       "<p>5 rows × 387 columns</p>\n",
       "</div>"
      ],
      "text/plain": [
       "   frameTime  pcm_RMSenergy_sma_max  pcm_RMSenergy_sma_min  \\\n",
       "0        0.0               0.010374               0.000102   \n",
       "1        0.0               0.008003               0.000108   \n",
       "2        0.0               0.011478               0.000100   \n",
       "3        0.0               0.005419               0.000100   \n",
       "4        0.0               0.011950               0.000100   \n",
       "\n",
       "   pcm_RMSenergy_sma_range  pcm_RMSenergy_sma_maxPos  \\\n",
       "0                 0.010271                        82   \n",
       "1                 0.007896                        88   \n",
       "2                 0.011378                        83   \n",
       "3                 0.005319                       109   \n",
       "4                 0.011850                        79   \n",
       "\n",
       "   pcm_RMSenergy_sma_minPos  pcm_RMSenergy_sma_amean  \\\n",
       "0                       149                 0.002477   \n",
       "1                         5                 0.001813   \n",
       "2                       194                 0.003527   \n",
       "3                       206                 0.001289   \n",
       "4                        31                 0.002273   \n",
       "\n",
       "   pcm_RMSenergy_sma_linregc1  pcm_RMSenergy_sma_linregc2  \\\n",
       "0               -3.260103e-06                    0.002743   \n",
       "1                5.445886e-06                    0.001394   \n",
       "2               -2.217385e-06                    0.003756   \n",
       "3                4.164633e-07                    0.001246   \n",
       "4                9.087521e-06                    0.001574   \n",
       "\n",
       "   pcm_RMSenergy_sma_linregerrQ  ...  F0_sma_de_minPos  F0_sma_de_amean  \\\n",
       "0                      0.000012  ...               108    -4.465805e-08   \n",
       "1                      0.000006  ...                54     7.152558e-08   \n",
       "2                      0.000014  ...                52     2.177862e-08   \n",
       "3                      0.000003  ...                47    -3.250674e-08   \n",
       "4                      0.000008  ...                86    -1.724449e-08   \n",
       "\n",
       "   F0_sma_de_linregc1  F0_sma_de_linregc2  F0_sma_de_linregerrQ  \\\n",
       "0           -0.040824            3.327116              216.6325   \n",
       "1           -0.040462            3.115546              616.1741   \n",
       "2           -0.026768            2.770505              303.0591   \n",
       "3           -0.022291            2.307168              532.0298   \n",
       "4           -0.006227            0.479484              155.4552   \n",
       "\n",
       "   F0_sma_de_stddev  F0_sma_de_skewness  F0_sma_de_kurtosis  filename  label  \n",
       "0          14.84479           -0.109238           18.603090       D17    1.0  \n",
       "1          24.88879           -0.001942            7.910336        D2    1.0  \n",
       "2          17.48263           -0.062166           15.810880       D16    1.0  \n",
       "3          23.10457            0.034254           12.496320       D63    1.0  \n",
       "4          12.47128           -0.010072           21.192810       D88    1.0  \n",
       "\n",
       "[5 rows x 387 columns]"
      ]
     },
     "execution_count": 13,
     "metadata": {},
     "output_type": "execute_result"
    }
   ],
   "source": [
    "df = acoustic_df\n",
    "\n",
    "df.fillna(0, inplace=True)\n",
    "\n",
    "df.head()"
   ]
  },
  {
   "cell_type": "code",
   "execution_count": 32,
   "metadata": {},
   "outputs": [
    {
     "name": "stdout",
     "output_type": "stream",
     "text": [
      "[[0.07914046 0.00549249 0.08052999 ... 0.5008237  0.20763629 0.1154856 ]\n",
      " [0.06037197 0.00773829 0.06137653 ... 0.83968152 0.2154339  0.04910635]\n",
      " [0.08788768 0.00455437 0.08945459 ... 0.5898174  0.2110572  0.09815192]\n",
      " ...\n",
      " [0.30587623 0.93119215 0.29396766 ... 0.54698785 0.22922141 0.04404861]\n",
      " [0.15888222 0.9641977  0.14366793 ... 0.29811483 0.22660843 0.19414331]\n",
      " [0.61571701 0.97210002 0.60869501 ... 0.54867674 0.20688717 0.05129345]]\n"
     ]
    }
   ],
   "source": [
    "columns = df.columns.tolist()\n",
    "\n",
    "features = [f for f in filter(lambda x: x not in ['label', 'frameTime', 'filename'], columns)]\n",
    "target = ['label']\n",
    "\n",
    "feature_df = df[features]\n",
    "\n",
    "\n",
    "from sklearn import preprocessing\n",
    "\n",
    "x = feature_df.values #returns a numpy array\n",
    "min_max_scaler = preprocessing.MinMaxScaler()\n",
    "x_scaled = min_max_scaler.fit_transform(x)\n",
    "feature_df = pd.DataFrame(x_scaled)\n",
    "\n",
    "X = np.asarray(feature_df)\n",
    "\n",
    "y = np.asarray(df['label'])\n",
    "\n",
    "print(X)"
   ]
  },
  {
   "cell_type": "code",
   "execution_count": 27,
   "metadata": {},
   "outputs": [],
   "source": [
    "from sklearn.preprocessing import MinMaxScaler\n",
    "\n",
    "scaler = MinMaxScaler()\n",
    "scaler.fit(X)\n",
    "\n",
    "X = scaler.transform(X)"
   ]
  },
  {
   "cell_type": "code",
   "execution_count": 34,
   "metadata": {},
   "outputs": [
    {
     "data": {
      "text/plain": [
       "(181, 384)"
      ]
     },
     "execution_count": 34,
     "metadata": {},
     "output_type": "execute_result"
    }
   ],
   "source": [
    "from sklearn.model_selection import train_test_split\n",
    "\n",
    "\n",
    "X_train, X_test, y_train, y_test = train_test_split(X, y, test_size=0.1, random_state=4)\n",
    "\n",
    "X_train.shape\n"
   ]
  },
  {
   "cell_type": "markdown",
   "metadata": {},
   "source": [
    "Build and measure accuracy of SVM"
   ]
  },
  {
   "cell_type": "code",
   "execution_count": 36,
   "metadata": {},
   "outputs": [
    {
     "name": "stdout",
     "output_type": "stream",
     "text": [
      "              precision    recall  f1-score   support\n",
      "\n",
      "         0.0       0.00      0.00      0.00        13\n",
      "         1.0       0.38      1.00      0.55         8\n",
      "\n",
      "    accuracy                           0.38        21\n",
      "   macro avg       0.19      0.50      0.28        21\n",
      "weighted avg       0.15      0.38      0.21        21\n",
      "\n"
     ]
    },
    {
     "name": "stderr",
     "output_type": "stream",
     "text": [
      "/home/aravind/anaconda3/lib/python3.8/site-packages/sklearn/metrics/_classification.py:1221: UndefinedMetricWarning: Precision and F-score are ill-defined and being set to 0.0 in labels with no predicted samples. Use `zero_division` parameter to control this behavior.\n",
      "  _warn_prf(average, modifier, msg_start, len(result))\n"
     ]
    }
   ],
   "source": [
    "from sklearn import svm\n",
    "from sklearn.metrics import classification_report\n",
    "\n",
    "\n",
    "classifier = svm.SVC(kernel='rbf', C=0.1, gamma=1)\n",
    "\n",
    "classifier.fit(X_train, y_train)\n",
    "\n",
    "y_predict = classifier.predict(X_test)\n",
    "\n",
    "print(classification_report(y_test, y_predict))"
   ]
  },
  {
   "cell_type": "code",
   "execution_count": 37,
   "metadata": {},
   "outputs": [
    {
     "data": {
      "text/plain": [
       "0.38095238095238093"
      ]
     },
     "execution_count": 37,
     "metadata": {},
     "output_type": "execute_result"
    }
   ],
   "source": [
    "from sklearn.metrics import accuracy_score\n",
    "accuracy_score(y_test, y_predict)"
   ]
  },
  {
   "cell_type": "markdown",
   "metadata": {},
   "source": [
    "# SequentialFeatureSelector"
   ]
  },
  {
   "cell_type": "markdown",
   "metadata": {},
   "source": [
    "<img src=\"sequentialModelDiagram.png\">"
   ]
  },
  {
   "cell_type": "code",
   "execution_count": 13,
   "metadata": {},
   "outputs": [],
   "source": [
    "from mlxtend.feature_selection import SequentialFeatureSelector as SFS\n",
    "from sklearn.svm import SVC \n",
    "classifier = SVC(gamma='auto', C=10)\n",
    "# Sequential Forward Selection(sfs)\n",
    "feature_selector = SFS(SVC(kernel='rbf', C=1000, gamma=0.1),\n",
    "           k_features=20,\n",
    "           forward=True,\n",
    "           verbose=2,\n",
    "           scoring='roc_auc',\n",
    "           cv=4)"
   ]
  },
  {
   "cell_type": "code",
   "execution_count": 14,
   "metadata": {},
   "outputs": [
    {
     "name": "stderr",
     "output_type": "stream",
     "text": [
      "[Parallel(n_jobs=1)]: Using backend SequentialBackend with 1 concurrent workers.\n",
      "[Parallel(n_jobs=1)]: Done   1 out of   1 | elapsed:    0.1s remaining:    0.0s\n",
      "[Parallel(n_jobs=1)]: Done 481 out of 481 | elapsed:   14.5s finished\n",
      "\n",
      "[2020-10-29 19:08:30] Features: 1/20 -- score: 1.0[Parallel(n_jobs=1)]: Using backend SequentialBackend with 1 concurrent workers.\n",
      "[Parallel(n_jobs=1)]: Done   1 out of   1 | elapsed:    0.0s remaining:    0.0s\n",
      "[Parallel(n_jobs=1)]: Done 480 out of 480 | elapsed:    8.3s finished\n",
      "\n",
      "[2020-10-29 19:08:38] Features: 2/20 -- score: 1.0[Parallel(n_jobs=1)]: Using backend SequentialBackend with 1 concurrent workers.\n",
      "[Parallel(n_jobs=1)]: Done   1 out of   1 | elapsed:    0.0s remaining:    0.0s\n",
      "[Parallel(n_jobs=1)]: Done 479 out of 479 | elapsed:    7.5s finished\n",
      "\n",
      "[2020-10-29 19:08:46] Features: 3/20 -- score: 1.0[Parallel(n_jobs=1)]: Using backend SequentialBackend with 1 concurrent workers.\n",
      "[Parallel(n_jobs=1)]: Done   1 out of   1 | elapsed:    0.0s remaining:    0.0s\n",
      "[Parallel(n_jobs=1)]: Done 478 out of 478 | elapsed:    7.5s finished\n",
      "\n",
      "[2020-10-29 19:08:53] Features: 4/20 -- score: 1.0[Parallel(n_jobs=1)]: Using backend SequentialBackend with 1 concurrent workers.\n",
      "[Parallel(n_jobs=1)]: Done   1 out of   1 | elapsed:    0.0s remaining:    0.0s\n",
      "[Parallel(n_jobs=1)]: Done 477 out of 477 | elapsed:    7.6s finished\n",
      "\n",
      "[2020-10-29 19:09:01] Features: 5/20 -- score: 1.0[Parallel(n_jobs=1)]: Using backend SequentialBackend with 1 concurrent workers.\n",
      "[Parallel(n_jobs=1)]: Done   1 out of   1 | elapsed:    0.0s remaining:    0.0s\n",
      "[Parallel(n_jobs=1)]: Done 476 out of 476 | elapsed:    8.5s finished\n",
      "\n",
      "[2020-10-29 19:09:10] Features: 6/20 -- score: 1.0[Parallel(n_jobs=1)]: Using backend SequentialBackend with 1 concurrent workers.\n",
      "[Parallel(n_jobs=1)]: Done   1 out of   1 | elapsed:    0.0s remaining:    0.0s\n",
      "[Parallel(n_jobs=1)]: Done 475 out of 475 | elapsed:    8.4s finished\n",
      "\n",
      "[2020-10-29 19:09:18] Features: 7/20 -- score: 1.0[Parallel(n_jobs=1)]: Using backend SequentialBackend with 1 concurrent workers.\n",
      "[Parallel(n_jobs=1)]: Done   1 out of   1 | elapsed:    0.0s remaining:    0.0s\n",
      "[Parallel(n_jobs=1)]: Done 474 out of 474 | elapsed:    8.4s finished\n",
      "\n",
      "[2020-10-29 19:09:26] Features: 8/20 -- score: 1.0[Parallel(n_jobs=1)]: Using backend SequentialBackend with 1 concurrent workers.\n",
      "[Parallel(n_jobs=1)]: Done   1 out of   1 | elapsed:    0.0s remaining:    0.0s\n",
      "[Parallel(n_jobs=1)]: Done 473 out of 473 | elapsed:    9.3s finished\n",
      "\n",
      "[2020-10-29 19:09:36] Features: 9/20 -- score: 1.0[Parallel(n_jobs=1)]: Using backend SequentialBackend with 1 concurrent workers.\n",
      "[Parallel(n_jobs=1)]: Done   1 out of   1 | elapsed:    0.0s remaining:    0.0s\n",
      "[Parallel(n_jobs=1)]: Done 472 out of 472 | elapsed:    7.9s finished\n",
      "\n",
      "[2020-10-29 19:09:44] Features: 10/20 -- score: 1.0[Parallel(n_jobs=1)]: Using backend SequentialBackend with 1 concurrent workers.\n",
      "[Parallel(n_jobs=1)]: Done   1 out of   1 | elapsed:    0.0s remaining:    0.0s\n",
      "[Parallel(n_jobs=1)]: Done 471 out of 471 | elapsed:    7.5s finished\n",
      "\n",
      "[2020-10-29 19:09:51] Features: 11/20 -- score: 1.0[Parallel(n_jobs=1)]: Using backend SequentialBackend with 1 concurrent workers.\n",
      "[Parallel(n_jobs=1)]: Done   1 out of   1 | elapsed:    0.0s remaining:    0.0s\n",
      "[Parallel(n_jobs=1)]: Done 470 out of 470 | elapsed:    7.3s finished\n",
      "\n",
      "[2020-10-29 19:09:58] Features: 12/20 -- score: 1.0[Parallel(n_jobs=1)]: Using backend SequentialBackend with 1 concurrent workers.\n",
      "[Parallel(n_jobs=1)]: Done   1 out of   1 | elapsed:    0.0s remaining:    0.0s\n",
      "[Parallel(n_jobs=1)]: Done 469 out of 469 | elapsed:    7.4s finished\n",
      "\n",
      "[2020-10-29 19:10:06] Features: 13/20 -- score: 1.0[Parallel(n_jobs=1)]: Using backend SequentialBackend with 1 concurrent workers.\n",
      "[Parallel(n_jobs=1)]: Done   1 out of   1 | elapsed:    0.0s remaining:    0.0s\n",
      "[Parallel(n_jobs=1)]: Done 468 out of 468 | elapsed:    7.4s finished\n",
      "\n",
      "[2020-10-29 19:10:13] Features: 14/20 -- score: 1.0[Parallel(n_jobs=1)]: Using backend SequentialBackend with 1 concurrent workers.\n",
      "[Parallel(n_jobs=1)]: Done   1 out of   1 | elapsed:    0.0s remaining:    0.0s\n",
      "[Parallel(n_jobs=1)]: Done 467 out of 467 | elapsed:    7.3s finished\n",
      "\n",
      "[2020-10-29 19:10:21] Features: 15/20 -- score: 1.0[Parallel(n_jobs=1)]: Using backend SequentialBackend with 1 concurrent workers.\n",
      "[Parallel(n_jobs=1)]: Done   1 out of   1 | elapsed:    0.0s remaining:    0.0s\n",
      "[Parallel(n_jobs=1)]: Done 466 out of 466 | elapsed:    7.7s finished\n",
      "\n",
      "[2020-10-29 19:10:28] Features: 16/20 -- score: 1.0[Parallel(n_jobs=1)]: Using backend SequentialBackend with 1 concurrent workers.\n",
      "[Parallel(n_jobs=1)]: Done   1 out of   1 | elapsed:    0.0s remaining:    0.0s\n",
      "[Parallel(n_jobs=1)]: Done 465 out of 465 | elapsed:    7.4s finished\n",
      "\n",
      "[2020-10-29 19:10:36] Features: 17/20 -- score: 1.0[Parallel(n_jobs=1)]: Using backend SequentialBackend with 1 concurrent workers.\n",
      "[Parallel(n_jobs=1)]: Done   1 out of   1 | elapsed:    0.0s remaining:    0.0s\n",
      "[Parallel(n_jobs=1)]: Done 464 out of 464 | elapsed:    7.4s finished\n",
      "\n",
      "[2020-10-29 19:10:43] Features: 18/20 -- score: 1.0[Parallel(n_jobs=1)]: Using backend SequentialBackend with 1 concurrent workers.\n",
      "[Parallel(n_jobs=1)]: Done   1 out of   1 | elapsed:    0.0s remaining:    0.0s\n",
      "[Parallel(n_jobs=1)]: Done 463 out of 463 | elapsed:    7.5s finished\n",
      "\n",
      "[2020-10-29 19:10:51] Features: 19/20 -- score: 1.0[Parallel(n_jobs=1)]: Using backend SequentialBackend with 1 concurrent workers.\n",
      "[Parallel(n_jobs=1)]: Done   1 out of   1 | elapsed:    0.0s remaining:    0.0s\n",
      "[Parallel(n_jobs=1)]: Done 462 out of 462 | elapsed:    7.5s finished\n",
      "\n",
      "[2020-10-29 19:10:58] Features: 20/20 -- score: 1.0"
     ]
    },
    {
     "data": {
      "text/plain": [
       "(0, 1, 2, 3, 6, 7, 8, 9, 10, 11, 12, 13, 15, 18, 19, 20, 22, 23, 24, 30)"
      ]
     },
     "execution_count": 14,
     "metadata": {},
     "output_type": "execute_result"
    }
   ],
   "source": [
    "feature_selector.fit(X_train, y_train)\n",
    "feature_selector.k_feature_idx_  "
   ]
  },
  {
   "cell_type": "code",
   "execution_count": 15,
   "metadata": {},
   "outputs": [
    {
     "data": {
      "text/plain": [
       "Index(['Unnamed: 0', 'pcm_RMSenergy_sma_max', 'pcm_RMSenergy_sma_min',\n",
       "       'pcm_RMSenergy_sma_range', 'pcm_RMSenergy_sma_amean',\n",
       "       'pcm_RMSenergy_sma_linregc1', 'pcm_RMSenergy_sma_linregc2',\n",
       "       'pcm_RMSenergy_sma_linregerrQ', 'pcm_RMSenergy_sma_stddev',\n",
       "       'pcm_RMSenergy_sma_skewness', 'pcm_RMSenergy_sma_kurtosis',\n",
       "       'pcm_fftMag_mfcc_sma[1]_max', 'pcm_fftMag_mfcc_sma[1]_range',\n",
       "       'pcm_fftMag_mfcc_sma[1]_amean', 'pcm_fftMag_mfcc_sma[1]_linregc1',\n",
       "       'pcm_fftMag_mfcc_sma[1]_linregc2', 'pcm_fftMag_mfcc_sma[1]_stddev',\n",
       "       'pcm_fftMag_mfcc_sma[1]_skewness', 'pcm_fftMag_mfcc_sma[1]_kurtosis',\n",
       "       'pcm_fftMag_mfcc_sma[2]_amean'],\n",
       "      dtype='object')"
      ]
     },
     "execution_count": 15,
     "metadata": {},
     "output_type": "execute_result"
    }
   ],
   "source": [
    "filtered_features= df[features].columns[list(feature_selector.k_feature_idx_)]\n",
    "filtered_features"
   ]
  },
  {
   "cell_type": "code",
   "execution_count": 27,
   "metadata": {},
   "outputs": [],
   "source": [
    "from sklearn import svm\n",
    "\n",
    "\n",
    "classifier = svm.SVC(kernel='rbf', C=1000, gamma=0.1)\n",
    "\n",
    "classifier.fit(X_train, y_train)\n",
    "\n",
    "y_predict = classifier.predict(X_test)"
   ]
  },
  {
   "cell_type": "code",
   "execution_count": 28,
   "metadata": {},
   "outputs": [
    {
     "name": "stdout",
     "output_type": "stream",
     "text": [
      "              precision    recall  f1-score   support\n",
      "\n",
      "         0.0       0.00      0.00      0.00        13\n",
      "         1.0       0.38      1.00      0.55         8\n",
      "\n",
      "    accuracy                           0.38        21\n",
      "   macro avg       0.19      0.50      0.28        21\n",
      "weighted avg       0.15      0.38      0.21        21\n",
      "\n"
     ]
    },
    {
     "name": "stderr",
     "output_type": "stream",
     "text": [
      "/home/aravind/anaconda3/lib/python3.8/site-packages/sklearn/metrics/_classification.py:1221: UndefinedMetricWarning: Precision and F-score are ill-defined and being set to 0.0 in labels with no predicted samples. Use `zero_division` parameter to control this behavior.\n",
      "  _warn_prf(average, modifier, msg_start, len(result))\n"
     ]
    }
   ],
   "source": [
    "from sklearn.metrics import classification_report\n",
    "\n",
    "print(classification_report(y_test, y_predict))"
   ]
  },
  {
   "cell_type": "code",
   "execution_count": 29,
   "metadata": {},
   "outputs": [
    {
     "data": {
      "text/plain": [
       "0.38095238095238093"
      ]
     },
     "execution_count": 29,
     "metadata": {},
     "output_type": "execute_result"
    }
   ],
   "source": [
    "from sklearn.metrics import accuracy_score\n",
    "accuracy_score(y_test, y_predict)"
   ]
  },
  {
   "cell_type": "markdown",
   "metadata": {},
   "source": [
    "# core code for SFS"
   ]
  },
  {
   "cell_type": "code",
   "execution_count": 23,
   "metadata": {},
   "outputs": [],
   "source": [
    "def forward_selection(data, target, significance_level=0.05):\n",
    "    initial_features = data.columns.tolist()\n",
    "    best_features = []\n",
    "    while (len(initial_features)>0):\n",
    "        remaining_features = list(set(initial_features)-set(best_features))\n",
    "        new_pval = pd.Series(index=remaining_features)\n",
    "        for new_column in remaining_features:\n",
    "            model = sm.OLS(target, sm.add_constant(data[best_features+[new_column]])).fit()\n",
    "            new_pval[new_column] = model.pvalues[new_column]\n",
    "        min_p_value = new_pval.min()\n",
    "        if(min_p_value<significance_level):\n",
    "            best_features.append(new_pval.idxmin())\n",
    "        else:\n",
    "            break\n",
    "    return best_features"
   ]
  }
 ],
 "metadata": {
  "kernelspec": {
   "display_name": "Python 3",
   "language": "python",
   "name": "python3"
  },
  "language_info": {
   "codemirror_mode": {
    "name": "ipython",
    "version": 3
   },
   "file_extension": ".py",
   "mimetype": "text/x-python",
   "name": "python",
   "nbconvert_exporter": "python",
   "pygments_lexer": "ipython3",
   "version": "3.8.5"
  }
 },
 "nbformat": 4,
 "nbformat_minor": 2
}
