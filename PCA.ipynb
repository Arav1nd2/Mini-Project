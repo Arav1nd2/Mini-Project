{
 "cells": [
  {
   "cell_type": "code",
   "execution_count": 2,
   "metadata": {
    "executionInfo": {
     "elapsed": 3513,
     "status": "ok",
     "timestamp": 1603956767738,
     "user": {
      "displayName": "Aravind Srinivasan",
      "photoUrl": "https://lh3.googleusercontent.com/a-/AOh14Ghe2VFDFgic95xjnTzSQjtPsmUwL_di1wZdoeYr=s64",
      "userId": "16782759661997552051"
     },
     "user_tz": -330
    },
    "id": "us0Dl9cISkpB"
   },
   "outputs": [],
   "source": [
    "import pandas as pd\n",
    "import numpy as np\n",
    "from sklearn.preprocessing import StandardScaler\n",
    "from matplotlib import*\n",
    "import matplotlib.pyplot as plt\n",
    "from matplotlib import cm \n",
    "from scipy import stats\n",
    "from sklearn.decomposition import PCA as sklearnPCA\n",
    "import seaborn\n",
    "import io"
   ]
  },
  {
   "cell_type": "code",
   "execution_count": 3,
   "metadata": {
    "colab": {
     "base_uri": "https://localhost:8080/",
     "height": 72,
     "resources": {
      "http://localhost:8080/nbextensions/google.colab/files.js": {
       "data": "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",
       "headers": [
        [
         "content-type",
         "application/javascript"
        ]
       ],
       "ok": true,
       "status": 200,
       "status_text": ""
      }
     }
    },
    "executionInfo": {
     "elapsed": 46400,
     "status": "ok",
     "timestamp": 1603956820837,
     "user": {
      "displayName": "Aravind Srinivasan",
      "photoUrl": "https://lh3.googleusercontent.com/a-/AOh14Ghe2VFDFgic95xjnTzSQjtPsmUwL_di1wZdoeYr=s64",
      "userId": "16782759661997552051"
     },
     "user_tz": -330
    },
    "id": "WHm3pqrYSkpQ",
    "outputId": "be563023-380d-40b1-d727-b24394d5f9f9"
   },
   "outputs": [
    {
     "data": {
      "text/html": [
       "\n",
       "     <input type=\"file\" id=\"files-c16efc8c-ba1c-47ce-9f14-342cb497618f\" name=\"files[]\" multiple disabled\n",
       "        style=\"border:none\" />\n",
       "     <output id=\"result-c16efc8c-ba1c-47ce-9f14-342cb497618f\">\n",
       "      Upload widget is only available when the cell has been executed in the\n",
       "      current browser session. Please rerun this cell to enable.\n",
       "      </output>\n",
       "      <script src=\"/nbextensions/google.colab/files.js\"></script> "
      ],
      "text/plain": [
       "<IPython.core.display.HTML object>"
      ]
     },
     "metadata": {
      "tags": []
     },
     "output_type": "display_data"
    },
    {
     "name": "stdout",
     "output_type": "stream",
     "text": [
      "Saving Acoustic.csv to Acoustic.csv\n"
     ]
    }
   ],
   "source": [
    "from google.colab import files\n",
    "uploaded = files.upload()"
   ]
  },
  {
   "cell_type": "code",
   "execution_count": 6,
   "metadata": {
    "colab": {
     "base_uri": "https://localhost:8080/",
     "height": 241
    },
    "executionInfo": {
     "elapsed": 1089,
     "status": "ok",
     "timestamp": 1603956864700,
     "user": {
      "displayName": "Aravind Srinivasan",
      "photoUrl": "https://lh3.googleusercontent.com/a-/AOh14Ghe2VFDFgic95xjnTzSQjtPsmUwL_di1wZdoeYr=s64",
      "userId": "16782759661997552051"
     },
     "user_tz": -330
    },
    "id": "6oFFwqSBVLzQ",
    "outputId": "acf8bc24-103c-4ade-9365-1076d0df31c7"
   },
   "outputs": [
    {
     "data": {
      "text/html": [
       "<div>\n",
       "<style scoped>\n",
       "    .dataframe tbody tr th:only-of-type {\n",
       "        vertical-align: middle;\n",
       "    }\n",
       "\n",
       "    .dataframe tbody tr th {\n",
       "        vertical-align: top;\n",
       "    }\n",
       "\n",
       "    .dataframe thead th {\n",
       "        text-align: right;\n",
       "    }\n",
       "</style>\n",
       "<table border=\"1\" class=\"dataframe\">\n",
       "  <thead>\n",
       "    <tr style=\"text-align: right;\">\n",
       "      <th></th>\n",
       "      <th>Unnamed: 0</th>\n",
       "      <th>name;frameTime;pcm_RMSenergy_sma_max;pcm_RMSenergy_sma_min;pcm_RMSenergy_sma_range;pcm_RMSenergy_sma_maxPos;pcm_RMSenergy_sma_minPos;pcm_RMSenergy_sma_amean;pcm_RMSenergy_sma_linregc1;pcm_RMSenergy_sma_linregc2;pcm_RMSenergy_sma_linregerrQ;pcm_RMSenergy_sma_stddev;pcm_RMSenergy_sma_skewness;pcm_RMSenergy_sma_kurtosis;pcm_fftMag_mfcc_sma[1]_max;pcm_fftMag_mfcc_sma[1]_min;pcm_fftMag_mfcc_sma[1]_range;pcm_fftMag_mfcc_sma[1]_maxPos;pcm_fftMag_mfcc_sma[1]_minPos;pcm_fftMag_mfcc_sma[1]_amean;pcm_fftMag_mfcc_sma[1]_linregc1;pcm_fftMag_mfcc_sma[1]_linregc2;pcm_fftMag_mfcc_sma[1]_linregerrQ;pcm_fftMag_mfcc_sma[1]_stddev;pcm_fftMag_mfcc_sma[1]_skewness;pcm_fftMag_mfcc_sma[1]_kurtosis;pcm_fftMag_mfcc_sma[2]_max;pcm_fftMag_mfcc_sma[2]_min;pcm_fftMag_mfcc_sma[2]_range;pcm_fftMag_mfcc_sma[2]_maxPos;pcm_fftMag_mfcc_sma[2]_minPos;pcm_fftMag_mfcc_sma[2]_amean;pcm_fftMag_mfcc_sma[2]_linregc1;pcm_fftMag_mfcc_sma[2]_linregc2;pcm_fftMag_mfcc_sma[2]_linregerrQ;pcm_fftMag_mfcc_sma[2]_stddev;pcm_fftMag_mfcc_sma[2]_skewness;pcm_fftMag_mfcc_sma[2]_kurtosis;pcm_fftMag_mfcc_sma[3]_max;pcm_fftMag_mfcc_sma[3]_min;pcm_fftMag_mfcc_sma[3]_range;pcm_fftMag_mfcc_sma[3]_maxPos;pcm_fftMag_mfcc_sma[3]_minPos;pcm_fftMag_mfcc_sma[3]_amean;pcm_fftMag_mfcc_sma[3]_linregc1;pcm_fftMag_mfcc_sma[3]_linregc2;pcm_fftMag_mfcc_sma[3]_linregerrQ;pcm_fftMag_mfcc_sma[3]_stddev;pcm_fftMag_mfcc_sma[3]_skewness;pcm_fftMag_mfcc_sma[3]_kurtosis;pcm_fftMag_mfcc_sma[4]_max;pcm_fftMag_mfcc_sma[4]_min;pcm_fftMag_mfcc_sma[4]_range;pcm_fftMag_mfcc_sma[4]_maxPos;pcm_fftMag_mfcc_sma[4]_minPos;pcm_fftMag_mfcc_sma[4]_amean;pcm_fftMag_mfcc_sma[4]_linregc1;pcm_fftMag_mfcc_sma[4]_linregc2;pcm_fftMag_mfcc_sma[4]_linregerrQ;pcm_fftMag_mfcc_sma[4]_stddev;pcm_fftMag_mfcc_sma[4]_skewness;pcm_fftMag_mfcc_sma[4]_kurtosis;pcm_fftMag_mfcc_sma[5]_max;pcm_fftMag_mfcc_sma[5]_min;pcm_fftMag_mfcc_sma[5]_range;pcm_fftMag_mfcc_sma[5]_maxPos;pcm_fftMag_mfcc_sma[5]_minPos;pcm_fftMag_mfcc_sma[5]_amean;pcm_fftMag_mfcc_sma[5]_linregc1;pcm_fftMag_mfcc_sma[5]_linregc2;pcm_fftMag_mfcc_sma[5]_linregerrQ;pcm_fftMag_mfcc_sma[5]_stddev;pcm_fftMag_mfcc_sma[5]_skewness;pcm_fftMag_mfcc_sma[5]_kurtosis;pcm_fftMag_mfcc_sma[6]_max;pcm_fftMag_mfcc_sma[6]_min;pcm_fftMag_mfcc_sma[6]_range;pcm_fftMag_mfcc_sma[6]_maxPos;pcm_fftMag_mfcc_sma[6]_minPos;pcm_fftMag_mfcc_sma[6]_amean;pcm_fftMag_mfcc_sma[6]_linregc1;pcm_fftMag_mfcc_sma[6]_linregc2;pcm_fftMag_mfcc_sma[6]_linregerrQ;pcm_fftMag_mfcc_sma[6]_stddev;pcm_fftMag_mfcc_sma[6]_skewness;pcm_fftMag_mfcc_sma[6]_kurtosis;pcm_fftMag_mfcc_sma[7]_max;pcm_fftMag_mfcc_sma[7]_min;pcm_fftMag_mfcc_sma[7]_range;pcm_fftMag_mfcc_sma[7]_maxPos;pcm_fftMag_mfcc_sma[7]_minPos;pcm_fftMag_mfcc_sma[7]_amean;pcm_fftMag_mfcc_sma[7]_linregc1;pcm_fftMag_mfcc_sma[7]_linregc2;pcm_fftMag_mfcc_sma[7]_linregerrQ;pcm_fftMag_mfcc_sma[7]_stddev;pcm_fftMag_mfcc_sma[7]_skewness;pcm_fftMag_mfcc_sma[7]_kurtosis;pcm_fftMag_mfcc_sma[8]_max;pcm_fftMag_mfcc_sma[8]_min;pcm_fftMag_mfcc_sma[8]_range;pcm_fftMag_mfcc_sma[8]_maxPos;pcm_fftMag_mfcc_sma[8]_minPos;pcm_fftMag_mfcc_sma[8]_amean;pcm_fftMag_mfcc_sma[8]_linregc1;pcm_fftMag_mfcc_sma[8]_linregc2;pcm_fftMag_mfcc_sma[8]_linregerrQ;pcm_fftMag_mfcc_sma[8]_stddev;pcm_fftMag_mfcc_sma[8]_skewness;pcm_fftMag_mfcc_sma[8]_kurtosis;pcm_fftMag_mfcc_sma[9]_max;pcm_fftMag_mfcc_sma[9]_min;pcm_fftMag_mfcc_sma[9]_range;pcm_fftMag_mfcc_sma[9]_maxPos;pcm_fftMag_mfcc_sma[9]_minPos;pcm_fftMag_mfcc_sma[9]_amean;pcm_fftMag_mfcc_sma[9]_linregc1;pcm_fftMag_mfcc_sma[9]_linregc2;pcm_fftMag_mfcc_sma[9]_linregerrQ;pcm_fftMag_mfcc_sma[9]_stddev;pcm_fftMag_mfcc_sma[9]_skewness;pcm_fftMag_mfcc_sma[9]_kurtosis;pcm_fftMag_mfcc_sma[10]_max;pcm_fftMag_mfcc_sma[10]_min;pcm_fftMag_mfcc_sma[10]_range;pcm_fftMag_mfcc_sma[10]_maxPos;pcm_fftMag_mfcc_sma[10]_minPos;pcm_fftMag_mfcc_sma[10]_amean;pcm_fftMag_mfcc_sma[10]_linregc1;pcm_fftMag_mfcc_sma[10]_linregc2;pcm_fftMag_mfcc_sma[10]_linregerrQ;pcm_fftMag_mfcc_sma[10]_stddev;pcm_fftMag_mfcc_sma[10]_skewness;pcm_fftMag_mfcc_sma[10]_kurtosis;pcm_fftMag_mfcc_sma[11]_max;pcm_fftMag_mfcc_sma[11]_min;pcm_fftMag_mfcc_sma[11]_range;pcm_fftMag_mfcc_sma[11]_maxPos;pcm_fftMag_mfcc_sma[11]_minPos;pcm_fftMag_mfcc_sma[11]_amean;pcm_fftMag_mfcc_sma[11]_linregc1;pcm_fftMag_mfcc_sma[11]_linregc2;pcm_fftMag_mfcc_sma[11]_linregerrQ;pcm_fftMag_mfcc_sma[11]_stddev;pcm_fftMag_mfcc_sma[11]_skewness;pcm_fftMag_mfcc_sma[11]_kurtosis;pcm_fftMag_mfcc_sma[12]_max;pcm_fftMag_mfcc_sma[12]_min;pcm_fftMag_mfcc_sma[12]_range;pcm_fftMag_mfcc_sma[12]_maxPos;pcm_fftMag_mfcc_sma[12]_minPos;pcm_fftMag_mfcc_sma[12]_amean;pcm_fftMag_mfcc_sma[12]_linregc1;pcm_fftMag_mfcc_sma[12]_linregc2;pcm_fftMag_mfcc_sma[12]_linregerrQ;pcm_fftMag_mfcc_sma[12]_stddev;pcm_fftMag_mfcc_sma[12]_skewness;pcm_fftMag_mfcc_sma[12]_kurtosis;pcm_zcr_sma_max;pcm_zcr_sma_min;pcm_zcr_sma_range;pcm_zcr_sma_maxPos;pcm_zcr_sma_minPos;pcm_zcr_sma_amean;pcm_zcr_sma_linregc1;pcm_zcr_sma_linregc2;pcm_zcr_sma_linregerrQ;pcm_zcr_sma_stddev;pcm_zcr_sma_skewness;pcm_zcr_sma_kurtosis;voiceProb_sma_max;voiceProb_sma_min;voiceProb_sma_range;voiceProb_sma_maxPos;voiceProb_sma_minPos;voiceProb_sma_amean;voiceProb_sma_linregc1;voiceProb_sma_linregc2;voiceProb_sma_linregerrQ;voiceProb_sma_stddev;voiceProb_sma_skewness;voiceProb_sma_kurtosis;F0_sma_max;F0_sma_min;F0_sma_range;F0_sma_maxPos;F0_sma_minPos;F0_sma_amean;F0_sma_linregc1;F0_sma_linregc2;F0_sma_linregerrQ;F0_sma_stddev;F0_sma_skewness;F0_sma_kurtosis;pcm_RMSenergy_sma_de_max;pcm_RMSenergy_sma_de_min;pcm_RMSenergy_sma_de_range;pcm_RMSenergy_sma_de_maxPos;pcm_RMSenergy_sma_de_minPos;pcm_RMSenergy_sma_de_amean;pcm_RMSenergy_sma_de_linregc1;pcm_RMSenergy_sma_de_linregc2;pcm_RMSenergy_sma_de_linregerrQ;pcm_RMSenergy_sma_de_stddev;pcm_RMSenergy_sma_de_skewness;pcm_RMSenergy_sma_de_kurtosis;pcm_fftMag_mfcc_sma_de[1]_max;pcm_fftMag_mfcc_sma_de[1]_min;pcm_fftMag_mfcc_sma_de[1]_range;pcm_fftMag_mfcc_sma_de[1]_maxPos;pcm_fftMag_mfcc_sma_de[1]_minPos;pcm_fftMag_mfcc_sma_de[1]_amean;pcm_fftMag_mfcc_sma_de[1]_linregc1;pcm_fftMag_mfcc_sma_de[1]_linregc2;pcm_fftMag_mfcc_sma_de[1]_linregerrQ;pcm_fftMag_mfcc_sma_de[1]_stddev;pcm_fftMag_mfcc_sma_de[1]_skewness;pcm_fftMag_mfcc_sma_de[1]_kurtosis;pcm_fftMag_mfcc_sma_de[2]_max;pcm_fftMag_mfcc_sma_de[2]_min;pcm_fftMag_mfcc_sma_de[2]_range;pcm_fftMag_mfcc_sma_de[2]_maxPos;pcm_fftMag_mfcc_sma_de[2]_minPos;pcm_fftMag_mfcc_sma_de[2]_amean;pcm_fftMag_mfcc_sma_de[2]_linregc1;pcm_fftMag_mfcc_sma_de[2]_linregc2;pcm_fftMag_mfcc_sma_de[2]_linregerrQ;pcm_fftMag_mfcc_sma_de[2]_stddev;pcm_fftMag_mfcc_sma_de[2]_skewness;pcm_fftMag_mfcc_sma_de[2]_kurtosis;pcm_fftMag_mfcc_sma_de[3]_max;pcm_fftMag_mfcc_sma_de[3]_min;pcm_fftMag_mfcc_sma_de[3]_range;pcm_fftMag_mfcc_sma_de[3]_maxPos;pcm_fftMag_mfcc_sma_de[3]_minPos;pcm_fftMag_mfcc_sma_de[3]_amean;pcm_fftMag_mfcc_sma_de[3]_linregc1;pcm_fftMag_mfcc_sma_de[3]_linregc2;pcm_fftMag_mfcc_sma_de[3]_linregerrQ;pcm_fftMag_mfcc_sma_de[3]_stddev;pcm_fftMag_mfcc_sma_de[3]_skewness;pcm_fftMag_mfcc_sma_de[3]_kurtosis;pcm_fftMag_mfcc_sma_de[4]_max;pcm_fftMag_mfcc_sma_de[4]_min;pcm_fftMag_mfcc_sma_de[4]_range;pcm_fftMag_mfcc_sma_de[4]_maxPos;pcm_fftMag_mfcc_sma_de[4]_minPos;pcm_fftMag_mfcc_sma_de[4]_amean;pcm_fftMag_mfcc_sma_de[4]_linregc1;pcm_fftMag_mfcc_sma_de[4]_linregc2;pcm_fftMag_mfcc_sma_de[4]_linregerrQ;pcm_fftMag_mfcc_sma_de[4]_stddev;pcm_fftMag_mfcc_sma_de[4]_skewness;pcm_fftMag_mfcc_sma_de[4]_kurtosis;pcm_fftMag_mfcc_sma_de[5]_max;pcm_fftMag_mfcc_sma_de[5]_min;pcm_fftMag_mfcc_sma_de[5]_range;pcm_fftMag_mfcc_sma_de[5]_maxPos;pcm_fftMag_mfcc_sma_de[5]_minPos;pcm_fftMag_mfcc_sma_de[5]_amean;pcm_fftMag_mfcc_sma_de[5]_linregc1;pcm_fftMag_mfcc_sma_de[5]_linregc2;pcm_fftMag_mfcc_sma_de[5]_linregerrQ;pcm_fftMag_mfcc_sma_de[5]_stddev;pcm_fftMag_mfcc_sma_de[5]_skewness;pcm_fftMag_mfcc_sma_de[5]_kurtosis;pcm_fftMag_mfcc_sma_de[6]_max;pcm_fftMag_mfcc_sma_de[6]_min;pcm_fftMag_mfcc_sma_de[6]_range;pcm_fftMag_mfcc_sma_de[6]_maxPos;pcm_fftMag_mfcc_sma_de[6]_minPos;pcm_fftMag_mfcc_sma_de[6]_amean;pcm_fftMag_mfcc_sma_de[6]_linregc1;pcm_fftMag_mfcc_sma_de[6]_linregc2;pcm_fftMag_mfcc_sma_de[6]_linregerrQ;pcm_fftMag_mfcc_sma_de[6]_stddev;pcm_fftMag_mfcc_sma_de[6]_skewness;pcm_fftMag_mfcc_sma_de[6]_kurtosis;pcm_fftMag_mfcc_sma_de[7]_max;pcm_fftMag_mfcc_sma_de[7]_min;pcm_fftMag_mfcc_sma_de[7]_range;pcm_fftMag_mfcc_sma_de[7]_maxPos;pcm_fftMag_mfcc_sma_de[7]_minPos;pcm_fftMag_mfcc_sma_de[7]_amean;pcm_fftMag_mfcc_sma_de[7]_linregc1;pcm_fftMag_mfcc_sma_de[7]_linregc2;pcm_fftMag_mfcc_sma_de[7]_linregerrQ;pcm_fftMag_mfcc_sma_de[7]_stddev;pcm_fftMag_mfcc_sma_de[7]_skewness;pcm_fftMag_mfcc_sma_de[7]_kurtosis;pcm_fftMag_mfcc_sma_de[8]_max;pcm_fftMag_mfcc_sma_de[8]_min;pcm_fftMag_mfcc_sma_de[8]_range;pcm_fftMag_mfcc_sma_de[8]_maxPos;pcm_fftMag_mfcc_sma_de[8]_minPos;pcm_fftMag_mfcc_sma_de[8]_amean;pcm_fftMag_mfcc_sma_de[8]_linregc1;pcm_fftMag_mfcc_sma_de[8]_linregc2;pcm_fftMag_mfcc_sma_de[8]_linregerrQ;pcm_fftMag_mfcc_sma_de[8]_stddev;pcm_fftMag_mfcc_sma_de[8]_skewness;pcm_fftMag_mfcc_sma_de[8]_kurtosis;pcm_fftMag_mfcc_sma_de[9]_max;pcm_fftMag_mfcc_sma_de[9]_min;pcm_fftMag_mfcc_sma_de[9]_range;pcm_fftMag_mfcc_sma_de[9]_maxPos;pcm_fftMag_mfcc_sma_de[9]_minPos;pcm_fftMag_mfcc_sma_de[9]_amean;pcm_fftMag_mfcc_sma_de[9]_linregc1;pcm_fftMag_mfcc_sma_de[9]_linregc2;pcm_fftMag_mfcc_sma_de[9]_linregerrQ;pcm_fftMag_mfcc_sma_de[9]_stddev;pcm_fftMag_mfcc_sma_de[9]_skewness;pcm_fftMag_mfcc_sma_de[9]_kurtosis;pcm_fftMag_mfcc_sma_de[10]_max;pcm_fftMag_mfcc_sma_de[10]_min;pcm_fftMag_mfcc_sma_de[10]_range;pcm_fftMag_mfcc_sma_de[10]_maxPos;pcm_fftMag_mfcc_sma_de[10]_minPos;pcm_fftMag_mfcc_sma_de[10]_amean;pcm_fftMag_mfcc_sma_de[10]_linregc1;pcm_fftMag_mfcc_sma_de[10]_linregc2;pcm_fftMag_mfcc_sma_de[10]_linregerrQ;pcm_fftMag_mfcc_sma_de[10]_stddev;pcm_fftMag_mfcc_sma_de[10]_skewness;pcm_fftMag_mfcc_sma_de[10]_kurtosis;pcm_fftMag_mfcc_sma_de[11]_max;pcm_fftMag_mfcc_sma_de[11]_min;pcm_fftMag_mfcc_sma_de[11]_range;pcm_fftMag_mfcc_sma_de[11]_maxPos;pcm_fftMag_mfcc_sma_de[11]_minPos;pcm_fftMag_mfcc_sma_de[11]_amean;pcm_fftMag_mfcc_sma_de[11]_linregc1;pcm_fftMag_mfcc_sma_de[11]_linregc2;pcm_fftMag_mfcc_sma_de[11]_linregerrQ;pcm_fftMag_mfcc_sma_de[11]_stddev;pcm_fftMag_mfcc_sma_de[11]_skewness;pcm_fftMag_mfcc_sma_de[11]_kurtosis;pcm_fftMag_mfcc_sma_de[12]_max;pcm_fftMag_mfcc_sma_de[12]_min;pcm_fftMag_mfcc_sma_de[12]_range;pcm_fftMag_mfcc_sma_de[12]_maxPos;pcm_fftMag_mfcc_sma_de[12]_minPos;pcm_fftMag_mfcc_sma_de[12]_amean;pcm_fftMag_mfcc_sma_de[12]_linregc1;pcm_fftMag_mfcc_sma_de[12]_linregc2;pcm_fftMag_mfcc_sma_de[12]_linregerrQ;pcm_fftMag_mfcc_sma_de[12]_stddev;pcm_fftMag_mfcc_sma_de[12]_skewness;pcm_fftMag_mfcc_sma_de[12]_kurtosis;pcm_zcr_sma_de_max;pcm_zcr_sma_de_min;pcm_zcr_sma_de_range;pcm_zcr_sma_de_maxPos;pcm_zcr_sma_de_minPos;pcm_zcr_sma_de_amean;pcm_zcr_sma_de_linregc1;pcm_zcr_sma_de_linregc2;pcm_zcr_sma_de_linregerrQ;pcm_zcr_sma_de_stddev;pcm_zcr_sma_de_skewness;pcm_zcr_sma_de_kurtosis;voiceProb_sma_de_max;voiceProb_sma_de_min;voiceProb_sma_de_range;voiceProb_sma_de_maxPos;voiceProb_sma_de_minPos;voiceProb_sma_de_amean;voiceProb_sma_de_linregc1;voiceProb_sma_de_linregc2;voiceProb_sma_de_linregerrQ;voiceProb_sma_de_stddev;voiceProb_sma_de_skewness;voiceProb_sma_de_kurtosis;F0_sma_de_max;F0_sma_de_min;F0_sma_de_range;F0_sma_de_maxPos;F0_sma_de_minPos;F0_sma_de_amean;F0_sma_de_linregc1;F0_sma_de_linregc2;F0_sma_de_linregerrQ;F0_sma_de_stddev;F0_sma_de_skewness;F0_sma_de_kurtosis</th>\n",
       "      <th>filename</th>\n",
       "    </tr>\n",
       "  </thead>\n",
       "  <tbody>\n",
       "    <tr>\n",
       "      <th>0</th>\n",
       "      <td>0</td>\n",
       "      <td>'unknown';0.000000;1.037365e-02;1.023288e-04;1...</td>\n",
       "      <td>D17</td>\n",
       "    </tr>\n",
       "    <tr>\n",
       "      <th>1</th>\n",
       "      <td>0</td>\n",
       "      <td>'unknown';0.000000;8.003458e-03;1.075756e-04;7...</td>\n",
       "      <td>D2</td>\n",
       "    </tr>\n",
       "    <tr>\n",
       "      <th>2</th>\n",
       "      <td>0</td>\n",
       "      <td>'unknown';0.000000;1.147830e-02;1.001371e-04;1...</td>\n",
       "      <td>D16</td>\n",
       "    </tr>\n",
       "    <tr>\n",
       "      <th>3</th>\n",
       "      <td>0</td>\n",
       "      <td>'unknown';0.000000;5.418842e-03;1.003140e-04;5...</td>\n",
       "      <td>D63</td>\n",
       "    </tr>\n",
       "    <tr>\n",
       "      <th>4</th>\n",
       "      <td>0</td>\n",
       "      <td>'unknown';0.000000;1.195001e-02;9.997105e-05;1...</td>\n",
       "      <td>D88</td>\n",
       "    </tr>\n",
       "  </tbody>\n",
       "</table>\n",
       "</div>"
      ],
      "text/plain": [
       "   Unnamed: 0  ... filename\n",
       "0           0  ...      D17\n",
       "1           0  ...       D2\n",
       "2           0  ...      D16\n",
       "3           0  ...      D63\n",
       "4           0  ...      D88\n",
       "\n",
       "[5 rows x 3 columns]"
      ]
     },
     "execution_count": 6,
     "metadata": {
      "tags": []
     },
     "output_type": "execute_result"
    }
   ],
   "source": [
    "d1=pd.read_csv(io.BytesIO(uploaded['Acoustic.csv']))\n",
    "d1.head(5)"
   ]
  },
  {
   "cell_type": "code",
   "execution_count": null,
   "metadata": {
    "id": "Ub3tBHV-Skpf"
   },
   "outputs": [],
   "source": [
    "df1=d1.replace(np.nan,0,regex=True)"
   ]
  },
  {
   "cell_type": "code",
   "execution_count": null,
   "metadata": {
    "id": "QcJ2bLmYSkpl"
   },
   "outputs": [],
   "source": [
    "X_std=StandardScaler().fit_transform(df1)"
   ]
  },
  {
   "cell_type": "code",
   "execution_count": null,
   "metadata": {
    "colab": {
     "base_uri": "https://localhost:8080/",
     "height": 260
    },
    "executionInfo": {
     "elapsed": 1289,
     "status": "ok",
     "timestamp": 1603202797874,
     "user": {
      "displayName": "Shabhitha Murugadass",
      "photoUrl": "https://lh3.googleusercontent.com/a-/AOh14Gi7p7UAHTXYSPe5n79FNbudyYF3DblZOEKKAnVy=s64",
      "userId": "09384834320567856021"
     },
     "user_tz": -330
    },
    "id": "HH9VTWxQSkpq",
    "outputId": "9c9ab416-e144-43c3-b05f-8ea0d4e9a283"
   },
   "outputs": [
    {
     "name": "stdout",
     "output_type": "stream",
     "text": [
      "covaariance matrix \n",
      "[[ 0.          0.          0.         ...  0.          0.\n",
      "   0.        ]\n",
      " [ 0.          0.          0.         ...  0.          0.\n",
      "   0.        ]\n",
      " [ 0.          0.          1.00497512 ... -0.17079346 -0.04213485\n",
      "   0.12056422]\n",
      " ...\n",
      " [ 0.          0.         -0.17079346 ...  1.00497512  0.0270265\n",
      "  -0.54351286]\n",
      " [ 0.          0.         -0.04213485 ...  0.0270265   1.00497512\n",
      "   0.33446373]\n",
      " [ 0.          0.          0.12056422 ... -0.54351286  0.33446373\n",
      "   1.00497512]]\n"
     ]
    }
   ],
   "source": [
    "mean_vec=np.mean(X_std,axis=0)\n",
    "cov_mat=(X_std-mean_vec).T.dot((X_std-mean_vec)/(X_std.shape[0]-1))\n",
    "print(\"covaariance matrix \\n%s\" %cov_mat)\n"
   ]
  },
  {
   "cell_type": "markdown",
   "metadata": {
    "id": "lhP5QhwzSkpv"
   },
   "source": [
    "cov_mat=np.cov(X_std.T)\n",
    "eig_vals,eig_vect=np.linalg.eig(cov_mat)\n",
    "print(\"eigen values \\n%s\"%eig_vals)\n",
    "print(\"eigen vectors \\n%s\"%eig_vect)"
   ]
  },
  {
   "cell_type": "code",
   "execution_count": null,
   "metadata": {
    "colab": {
     "base_uri": "https://localhost:8080/",
     "height": 1000
    },
    "executionInfo": {
     "elapsed": 1026,
     "status": "ok",
     "timestamp": 1603202801638,
     "user": {
      "displayName": "Shabhitha Murugadass",
      "photoUrl": "https://lh3.googleusercontent.com/a-/AOh14Gi7p7UAHTXYSPe5n79FNbudyYF3DblZOEKKAnVy=s64",
      "userId": "09384834320567856021"
     },
     "user_tz": -330
    },
    "id": "nmuzk8XMSkpw",
    "outputId": "57c5f889-a052-4f81-9bef-ab49f6f02f72"
   },
   "outputs": [
    {
     "name": "stdout",
     "output_type": "stream",
     "text": [
      "eigen values \n",
      "[ 9.35734246e+01+0.00000000e+00j  6.14555978e+01+0.00000000e+00j\n",
      "  1.65450093e+01+0.00000000e+00j  1.36529987e+01+0.00000000e+00j\n",
      "  1.22577330e+01+0.00000000e+00j  1.19176968e+01+0.00000000e+00j\n",
      "  9.84613405e+00+0.00000000e+00j  8.27354127e+00+0.00000000e+00j\n",
      "  6.89992514e+00+0.00000000e+00j  6.41341928e+00+0.00000000e+00j\n",
      "  5.92570730e+00+0.00000000e+00j  5.19916480e+00+0.00000000e+00j\n",
      "  4.84431776e+00+0.00000000e+00j  4.49902497e+00+0.00000000e+00j\n",
      "  4.30971070e+00+0.00000000e+00j  4.10563761e+00+0.00000000e+00j\n",
      "  3.90081450e+00+0.00000000e+00j  3.70910598e+00+0.00000000e+00j\n",
      "  3.47018114e+00+0.00000000e+00j  3.35587165e+00+0.00000000e+00j\n",
      "  3.16557186e+00+0.00000000e+00j  2.99146575e+00+0.00000000e+00j\n",
      "  2.93170987e+00+0.00000000e+00j  2.81222195e+00+0.00000000e+00j\n",
      "  2.61865650e+00+0.00000000e+00j  2.51937112e+00+0.00000000e+00j\n",
      "  2.41206915e+00+0.00000000e+00j  2.27078789e+00+0.00000000e+00j\n",
      "  2.20972130e+00+0.00000000e+00j  2.17441549e+00+0.00000000e+00j\n",
      "  2.11468719e+00+0.00000000e+00j  2.04614757e+00+0.00000000e+00j\n",
      "  1.99791841e+00+0.00000000e+00j  1.91171666e+00+0.00000000e+00j\n",
      "  1.86522596e+00+0.00000000e+00j  1.81687457e+00+0.00000000e+00j\n",
      "  1.71185847e+00+0.00000000e+00j  1.64004771e+00+0.00000000e+00j\n",
      "  1.63052246e+00+0.00000000e+00j  1.58676787e+00+0.00000000e+00j\n",
      "  1.55441634e+00+0.00000000e+00j  1.51454293e+00+0.00000000e+00j\n",
      "  1.50698448e+00+0.00000000e+00j  1.47059793e+00+0.00000000e+00j\n",
      "  1.38986871e+00+0.00000000e+00j  1.36183654e+00+0.00000000e+00j\n",
      "  1.31138010e+00+0.00000000e+00j  1.28533501e+00+0.00000000e+00j\n",
      "  1.25809276e+00+0.00000000e+00j  1.23230355e+00+0.00000000e+00j\n",
      "  1.18941148e+00+0.00000000e+00j  1.16108137e+00+0.00000000e+00j\n",
      "  1.14012383e+00+0.00000000e+00j  1.08897638e+00+0.00000000e+00j\n",
      "  1.03716432e+00+0.00000000e+00j  1.01089575e+00+0.00000000e+00j\n",
      "  9.93554496e-01+0.00000000e+00j  9.66794111e-01+0.00000000e+00j\n",
      "  9.32304541e-01+0.00000000e+00j  8.09073924e-01+0.00000000e+00j\n",
      "  8.30060542e-01+0.00000000e+00j  8.47030374e-01+0.00000000e+00j\n",
      "  9.08186381e-01+0.00000000e+00j  8.83712288e-01+0.00000000e+00j\n",
      "  8.96087079e-01+0.00000000e+00j  7.61033674e-01+0.00000000e+00j\n",
      "  7.49911158e-01+0.00000000e+00j  7.32778490e-01+0.00000000e+00j\n",
      "  7.06457590e-01+0.00000000e+00j  6.86281999e-01+0.00000000e+00j\n",
      "  6.58036271e-01+0.00000000e+00j  6.62690964e-01+0.00000000e+00j\n",
      "  6.25926120e-01+0.00000000e+00j  6.05364821e-01+0.00000000e+00j\n",
      "  5.91133960e-01+0.00000000e+00j  5.83270422e-01+0.00000000e+00j\n",
      "  4.94666359e-01+0.00000000e+00j  4.99769882e-01+0.00000000e+00j\n",
      "  5.13050056e-01+0.00000000e+00j  5.30461624e-01+0.00000000e+00j\n",
      "  5.40243426e-01+0.00000000e+00j  5.49662046e-01+0.00000000e+00j\n",
      "  4.82213260e-01+0.00000000e+00j  4.72623892e-01+0.00000000e+00j\n",
      "  4.67299684e-01+0.00000000e+00j  3.29765872e-01+0.00000000e+00j\n",
      "  4.41121063e-01+0.00000000e+00j  4.36040032e-01+0.00000000e+00j\n",
      "  3.45147424e-01+0.00000000e+00j  3.54336242e-01+0.00000000e+00j\n",
      "  3.61583153e-01+0.00000000e+00j  3.72823389e-01+0.00000000e+00j\n",
      "  3.86784243e-01+0.00000000e+00j  3.97801860e-01+0.00000000e+00j\n",
      "  4.17353828e-01+0.00000000e+00j  4.11808974e-01+0.00000000e+00j\n",
      "  3.20002438e-01+0.00000000e+00j  3.14626329e-01+0.00000000e+00j\n",
      "  3.07088154e-01+0.00000000e+00j  2.97497263e-01+0.00000000e+00j\n",
      "  2.95768488e-01+0.00000000e+00j  2.87664008e-01+0.00000000e+00j\n",
      "  2.72876750e-01+0.00000000e+00j  2.39231284e-01+0.00000000e+00j\n",
      "  2.44047963e-01+0.00000000e+00j  2.62734740e-01+0.00000000e+00j\n",
      "  2.59805779e-01+0.00000000e+00j  2.57999876e-01+0.00000000e+00j\n",
      "  2.50282093e-01+0.00000000e+00j  2.27759538e-01+0.00000000e+00j\n",
      "  2.19357441e-01+0.00000000e+00j  2.14355129e-01+0.00000000e+00j\n",
      "  2.03560651e-01+0.00000000e+00j  2.00385429e-01+0.00000000e+00j\n",
      "  1.95811560e-01+0.00000000e+00j  1.88058396e-01+0.00000000e+00j\n",
      "  1.82969594e-01+0.00000000e+00j  1.77742959e-01+0.00000000e+00j\n",
      "  1.65765509e-01+0.00000000e+00j  1.69209545e-01+0.00000000e+00j\n",
      "  1.72039133e-01+0.00000000e+00j  1.59738544e-01+0.00000000e+00j\n",
      "  1.53694328e-01+0.00000000e+00j  1.51089459e-01+0.00000000e+00j\n",
      "  1.47059513e-01+0.00000000e+00j  1.44861642e-01+0.00000000e+00j\n",
      "  1.15637738e-01+0.00000000e+00j  1.40303766e-01+0.00000000e+00j\n",
      "  1.21575892e-01+0.00000000e+00j  1.24855444e-01+0.00000000e+00j\n",
      "  1.28869743e-01+0.00000000e+00j  1.32818640e-01+0.00000000e+00j\n",
      "  1.35996993e-01+0.00000000e+00j  1.11920821e-01+0.00000000e+00j\n",
      "  1.08988887e-01+0.00000000e+00j  1.05643157e-01+0.00000000e+00j\n",
      "  1.01725878e-01+0.00000000e+00j  9.69238379e-02+0.00000000e+00j\n",
      "  9.45970018e-02+0.00000000e+00j  9.35353852e-02+0.00000000e+00j\n",
      "  9.39103526e-02+0.00000000e+00j  8.99296026e-02+0.00000000e+00j\n",
      "  8.39617418e-02+0.00000000e+00j  8.21399693e-02+0.00000000e+00j\n",
      "  8.01008082e-02+0.00000000e+00j  7.77745352e-02+0.00000000e+00j\n",
      "  7.54007128e-02+0.00000000e+00j  7.47645884e-02+0.00000000e+00j\n",
      "  7.08816417e-02+0.00000000e+00j  6.80832800e-02+0.00000000e+00j\n",
      "  6.63330287e-02+0.00000000e+00j  6.36840633e-02+0.00000000e+00j\n",
      "  6.11309102e-02+0.00000000e+00j  5.80960253e-02+0.00000000e+00j\n",
      "  5.61632684e-02+0.00000000e+00j  5.52697929e-02+0.00000000e+00j\n",
      "  5.47963443e-02+0.00000000e+00j  5.12701693e-02+0.00000000e+00j\n",
      "  4.98431164e-02+0.00000000e+00j  4.87055615e-02+0.00000000e+00j\n",
      "  4.68270032e-02+0.00000000e+00j  4.53275629e-02+0.00000000e+00j\n",
      "  4.37297760e-02+0.00000000e+00j  4.19479181e-02+0.00000000e+00j\n",
      "  3.96046218e-02+0.00000000e+00j  3.74109656e-02+0.00000000e+00j\n",
      "  3.62321218e-02+0.00000000e+00j  3.48996587e-02+0.00000000e+00j\n",
      "  3.26455163e-02+0.00000000e+00j  3.04159322e-02+0.00000000e+00j\n",
      "  3.15713085e-02+0.00000000e+00j  2.96348245e-02+0.00000000e+00j\n",
      "  2.87561822e-02+0.00000000e+00j  2.78819682e-02+0.00000000e+00j\n",
      "  2.66904841e-02+0.00000000e+00j  2.60036380e-02+0.00000000e+00j\n",
      "  2.46847770e-02+0.00000000e+00j  2.47701553e-02+0.00000000e+00j\n",
      "  2.18874731e-02+0.00000000e+00j  2.12951791e-02+0.00000000e+00j\n",
      "  7.59953753e-03+0.00000000e+00j  1.96708458e-02+0.00000000e+00j\n",
      "  1.90493764e-02+0.00000000e+00j  9.02070648e-03+0.00000000e+00j\n",
      "  9.61297362e-03+0.00000000e+00j  9.84048577e-03+0.00000000e+00j\n",
      "  1.07567406e-02+0.00000000e+00j  1.12360542e-02+0.00000000e+00j\n",
      "  1.20749987e-02+0.00000000e+00j  1.29108123e-02+0.00000000e+00j\n",
      "  1.37608127e-02+0.00000000e+00j  1.85083073e-02+0.00000000e+00j\n",
      "  1.76245006e-02+0.00000000e+00j  1.49891959e-02+0.00000000e+00j\n",
      "  1.54339014e-02+0.00000000e+00j  1.69361026e-02+0.00000000e+00j\n",
      "  1.64821392e-02+0.00000000e+00j  6.91348244e-03+0.00000000e+00j\n",
      "  6.52438894e-03+0.00000000e+00j  6.25058371e-03+0.00000000e+00j\n",
      "  4.33711734e-03+0.00000000e+00j -4.23890337e-15+4.60547142e-16j\n",
      " -4.23890337e-15-4.60547142e-16j -3.36855888e-15+1.33393254e-15j\n",
      " -3.36855888e-15-1.33393254e-15j -3.93436462e-15+0.00000000e+00j\n",
      "  4.32487280e-15+1.16859325e-16j  4.32487280e-15-1.16859325e-16j\n",
      " -3.63825606e-15+4.10282618e-16j -3.63825606e-15-4.10282618e-16j\n",
      " -3.57887786e-15+1.23729195e-16j -3.57887786e-15-1.23729195e-16j\n",
      " -3.16891820e-15+8.97427177e-16j -3.16891820e-15-8.97427177e-16j\n",
      " -3.29125640e-15+0.00000000e+00j -2.95572636e-15+6.61790679e-16j\n",
      " -2.95572636e-15-6.61790679e-16j -2.98254597e-15+4.26019147e-16j\n",
      " -2.98254597e-15-4.26019147e-16j -2.98354124e-15+1.03260582e-17j\n",
      " -2.98354124e-15-1.03260582e-17j  3.92073543e-15+5.41976353e-16j\n",
      "  3.92073543e-15-5.41976353e-16j  3.96786349e-15+0.00000000e+00j\n",
      "  2.63964673e-15+1.44229887e-15j  2.63964673e-15-1.44229887e-15j\n",
      "  3.36202841e-15+6.26171644e-16j  3.36202841e-15-6.26171644e-16j\n",
      "  3.56533250e-15+1.69885440e-16j  3.56533250e-15-1.69885440e-16j\n",
      "  3.54232500e-15+0.00000000e+00j  2.89958520e-15+6.52175383e-16j\n",
      "  2.89958520e-15-6.52175383e-16j  3.18781705e-15+1.84664198e-16j\n",
      "  3.18781705e-15-1.84664198e-16j  3.05301368e-15+0.00000000e+00j\n",
      "  2.94661403e-15+0.00000000e+00j  2.49620564e-15+7.30610200e-16j\n",
      "  2.49620564e-15-7.30610200e-16j  2.64687541e-15+5.42993858e-16j\n",
      "  2.64687541e-15-5.42993858e-16j  2.78794983e-15+2.82252146e-16j\n",
      "  2.78794983e-15-2.82252146e-16j  2.71491236e-15+0.00000000e+00j\n",
      "  2.57061870e-15+2.92234122e-16j  2.57061870e-15-2.92234122e-16j\n",
      " -2.10352862e-15+1.20186985e-15j -2.10352862e-15-1.20186985e-15j\n",
      " -2.84161242e-15+0.00000000e+00j -2.26509400e-15+8.06633691e-16j\n",
      " -2.26509400e-15-8.06633691e-16j -2.47136022e-15+3.80884539e-16j\n",
      " -2.47136022e-15-3.80884539e-16j -2.54112297e-15+0.00000000e+00j\n",
      " -2.42768578e-15+2.31351571e-16j -2.42768578e-15-2.31351571e-16j\n",
      "  2.37504922e-15+0.00000000e+00j  2.07517763e-15+6.36678794e-16j\n",
      "  2.07517763e-15-6.36678794e-16j  1.19220691e-15+1.20311598e-15j\n",
      "  1.19220691e-15-1.20311598e-15j  1.93515992e-15+4.77802574e-16j\n",
      "  1.93515992e-15-4.77802574e-16j  2.08149165e-15+6.66696207e-17j\n",
      "  2.08149165e-15-6.66696207e-17j -1.62670128e-15+9.56019627e-16j\n",
      " -1.62670128e-15-9.56019627e-16j -2.16393153e-15+3.51556733e-16j\n",
      " -2.16393153e-15-3.51556733e-16j -2.21027131e-15+0.00000000e+00j\n",
      " -2.15484015e-15+1.76832728e-16j -2.15484015e-15-1.76832728e-16j\n",
      " -2.01605729e-15+3.26896164e-16j -2.01605729e-15-3.26896164e-16j\n",
      " -1.74145666e-15+6.20113434e-16j -1.74145666e-15-6.20113434e-16j\n",
      " -2.17669513e-16+1.30871408e-15j -2.17669513e-16-1.30871408e-15j\n",
      "  2.02674118e-15+0.00000000e+00j  1.94740622e-15+2.54985883e-16j\n",
      "  1.94740622e-15-2.54985883e-16j  1.82006428e-15+4.33930101e-16j\n",
      "  1.82006428e-15-4.33930101e-16j  1.60373292e-15+5.58098472e-16j\n",
      "  1.60373292e-15-5.58098472e-16j  1.30210827e-15+7.70236710e-16j\n",
      "  1.30210827e-15-7.70236710e-16j -1.01312869e-15+9.37460901e-16j\n",
      " -1.01312869e-15-9.37460901e-16j -1.56517755e-15+5.96734399e-16j\n",
      " -1.56517755e-15-5.96734399e-16j -1.78075651e-15+0.00000000e+00j\n",
      " -1.69662416e-15+2.84755289e-16j -1.69662416e-15-2.84755289e-16j\n",
      " -1.54238310e-15+4.38070995e-16j -1.54238310e-15-4.38070995e-16j\n",
      "  1.49279038e-15+5.48743223e-16j  1.49279038e-15-5.48743223e-16j\n",
      " -9.80843936e-16+7.98177097e-16j -9.80843936e-16-7.98177097e-16j\n",
      " -1.61720202e-15+1.02407221e-17j -1.61720202e-15-1.02407221e-17j\n",
      "  1.23302361e-15+6.37938831e-16j  1.23302361e-15-6.37938831e-16j\n",
      " -1.13503395e-15+6.05471496e-16j -1.13503395e-15-6.05471496e-16j\n",
      " -1.28710171e-15+2.76029866e-16j -1.28710171e-15-2.76029866e-16j\n",
      " -5.54095094e-16+8.36187281e-16j -5.54095094e-16-8.36187281e-16j\n",
      "  8.08166038e-16+7.97596731e-16j  8.08166038e-16-7.97596731e-16j\n",
      "  1.43005492e-15+2.55993337e-16j  1.43005492e-15-2.55993337e-16j\n",
      "  1.45346634e-15+0.00000000e+00j  1.29999192e-15+3.87703495e-16j\n",
      "  1.29999192e-15-3.87703495e-16j  2.53931638e-16+8.25314057e-16j\n",
      "  2.53931638e-16-8.25314057e-16j -1.38581502e-16+8.44047376e-16j\n",
      " -1.38581502e-16-8.44047376e-16j -1.23254132e-15+2.95912609e-16j\n",
      " -1.23254132e-15-2.95912609e-16j -1.31935029e-15+0.00000000e+00j\n",
      "  1.39186093e-15+7.93996309e-17j  1.39186093e-15-7.93996309e-17j\n",
      " -8.18388470e-16+5.15090171e-16j -8.18388470e-16-5.15090171e-16j\n",
      "  5.02654721e-16+7.26637990e-16j  5.02654721e-16-7.26637990e-16j\n",
      "  6.18569852e-16+6.54942434e-16j  6.18569852e-16-6.54942434e-16j\n",
      "  8.08754992e-16+4.89951227e-16j  8.08754992e-16-4.89951227e-16j\n",
      " -1.18348736e-15+1.81642315e-17j -1.18348736e-15-1.81642315e-17j\n",
      " -5.57684407e-16+5.67385692e-16j -5.57684407e-16-5.67385692e-16j\n",
      "  1.08201708e-15+2.29727030e-16j  1.08201708e-15-2.29727030e-16j\n",
      "  2.07470107e-17+5.61085561e-16j  2.07470107e-17-5.61085561e-16j\n",
      " -8.49274221e-16+2.80106742e-16j -8.49274221e-16-2.80106742e-16j\n",
      " -3.84594669e-16+4.51152193e-16j -3.84594669e-16-4.51152193e-16j\n",
      " -1.06905357e-15+0.00000000e+00j -8.39882733e-16+5.57821403e-17j\n",
      " -8.39882733e-16-5.57821403e-17j  4.41342798e-16+4.12913513e-16j\n",
      "  4.41342798e-16-4.12913513e-16j  9.22738980e-16+2.83520209e-16j\n",
      "  9.22738980e-16-2.83520209e-16j  1.03436891e-15+1.81166642e-16j\n",
      "  1.03436891e-15-1.81166642e-16j  9.56894957e-16+0.00000000e+00j\n",
      " -5.76949931e-16+2.34785453e-16j -5.76949931e-16-2.34785453e-16j\n",
      " -9.02091424e-17+3.94077741e-16j -9.02091424e-17-3.94077741e-16j\n",
      "  2.93362291e-16+3.41550296e-16j  2.93362291e-16-3.41550296e-16j\n",
      " -3.77526147e-16+2.47063536e-16j -3.77526147e-16-2.47063536e-16j\n",
      "  7.86020720e-16+1.15843728e-16j  7.86020720e-16-1.15843728e-16j\n",
      "  8.13410390e-16+0.00000000e+00j -5.46561172e-16+0.00000000e+00j\n",
      " -3.96547326e-16+0.00000000e+00j  5.55386228e-16+1.28196648e-17j\n",
      "  5.55386228e-16-1.28196648e-17j  5.86197221e-16+0.00000000e+00j\n",
      "  3.37315658e-16+1.70651626e-16j  3.37315658e-16-1.70651626e-16j\n",
      " -4.96777254e-17+1.51314239e-16j -4.96777254e-17-1.51314239e-16j\n",
      " -1.01737307e-16+8.31548721e-17j -1.01737307e-16-8.31548721e-17j\n",
      "  1.01063541e-16+8.63935580e-17j  1.01063541e-16-8.63935580e-17j\n",
      " -3.00836807e-16+0.00000000e+00j  4.44622687e-20+0.00000000e+00j\n",
      "  0.00000000e+00+0.00000000e+00j  0.00000000e+00+0.00000000e+00j\n",
      "  0.00000000e+00+0.00000000e+00j  0.00000000e+00+0.00000000e+00j]\n",
      "eigen vectors \n",
      "[[ 0.        +0.j  0.        +0.j  0.        +0.j ...  0.        +0.j\n",
      "   0.        +0.j  0.        +0.j]\n",
      " [ 0.        +0.j  0.        +0.j  0.        +0.j ...  1.        +0.j\n",
      "   0.        +0.j  0.        +0.j]\n",
      " [ 0.02637466+0.j  0.07899082+0.j -0.06961242+0.j ...  0.        +0.j\n",
      "   0.        +0.j  0.        +0.j]\n",
      " ...\n",
      " [-0.09005057+0.j -0.00167724+0.j  0.01263659+0.j ...  0.        +0.j\n",
      "   0.        +0.j  0.        +0.j]\n",
      " [-0.00687563+0.j -0.0094538 +0.j  0.02169043+0.j ...  0.        +0.j\n",
      "   0.        +0.j  0.        +0.j]\n",
      " [ 0.0601745 +0.j -0.01231811+0.j  0.0140523 +0.j ...  0.        +0.j\n",
      "   0.        +0.j  0.        +0.j]]\n"
     ]
    }
   ],
   "source": [
    "cov_mat=np.cov(X_std.T)\n",
    "eig_vals,eig_vect=np.linalg.eig(cov_mat)\n",
    "print(\"eigen values \\n%s\"%eig_vals)\n",
    "print(\"eigen vectors \\n%s\"%eig_vect)\n"
   ]
  },
  {
   "cell_type": "code",
   "execution_count": null,
   "metadata": {
    "colab": {
     "base_uri": "https://localhost:8080/",
     "height": 1000
    },
    "executionInfo": {
     "elapsed": 1290,
     "status": "ok",
     "timestamp": 1603202807951,
     "user": {
      "displayName": "Shabhitha Murugadass",
      "photoUrl": "https://lh3.googleusercontent.com/a-/AOh14Gi7p7UAHTXYSPe5n79FNbudyYF3DblZOEKKAnVy=s64",
      "userId": "09384834320567856021"
     },
     "user_tz": -330
    },
    "id": "Mwcu8NVrSkp1",
    "outputId": "7ef7e3c7-94ab-4e4c-e59c-aa9b70899444"
   },
   "outputs": [
    {
     "name": "stdout",
     "output_type": "stream",
     "text": [
      "Eigen values in descending order\n",
      "(93.57342457064263+0j)\n",
      "(61.45559778628743+0j)\n",
      "(16.54500933338522+0j)\n",
      "(13.652998708397174+0j)\n",
      "(12.257732986309268+0j)\n",
      "(11.917696837014736+0j)\n",
      "(9.846134053601967+0j)\n",
      "(8.273541265533272+0j)\n",
      "(6.899925144213593+0j)\n",
      "(6.413419281208537+0j)\n",
      "(5.925707299932003+0j)\n",
      "(5.199164799917224+0j)\n",
      "(4.844317764754542+0j)\n",
      "(4.499024974792333+0j)\n",
      "(4.30971070102125+0j)\n",
      "(4.10563760625913+0j)\n",
      "(3.900814499181918+0j)\n",
      "(3.709105976242362+0j)\n",
      "(3.4701811397940783+0j)\n",
      "(3.355871645902374+0j)\n",
      "(3.1655718551738636+0j)\n",
      "(2.9914657515007494+0j)\n",
      "(2.931709867868645+0j)\n",
      "(2.812221953464202+0j)\n",
      "(2.618656501272816+0j)\n",
      "(2.5193711212020395+0j)\n",
      "(2.4120691526748987+0j)\n",
      "(2.270787889524158+0j)\n",
      "(2.2097212992406012+0j)\n",
      "(2.174415494390158+0j)\n",
      "(2.114687188995306+0j)\n",
      "(2.046147573067003+0j)\n",
      "(1.9979184088778488+0j)\n",
      "(1.9117166649125419+0j)\n",
      "(1.865225958265712+0j)\n",
      "(1.816874570907131+0j)\n",
      "(1.7118584742798475+0j)\n",
      "(1.6400477147224426+0j)\n",
      "(1.630522460225824+0j)\n",
      "(1.5867678719946772+0j)\n",
      "(1.5544163396761002+0j)\n",
      "(1.5145429293136792+0j)\n",
      "(1.5069844796865648+0j)\n",
      "(1.4705979340926272+0j)\n",
      "(1.3898687135531125+0j)\n",
      "(1.3618365367177538+0j)\n",
      "(1.3113800961357056+0j)\n",
      "(1.2853350092209896+0j)\n",
      "(1.2580927552384087+0j)\n",
      "(1.232303551918878+0j)\n",
      "(1.1894114834380567+0j)\n",
      "(1.161081369126827+0j)\n",
      "(1.140123834278868+0j)\n",
      "(1.0889763839542816+0j)\n",
      "(1.0371643239305322+0j)\n",
      "(1.010895748100498+0j)\n",
      "(0.9935544957742972+0j)\n",
      "(0.9667941107360054+0j)\n",
      "(0.9323045408555424+0j)\n",
      "(0.8090739244836249+0j)\n",
      "(0.8300605416832387+0j)\n",
      "(0.8470303743986511+0j)\n",
      "(0.9081863809207803+0j)\n",
      "(0.8837122876731998+0j)\n",
      "(0.8960870786029546+0j)\n",
      "(0.7610336744130631+0j)\n",
      "(0.7499111577816117+0j)\n",
      "(0.7327784902271761+0j)\n",
      "(0.7064575896641185+0j)\n",
      "(0.6862819994898947+0j)\n",
      "(0.6580362707424751+0j)\n",
      "(0.662690963957187+0j)\n",
      "(0.6259261196381847+0j)\n",
      "(0.6053648213186532+0j)\n",
      "(0.5911339597578009+0j)\n",
      "(0.5832704220622275+0j)\n",
      "(0.49466635874171194+0j)\n",
      "(0.4997698824035587+0j)\n",
      "(0.5130500556817649+0j)\n",
      "(0.5304616240596879+0j)\n",
      "(0.5402434258062838+0j)\n",
      "(0.5496620458334169+0j)\n",
      "(0.4822132597336415+0j)\n",
      "(0.47262389246151604+0j)\n",
      "(0.4672996837607707+0j)\n",
      "(0.329765872173633+0j)\n",
      "(0.4411210628037459+0j)\n",
      "(0.4360400316087986+0j)\n",
      "(0.34514742413984845+0j)\n",
      "(0.3543362422857169+0j)\n",
      "(0.361583152819977+0j)\n",
      "(0.37282338941874876+0j)\n",
      "(0.3867842426952626+0j)\n",
      "(0.3978018604847943+0j)\n",
      "(0.41735382759301043+0j)\n",
      "(0.4118089743692457+0j)\n",
      "(0.32000243763211333+0j)\n",
      "(0.31462632932832924+0j)\n",
      "(0.30708815368890763+0j)\n",
      "(0.29749726349339506+0j)\n",
      "(0.2957684875190951+0j)\n",
      "(0.2876640082185243+0j)\n",
      "(0.27287675015590557+0j)\n",
      "(0.2392312843627473+0j)\n",
      "(0.24404796315430596+0j)\n",
      "(0.26273474037126626+0j)\n",
      "(0.25980577909783586+0j)\n",
      "(0.25799987631448423+0j)\n",
      "(0.2502820932511998+0j)\n",
      "(0.2277595376541834+0j)\n",
      "(0.2193574409653725+0j)\n",
      "(0.21435512868169548+0j)\n",
      "(0.20356065083215505+0j)\n",
      "(0.20038542862156733+0j)\n",
      "(0.1958115603250813+0j)\n",
      "(0.18805839643799674+0j)\n",
      "(0.18296959375326932+0j)\n",
      "(0.17774295938697793+0j)\n",
      "(0.1657655087952733+0j)\n",
      "(0.1692095454461797+0j)\n",
      "(0.17203913276429764+0j)\n",
      "(0.15973854421690023+0j)\n",
      "(0.15369432761999682+0j)\n",
      "(0.15108945920757347+0j)\n",
      "(0.14705951343466953+0j)\n",
      "(0.14486164196151785+0j)\n",
      "(0.1156377377528085+0j)\n",
      "(0.14030376632739172+0j)\n",
      "(0.12157589159085595+0j)\n",
      "(0.12485544418268976+0j)\n",
      "(0.12886974305635698+0j)\n",
      "(0.13281864016986994+0j)\n",
      "(0.13599699293478784+0j)\n",
      "(0.11192082136040063+0j)\n",
      "(0.10898888673372288+0j)\n",
      "(0.10564315731329531+0j)\n",
      "(0.10172587778433098+0j)\n",
      "(0.09692383791981611+0j)\n",
      "(0.09459700178102283+0j)\n",
      "(0.09353538515238367+0j)\n",
      "(0.09391035264712363+0j)\n",
      "(0.0899296026342299+0j)\n",
      "(0.08396174179958422+0j)\n",
      "(0.08213996927049781+0j)\n",
      "(0.08010080823412945+0j)\n",
      "(0.07777453516438189+0j)\n",
      "(0.07540071283709221+0j)\n",
      "(0.07476458835642859+0j)\n",
      "(0.07088164171823355+0j)\n",
      "(0.0680832799866033+0j)\n",
      "(0.06633302870465246+0j)\n",
      "(0.06368406328577594+0j)\n",
      "(0.06113091015557704+0j)\n",
      "(0.058096025317574546+0j)\n",
      "(0.05616326840952119+0j)\n",
      "(0.05526979289204856+0j)\n",
      "(0.05479634434605584+0j)\n",
      "(0.0512701692737672+0j)\n",
      "(0.04984311641464631+0j)\n",
      "(0.04870556147185879+0j)\n",
      "(0.046827003236138566+0j)\n",
      "(0.04532756294926507+0j)\n",
      "(0.04372977601934479+0j)\n",
      "(0.04194791811840123+0j)\n",
      "(0.03960462184302195+0j)\n",
      "(0.037410965594201005+0j)\n",
      "(0.03623212181588728+0j)\n",
      "(0.03489965868447804+0j)\n",
      "(0.032645516292582596+0j)\n",
      "(0.03041593215337225+0j)\n",
      "(0.03157130852855344+0j)\n",
      "(0.02963482448695752+0j)\n",
      "(0.028756182223155607+0j)\n",
      "(0.027881968240858156+0j)\n",
      "(0.026690484103630906+0j)\n",
      "(0.0260036380447027+0j)\n",
      "(0.024684776965526675+0j)\n",
      "(0.024770155285170157+0j)\n",
      "(0.021887473085391018+0j)\n",
      "(0.021295179137993732+0j)\n",
      "(0.007599537529024272+0j)\n",
      "(0.01967084578578179+0j)\n",
      "(0.01904937642829623+0j)\n",
      "(0.009020706481310483+0j)\n",
      "(0.009612973622023412+0j)\n",
      "(0.009840485769349039+0j)\n",
      "(0.010756740550875452+0j)\n",
      "(0.011236054177514084+0j)\n",
      "(0.012074998665438914+0j)\n",
      "(0.012910812333863406+0j)\n",
      "(0.013760812684328012+0j)\n",
      "(0.01850830733647738+0j)\n",
      "(0.01762450064875056+0j)\n",
      "(0.014989195855551342+0j)\n",
      "(0.015433901448061447+0j)\n",
      "(0.016936102605967788+0j)\n",
      "(0.016482139211249112+0j)\n",
      "(0.006913482444339137+0j)\n",
      "(0.006524388942413703+0j)\n",
      "(0.006250583707631153+0j)\n",
      "(0.00433711733900413+0j)\n",
      "(-4.238903373724865e-15+4.605471420260624e-16j)\n",
      "(-4.238903373724865e-15-4.605471420260624e-16j)\n",
      "(-3.3685588830292518e-15+1.3339325365571618e-15j)\n",
      "(-3.3685588830292518e-15-1.3339325365571618e-15j)\n",
      "(-3.934364619984519e-15+0j)\n",
      "(4.324872802736405e-15+1.1685932539089023e-16j)\n",
      "(4.324872802736405e-15-1.1685932539089023e-16j)\n",
      "(-3.6382560643002465e-15+4.1028261764050723e-16j)\n",
      "(-3.6382560643002465e-15-4.1028261764050723e-16j)\n",
      "(-3.578877859239783e-15+1.2372919504786454e-16j)\n",
      "(-3.578877859239783e-15-1.2372919504786454e-16j)\n",
      "(-3.1689181998307134e-15+8.974271767324778e-16j)\n",
      "(-3.1689181998307134e-15-8.974271767324778e-16j)\n",
      "(-3.2912564042186424e-15+0j)\n",
      "(-2.9557263636969788e-15+6.617906786289745e-16j)\n",
      "(-2.9557263636969788e-15-6.617906786289745e-16j)\n",
      "(-2.982545973940987e-15+4.260191467980786e-16j)\n",
      "(-2.982545973940987e-15-4.260191467980786e-16j)\n",
      "(-2.9835412399155944e-15+1.0326058247812301e-17j)\n",
      "(-2.9835412399155944e-15-1.0326058247812301e-17j)\n",
      "(3.920735427247826e-15+5.419763528922162e-16j)\n",
      "(3.920735427247826e-15-5.419763528922162e-16j)\n",
      "(3.967863494953077e-15+0j)\n",
      "(2.6396467345531494e-15+1.4422988712569195e-15j)\n",
      "(2.6396467345531494e-15-1.4422988712569195e-15j)\n",
      "(3.3620284095326293e-15+6.261716435942855e-16j)\n",
      "(3.3620284095326293e-15-6.261716435942855e-16j)\n",
      "(3.565332495114618e-15+1.6988543996733272e-16j)\n",
      "(3.565332495114618e-15-1.6988543996733272e-16j)\n",
      "(3.5423249998272476e-15+0j)\n",
      "(2.899585200663012e-15+6.521753829385956e-16j)\n",
      "(2.899585200663012e-15-6.521753829385956e-16j)\n",
      "(3.1878170510445236e-15+1.846641981102369e-16j)\n",
      "(3.1878170510445236e-15-1.846641981102369e-16j)\n",
      "(3.0530136755074604e-15+0j)\n",
      "(2.94661403491329e-15+0j)\n",
      "(2.4962056444740905e-15+7.306101999491043e-16j)\n",
      "(2.4962056444740905e-15-7.306101999491043e-16j)\n",
      "(2.646875412309549e-15+5.429938579860034e-16j)\n",
      "(2.646875412309549e-15-5.429938579860034e-16j)\n",
      "(2.787949828229763e-15+2.8225214612268585e-16j)\n",
      "(2.787949828229763e-15-2.8225214612268585e-16j)\n",
      "(2.7149123645887117e-15+0j)\n",
      "(2.5706186990131383e-15+2.922341223878341e-16j)\n",
      "(2.5706186990131383e-15-2.922341223878341e-16j)\n",
      "(-2.103528617591318e-15+1.2018698470266834e-15j)\n",
      "(-2.103528617591318e-15-1.2018698470266834e-15j)\n",
      "(-2.8416124212605173e-15+0j)\n",
      "(-2.2650940036442786e-15+8.066336911675504e-16j)\n",
      "(-2.2650940036442786e-15-8.066336911675504e-16j)\n",
      "(-2.4713602228723407e-15+3.808845390097465e-16j)\n",
      "(-2.4713602228723407e-15-3.808845390097465e-16j)\n",
      "(-2.5411229690512477e-15+0j)\n",
      "(-2.427685776925286e-15+2.3135157063608534e-16j)\n",
      "(-2.427685776925286e-15-2.3135157063608534e-16j)\n",
      "(2.3750492212754204e-15+0j)\n",
      "(2.075177629658553e-15+6.366787936838584e-16j)\n",
      "(2.075177629658553e-15-6.366787936838584e-16j)\n",
      "(1.1922069072292533e-15+1.2031159785921297e-15j)\n",
      "(1.1922069072292533e-15-1.2031159785921297e-15j)\n",
      "(1.9351599220721e-15+4.778025739579425e-16j)\n",
      "(1.9351599220721e-15-4.778025739579425e-16j)\n",
      "(2.0814916491559168e-15+6.666962070718996e-17j)\n",
      "(2.0814916491559168e-15-6.666962070718996e-17j)\n",
      "(-1.6267012777096307e-15+9.560196272840359e-16j)\n",
      "(-1.6267012777096307e-15-9.560196272840359e-16j)\n",
      "(-2.1639315280541884e-15+3.5155673274091584e-16j)\n",
      "(-2.1639315280541884e-15-3.5155673274091584e-16j)\n",
      "(-2.2102713073690054e-15+0j)\n",
      "(-2.1548401536188214e-15+1.7683272796157537e-16j)\n",
      "(-2.1548401536188214e-15-1.7683272796157537e-16j)\n",
      "(-2.0160572882763006e-15+3.268961636811276e-16j)\n",
      "(-2.0160572882763006e-15-3.268961636811276e-16j)\n",
      "(-1.741456664884772e-15+6.201134342272002e-16j)\n",
      "(-1.741456664884772e-15-6.201134342272002e-16j)\n",
      "(-2.176695125343269e-16+1.3087140760791171e-15j)\n",
      "(-2.176695125343269e-16-1.3087140760791171e-15j)\n",
      "(2.0267411835223658e-15+0j)\n",
      "(1.947406218203186e-15+2.5498588330719214e-16j)\n",
      "(1.947406218203186e-15-2.5498588330719214e-16j)\n",
      "(1.820064278226795e-15+4.339301007770211e-16j)\n",
      "(1.820064278226795e-15-4.339301007770211e-16j)\n",
      "(1.6037329191846292e-15+5.580984723963148e-16j)\n",
      "(1.6037329191846292e-15-5.580984723963148e-16j)\n",
      "(1.302108273402216e-15+7.702367099641208e-16j)\n",
      "(1.302108273402216e-15-7.702367099641208e-16j)\n",
      "(-1.0131286858409827e-15+9.374609006729795e-16j)\n",
      "(-1.0131286858409827e-15-9.374609006729795e-16j)\n",
      "(-1.5651775532206721e-15+5.96734399191349e-16j)\n",
      "(-1.5651775532206721e-15-5.96734399191349e-16j)\n",
      "(-1.7807565103321566e-15+0j)\n",
      "(-1.6966241587806547e-15+2.847552892512165e-16j)\n",
      "(-1.6966241587806547e-15-2.847552892512165e-16j)\n",
      "(-1.5423830959754749e-15+4.3807099545734803e-16j)\n",
      "(-1.5423830959754749e-15-4.3807099545734803e-16j)\n",
      "(1.4927903761226791e-15+5.487432230287122e-16j)\n",
      "(1.4927903761226791e-15-5.487432230287122e-16j)\n",
      "(-9.808439360767179e-16+7.981770972430901e-16j)\n",
      "(-9.808439360767179e-16-7.981770972430901e-16j)\n",
      "(-1.6172020207598328e-15+1.0240722109458487e-17j)\n",
      "(-1.6172020207598328e-15-1.0240722109458487e-17j)\n",
      "(1.2330236102174036e-15+6.379388310638274e-16j)\n",
      "(1.2330236102174036e-15-6.379388310638274e-16j)\n",
      "(-1.1350339546131457e-15+6.054714962186715e-16j)\n",
      "(-1.1350339546131457e-15-6.054714962186715e-16j)\n",
      "(-1.2871017142927927e-15+2.760298661969534e-16j)\n",
      "(-1.2871017142927927e-15-2.760298661969534e-16j)\n",
      "(-5.540950937433631e-16+8.361872814713355e-16j)\n",
      "(-5.540950937433631e-16-8.361872814713355e-16j)\n",
      "(8.081660384116112e-16+7.975967305398184e-16j)\n",
      "(8.081660384116112e-16-7.975967305398184e-16j)\n",
      "(1.4300549180791274e-15+2.559933370247254e-16j)\n",
      "(1.4300549180791274e-15-2.559933370247254e-16j)\n",
      "(1.4534663440979853e-15+0j)\n",
      "(1.299991924375618e-15+3.8770349530279487e-16j)\n",
      "(1.299991924375618e-15-3.8770349530279487e-16j)\n",
      "(2.5393163787690627e-16+8.25314056700953e-16j)\n",
      "(2.5393163787690627e-16-8.25314056700953e-16j)\n",
      "(-1.3858150243361075e-16+8.440473762630737e-16j)\n",
      "(-1.3858150243361075e-16-8.440473762630737e-16j)\n",
      "(-1.232541320493792e-15+2.9591260942990944e-16j)\n",
      "(-1.232541320493792e-15-2.9591260942990944e-16j)\n",
      "(-1.3193502853047596e-15+0j)\n",
      "(1.391860930210944e-15+7.939963085245414e-17j)\n",
      "(1.391860930210944e-15-7.939963085245414e-17j)\n",
      "(-8.183884696222746e-16+5.150901707727995e-16j)\n",
      "(-8.183884696222746e-16-5.150901707727995e-16j)\n",
      "(5.0265472105082e-16+7.266379897917983e-16j)\n",
      "(5.0265472105082e-16-7.266379897917983e-16j)\n",
      "(6.185698517606499e-16+6.549424338906811e-16j)\n",
      "(6.185698517606499e-16-6.549424338906811e-16j)\n",
      "(8.087549916563875e-16+4.899512271894136e-16j)\n",
      "(8.087549916563875e-16-4.899512271894136e-16j)\n",
      "(-1.1834873615358975e-15+1.8164231461738132e-17j)\n",
      "(-1.1834873615358975e-15-1.8164231461738132e-17j)\n",
      "(-5.576844071661803e-16+5.673856917445673e-16j)\n",
      "(-5.576844071661803e-16-5.673856917445673e-16j)\n",
      "(1.0820170829376158e-15+2.297270297341923e-16j)\n",
      "(1.0820170829376158e-15-2.297270297341923e-16j)\n",
      "(2.0747010727329558e-17+5.610855614643306e-16j)\n",
      "(2.0747010727329558e-17-5.610855614643306e-16j)\n",
      "(-8.492742212232274e-16+2.801067424524548e-16j)\n",
      "(-8.492742212232274e-16-2.801067424524548e-16j)\n",
      "(-3.845946694198902e-16+4.5115219324494595e-16j)\n",
      "(-3.845946694198902e-16-4.5115219324494595e-16j)\n",
      "(-1.069053573462501e-15+0j)\n",
      "(-8.398827325509032e-16+5.578214026218984e-17j)\n",
      "(-8.398827325509032e-16-5.578214026218984e-17j)\n",
      "(4.413427982973724e-16+4.1291351320716454e-16j)\n",
      "(4.413427982973724e-16-4.1291351320716454e-16j)\n",
      "(9.227389800003138e-16+2.8352020901651536e-16j)\n",
      "(9.227389800003138e-16-2.8352020901651536e-16j)\n",
      "(1.0343689066025753e-15+1.8116664157269958e-16j)\n",
      "(1.0343689066025753e-15-1.8116664157269958e-16j)\n",
      "(9.56894957018685e-16+0j)\n",
      "(-5.769499307040492e-16+2.3478545300043294e-16j)\n",
      "(-5.769499307040492e-16-2.3478545300043294e-16j)\n",
      "(-9.020914242171189e-17+3.940777406387533e-16j)\n",
      "(-9.020914242171189e-17-3.940777406387533e-16j)\n",
      "(2.933622907239398e-16+3.415502956479681e-16j)\n",
      "(2.933622907239398e-16-3.415502956479681e-16j)\n",
      "(-3.7752614742945384e-16+2.470635358399511e-16j)\n",
      "(-3.7752614742945384e-16-2.470635358399511e-16j)\n",
      "(7.860207204435972e-16+1.15843727779611e-16j)\n",
      "(7.860207204435972e-16-1.15843727779611e-16j)\n",
      "(8.134103903384493e-16+0j)\n",
      "(-5.465611721375484e-16+0j)\n",
      "(-3.965473257460711e-16+0j)\n",
      "(5.553862284934432e-16+1.2819664825741025e-17j)\n",
      "(5.553862284934432e-16-1.2819664825741025e-17j)\n",
      "(5.861972213688334e-16+0j)\n",
      "(3.373156580448553e-16+1.7065162573429845e-16j)\n",
      "(3.373156580448553e-16-1.7065162573429845e-16j)\n",
      "(-4.96777254422168e-17+1.513142393106228e-16j)\n",
      "(-4.96777254422168e-17-1.513142393106228e-16j)\n",
      "(-1.0173730662587417e-16+8.31548721094409e-17j)\n",
      "(-1.0173730662587417e-16-8.31548721094409e-17j)\n",
      "(1.0106354076364184e-16+8.6393557978981e-17j)\n",
      "(1.0106354076364184e-16-8.6393557978981e-17j)\n",
      "(-3.0083680708502436e-16+0j)\n",
      "(4.4462268728526004e-20+0j)\n",
      "0j\n",
      "0j\n",
      "0j\n",
      "0j\n"
     ]
    }
   ],
   "source": [
    "eig_pairs=[(np.abs(eig_vals[i],eig_vect[1,i]) for i in range(len(eig_vals)))]\n",
    "print(\"Eigen values in descending order\")\n",
    "for i in eig_vals:\n",
    "     print(i)"
   ]
  },
  {
   "cell_type": "code",
   "execution_count": null,
   "metadata": {
    "id": "Z0xuetI_Skp6"
   },
   "outputs": [],
   "source": [
    "from sklearn.decomposition import PCA\n"
   ]
  },
  {
   "cell_type": "code",
   "execution_count": null,
   "metadata": {
    "colab": {
     "base_uri": "https://localhost:8080/",
     "height": 104
    },
    "executionInfo": {
     "elapsed": 1001,
     "status": "ok",
     "timestamp": 1603202820421,
     "user": {
      "displayName": "Shabhitha Murugadass",
      "photoUrl": "https://lh3.googleusercontent.com/a-/AOh14Gi7p7UAHTXYSPe5n79FNbudyYF3DblZOEKKAnVy=s64",
      "userId": "09384834320567856021"
     },
     "user_tz": -330
    },
    "id": "fY3Pb8HuSkp-",
    "outputId": "1150af35-c1b4-4416-b152-31293d23c5c5"
   },
   "outputs": [
    {
     "name": "stdout",
     "output_type": "stream",
     "text": [
      "[0.24374395 0.1600821  0.04309713 0.0355639  0.03192945 0.03104371\n",
      " 0.02564762 0.02155126 0.01797321 0.01670594 0.01543553 0.013543\n",
      " 0.01261868 0.01171925 0.01122611 0.01069454 0.010161   0.00966163\n",
      " 0.00903927 0.00874151 0.00824581 0.00779229 0.00763664 0.00732539\n",
      " 0.00682119 0.00656256 0.00628306 0.00591504 0.00575597 0.00566401]\n"
     ]
    }
   ],
   "source": [
    "pca=PCA(n_components=30)\n",
    "pca.fit_transform(X_std)\n",
    "print(pca.explained_variance_ratio_)"
   ]
  },
  {
   "cell_type": "code",
   "execution_count": null,
   "metadata": {
    "colab": {
     "base_uri": "https://localhost:8080/",
     "height": 35
    },
    "executionInfo": {
     "elapsed": 970,
     "status": "ok",
     "timestamp": 1603202823963,
     "user": {
      "displayName": "Shabhitha Murugadass",
      "photoUrl": "https://lh3.googleusercontent.com/a-/AOh14Gi7p7UAHTXYSPe5n79FNbudyYF3DblZOEKKAnVy=s64",
      "userId": "09384834320567856021"
     },
     "user_tz": -330
    },
    "id": "hMx_p5lCSkqD",
    "outputId": "9d2986d2-292d-4cd5-bd89-83e8f71e1b34"
   },
   "outputs": [
    {
     "data": {
      "text/plain": [
       "(202, 386)"
      ]
     },
     "execution_count": 16,
     "metadata": {
      "tags": []
     },
     "output_type": "execute_result"
    }
   ],
   "source": [
    "X_std.shape"
   ]
  },
  {
   "cell_type": "code",
   "execution_count": null,
   "metadata": {
    "colab": {
     "base_uri": "https://localhost:8080/",
     "height": 35
    },
    "executionInfo": {
     "elapsed": 1196,
     "status": "ok",
     "timestamp": 1603202827339,
     "user": {
      "displayName": "Shabhitha Murugadass",
      "photoUrl": "https://lh3.googleusercontent.com/a-/AOh14Gi7p7UAHTXYSPe5n79FNbudyYF3DblZOEKKAnVy=s64",
      "userId": "09384834320567856021"
     },
     "user_tz": -330
    },
    "id": "zR4gNLROSkqI",
    "outputId": "abb05f99-a9ce-4b99-872f-011a8c1af20b"
   },
   "outputs": [
    {
     "data": {
      "text/plain": [
       "(202, 30)"
      ]
     },
     "execution_count": 17,
     "metadata": {
      "tags": []
     },
     "output_type": "execute_result"
    }
   ],
   "source": [
    "X_pca=pca.transform(X_std)\n",
    "X_pca.shape"
   ]
  },
  {
   "cell_type": "code",
   "execution_count": null,
   "metadata": {
    "colab": {
     "base_uri": "https://localhost:8080/",
     "height": 243
    },
    "executionInfo": {
     "elapsed": 1657,
     "status": "ok",
     "timestamp": 1603202830960,
     "user": {
      "displayName": "Shabhitha Murugadass",
      "photoUrl": "https://lh3.googleusercontent.com/a-/AOh14Gi7p7UAHTXYSPe5n79FNbudyYF3DblZOEKKAnVy=s64",
      "userId": "09384834320567856021"
     },
     "user_tz": -330
    },
    "id": "k5fSsJHLSkqN",
    "outputId": "0704c8b2-4735-4192-8784-f2c12d9b8628"
   },
   "outputs": [
    {
     "data": {
      "text/plain": [
       "array([[ 6.07578745e+00, -8.38047932e+00,  5.58130628e+00, ...,\n",
       "        -9.14677259e-01, -3.96629264e-01, -2.32198171e+00],\n",
       "       [ 9.12110736e+00, -5.84381304e+00,  2.43789669e+00, ...,\n",
       "         2.71523835e+00,  3.14032861e+00, -9.08710223e-01],\n",
       "       [ 6.83180617e+00, -4.76137839e+00,  1.15791390e+00, ...,\n",
       "        -3.09614274e-01,  7.72268372e-03,  4.27384593e-01],\n",
       "       ...,\n",
       "       [ 2.81334254e+00,  7.93805591e+00, -5.43141253e+00, ...,\n",
       "        -7.21021333e-01, -2.40049281e+00,  5.93880802e-01],\n",
       "       [-7.44560356e+00, -9.60920880e-01,  3.56454774e+00, ...,\n",
       "        -2.32591025e-01, -2.77080921e-01, -8.77656900e-01],\n",
       "       [ 2.75939370e+00,  9.90058468e+00, -9.24194063e+00, ...,\n",
       "        -2.50516390e+00,  5.00335861e-01,  8.40395161e-01]])"
      ]
     },
     "execution_count": 18,
     "metadata": {
      "tags": []
     },
     "output_type": "execute_result"
    }
   ],
   "source": [
    "X_pca"
   ]
  },
  {
   "cell_type": "code",
   "execution_count": 1,
   "metadata": {
    "colab": {
     "base_uri": "https://localhost:8080/",
     "height": 180
    },
    "executionInfo": {
     "elapsed": 2631,
     "status": "error",
     "timestamp": 1603956751228,
     "user": {
      "displayName": "Aravind Srinivasan",
      "photoUrl": "https://lh3.googleusercontent.com/a-/AOh14Ghe2VFDFgic95xjnTzSQjtPsmUwL_di1wZdoeYr=s64",
      "userId": "16782759661997552051"
     },
     "user_tz": -330
    },
    "id": "IEfKFoTGSkqT",
    "outputId": "9ed56e9b-c821-44b1-e8ad-e3f3cb0083ae"
   },
   "outputs": [
    {
     "ename": "NameError",
     "evalue": "ignored",
     "output_type": "error",
     "traceback": [
      "\u001b[0;31m---------------------------------------------------------------------------\u001b[0m",
      "\u001b[0;31mNameError\u001b[0m                                 Traceback (most recent call last)",
      "\u001b[0;32m<ipython-input-1-5aa943713cf3>\u001b[0m in \u001b[0;36m<module>\u001b[0;34m()\u001b[0m\n\u001b[0;32m----> 1\u001b[0;31m \u001b[0ma\u001b[0m \u001b[0;34m=\u001b[0m \u001b[0mnumpy\u001b[0m\u001b[0;34m.\u001b[0m\u001b[0masarray\u001b[0m\u001b[0;34m(\u001b[0m\u001b[0mX_pca\u001b[0m\u001b[0;34m)\u001b[0m\u001b[0;34m\u001b[0m\u001b[0;34m\u001b[0m\u001b[0m\n\u001b[0m\u001b[1;32m      2\u001b[0m \u001b[0mnumpy\u001b[0m\u001b[0;34m.\u001b[0m\u001b[0msavetxt\u001b[0m\u001b[0;34m(\u001b[0m\u001b[0;34m\"pca.csv\"\u001b[0m\u001b[0;34m,\u001b[0m \u001b[0ma\u001b[0m\u001b[0;34m,\u001b[0m \u001b[0mdelimiter\u001b[0m\u001b[0;34m=\u001b[0m\u001b[0;34m\",\"\u001b[0m\u001b[0;34m)\u001b[0m\u001b[0;34m\u001b[0m\u001b[0;34m\u001b[0m\u001b[0m\n",
      "\u001b[0;31mNameError\u001b[0m: name 'numpy' is not defined"
     ]
    }
   ],
   "source": [
    "a = numpy.asarray(X_pca)\n",
    "numpy.savetxt(\"pca.csv\", a, delimiter=\",\")"
   ]
  },
  {
   "cell_type": "code",
   "execution_count": null,
   "metadata": {
    "colab": {
     "base_uri": "https://localhost:8080/",
     "height": 279
    },
    "executionInfo": {
     "elapsed": 1079,
     "status": "ok",
     "timestamp": 1603202839383,
     "user": {
      "displayName": "Shabhitha Murugadass",
      "photoUrl": "https://lh3.googleusercontent.com/a-/AOh14Gi7p7UAHTXYSPe5n79FNbudyYF3DblZOEKKAnVy=s64",
      "userId": "09384834320567856021"
     },
     "user_tz": -330
    },
    "id": "UeHOrW1QSkqY",
    "outputId": "30c9bf77-7cc0-4bbc-b2d3-823b44369512"
   },
   "outputs": [
    {
     "data": {
      "image/png": "[encoded data removed]",
      "text/plain": [
       "<Figure size 432x288 with 1 Axes>"
      ]
     },
     "metadata": {
      "needs_background": "light",
      "tags": []
     },
     "output_type": "display_data"
    }
   ],
   "source": [
    "pca=PCA().fit(X_std)\n",
    "plt.plot(np.cumsum(pca.explained_variance_ratio_))\n",
    "plt.xlabel('number of components')\n",
    "plt.ylabel('cumulative explained variance')\n",
    "plt.show()"
   ]
  },
  {
   "cell_type": "code",
   "execution_count": null,
   "metadata": {
    "id": "pOupudFiSkqe"
   },
   "outputs": [],
   "source": [
    "#plt.figure(flagsize=(1,0))\n",
    "#plt.scatter(X_pca[1,0],X_pca[1,0],d1)\n",
    "#plt.xlabel('number of components')\n",
    "#plt.ylabel('cumulative explained variance')"
   ]
  },
  {
   "cell_type": "code",
   "execution_count": null,
   "metadata": {
    "id": "m6cOKemaSkqj"
   },
   "outputs": [],
   "source": []
  }
 ],
 "metadata": {
  "colab": {
   "name": "PCA.ipynb",
   "provenance": []
  },
  "kernelspec": {
   "display_name": "Python 3",
   "language": "python",
   "name": "python3"
  },
  "language_info": {
   "codemirror_mode": {
    "name": "ipython",
    "version": 3
   },
   "file_extension": ".py",
   "mimetype": "text/x-python",
   "name": "python",
   "nbconvert_exporter": "python",
   "pygments_lexer": "ipython3",
   "version": "3.7.3"
  }
 },
 "nbformat": 4,
 "nbformat_minor": 1
}
