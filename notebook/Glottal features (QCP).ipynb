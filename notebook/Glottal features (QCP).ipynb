{
 "cells": [
  {
   "cell_type": "code",
   "execution_count": 2,
   "metadata": {},
   "outputs": [],
   "source": [
    "import pandas as pd\n",
    "import numpy as np"
   ]
  },
  {
   "cell_type": "code",
   "execution_count": 66,
   "metadata": {},
   "outputs": [],
   "source": [
    "df = pd.read_csv('Glottal features.csv')\n",
    "\n",
    "df.fillna(0, inplace=True)"
   ]
  },
  {
   "cell_type": "code",
   "execution_count": 67,
   "metadata": {},
   "outputs": [
    {
     "data": {
      "text/html": [
       "<div>\n",
       "<style scoped>\n",
       "    .dataframe tbody tr th:only-of-type {\n",
       "        vertical-align: middle;\n",
       "    }\n",
       "\n",
       "    .dataframe tbody tr th {\n",
       "        vertical-align: top;\n",
       "    }\n",
       "\n",
       "    .dataframe thead th {\n",
       "        text-align: right;\n",
       "    }\n",
       "</style>\n",
       "<table border=\"1\" class=\"dataframe\">\n",
       "  <thead>\n",
       "    <tr style=\"text-align: right;\">\n",
       "      <th></th>\n",
       "      <th>OQ1</th>\n",
       "      <th>OQ2</th>\n",
       "      <th>NAQ</th>\n",
       "      <th>AQ</th>\n",
       "      <th>ClQ</th>\n",
       "      <th>OQa</th>\n",
       "      <th>QOQ</th>\n",
       "      <th>SQ1</th>\n",
       "      <th>SQ2</th>\n",
       "      <th>DH12</th>\n",
       "      <th>PSP</th>\n",
       "      <th>HRF</th>\n",
       "    </tr>\n",
       "  </thead>\n",
       "  <tbody>\n",
       "    <tr>\n",
       "      <th>0</th>\n",
       "      <td>13.472685</td>\n",
       "      <td>10.142316</td>\n",
       "      <td>0.991781</td>\n",
       "      <td>0.006941</td>\n",
       "      <td>7.703431</td>\n",
       "      <td>2.417849</td>\n",
       "      <td>4.889335</td>\n",
       "      <td>15.031153</td>\n",
       "      <td>6.548111</td>\n",
       "      <td>21.701640</td>\n",
       "      <td>9.005336</td>\n",
       "      <td>-10.397435</td>\n",
       "    </tr>\n",
       "    <tr>\n",
       "      <th>1</th>\n",
       "      <td>0.812903</td>\n",
       "      <td>0.646946</td>\n",
       "      <td>0.153377</td>\n",
       "      <td>0.002528</td>\n",
       "      <td>0.415674</td>\n",
       "      <td>0.405545</td>\n",
       "      <td>0.488987</td>\n",
       "      <td>0.965098</td>\n",
       "      <td>0.532640</td>\n",
       "      <td>21.698599</td>\n",
       "      <td>0.275154</td>\n",
       "      <td>0.924383</td>\n",
       "    </tr>\n",
       "    <tr>\n",
       "      <th>2</th>\n",
       "      <td>13.472685</td>\n",
       "      <td>10.142316</td>\n",
       "      <td>0.991781</td>\n",
       "      <td>0.006941</td>\n",
       "      <td>7.703431</td>\n",
       "      <td>2.417849</td>\n",
       "      <td>4.889335</td>\n",
       "      <td>15.031153</td>\n",
       "      <td>6.548111</td>\n",
       "      <td>23.301822</td>\n",
       "      <td>9.005336</td>\n",
       "      <td>-8.691624</td>\n",
       "    </tr>\n",
       "    <tr>\n",
       "      <th>3</th>\n",
       "      <td>0.710072</td>\n",
       "      <td>0.476530</td>\n",
       "      <td>0.077525</td>\n",
       "      <td>0.001359</td>\n",
       "      <td>0.344136</td>\n",
       "      <td>0.220149</td>\n",
       "      <td>0.140251</td>\n",
       "      <td>0.980445</td>\n",
       "      <td>0.671318</td>\n",
       "      <td>19.577620</td>\n",
       "      <td>0.350059</td>\n",
       "      <td>6.190404</td>\n",
       "    </tr>\n",
       "    <tr>\n",
       "      <th>4</th>\n",
       "      <td>13.472685</td>\n",
       "      <td>10.142316</td>\n",
       "      <td>0.991781</td>\n",
       "      <td>0.006941</td>\n",
       "      <td>7.703431</td>\n",
       "      <td>2.417849</td>\n",
       "      <td>4.889335</td>\n",
       "      <td>15.031153</td>\n",
       "      <td>6.548111</td>\n",
       "      <td>20.080114</td>\n",
       "      <td>9.005336</td>\n",
       "      <td>-9.621048</td>\n",
       "    </tr>\n",
       "  </tbody>\n",
       "</table>\n",
       "</div>"
      ],
      "text/plain": [
       "         OQ1        OQ2       NAQ        AQ       ClQ       OQa       QOQ  \\\n",
       "0  13.472685  10.142316  0.991781  0.006941  7.703431  2.417849  4.889335   \n",
       "1   0.812903   0.646946  0.153377  0.002528  0.415674  0.405545  0.488987   \n",
       "2  13.472685  10.142316  0.991781  0.006941  7.703431  2.417849  4.889335   \n",
       "3   0.710072   0.476530  0.077525  0.001359  0.344136  0.220149  0.140251   \n",
       "4  13.472685  10.142316  0.991781  0.006941  7.703431  2.417849  4.889335   \n",
       "\n",
       "         SQ1       SQ2       DH12       PSP        HRF  \n",
       "0  15.031153  6.548111  21.701640  9.005336 -10.397435  \n",
       "1   0.965098  0.532640  21.698599  0.275154   0.924383  \n",
       "2  15.031153  6.548111  23.301822  9.005336  -8.691624  \n",
       "3   0.980445  0.671318  19.577620  0.350059   6.190404  \n",
       "4  15.031153  6.548111  20.080114  9.005336  -9.621048  "
      ]
     },
     "execution_count": 67,
     "metadata": {},
     "output_type": "execute_result"
    }
   ],
   "source": [
    "columns = df.columns.tolist()\n",
    "from numpy import nan\n",
    "features = [f for f in filter(lambda x: x not in ['Label', 'frameTime'], columns)]\n",
    "target = ['Label']\n",
    "\n",
    "feature_df = df[features].replace(0, nan)\n",
    "feature_df.fillna(feature_df.sum(), inplace=True)\n",
    "\n",
    "X = np.asarray(feature_df)\n",
    "\n",
    "y = np.asarray(df['Label'])\n",
    "feature_df.head()\n"
   ]
  },
  {
   "cell_type": "code",
   "execution_count": 68,
   "metadata": {},
   "outputs": [],
   "source": [
    "from sklearn.preprocessing import MinMaxScaler\n",
    "\n",
    "scaler = MinMaxScaler()\n",
    "scaler.fit(X)\n",
    "\n",
    "X = scaler.transform(X)"
   ]
  },
  {
   "cell_type": "code",
   "execution_count": 69,
   "metadata": {},
   "outputs": [
    {
     "data": {
      "text/plain": [
       "(181, 12)"
      ]
     },
     "execution_count": 69,
     "metadata": {},
     "output_type": "execute_result"
    }
   ],
   "source": [
    "from sklearn.model_selection import train_test_split\n",
    "\n",
    "\n",
    "X_train, X_test, y_train, y_test = train_test_split(X, y, test_size=0.1, random_state=4)\n",
    "\n",
    "X_train.shape"
   ]
  },
  {
   "cell_type": "code",
   "execution_count": 70,
   "metadata": {},
   "outputs": [],
   "source": [
    "from sklearn import svm\n",
    "\n",
    "classifier = svm.SVC(kernel='rbf',C=10, gamma=0.1)\n",
    "\n",
    "classifier.fit(X_train, y_train)\n",
    "\n",
    "y_predict = classifier.predict(X_test)"
   ]
  },
  {
   "cell_type": "code",
   "execution_count": 71,
   "metadata": {},
   "outputs": [
    {
     "name": "stdout",
     "output_type": "stream",
     "text": [
      "              precision    recall  f1-score   support\n",
      "\n",
      "           1       1.00      0.25      0.40         8\n",
      "           2       0.68      1.00      0.81        13\n",
      "\n",
      "   micro avg       0.71      0.71      0.71        21\n",
      "   macro avg       0.84      0.62      0.61        21\n",
      "weighted avg       0.80      0.71      0.66        21\n",
      "\n"
     ]
    }
   ],
   "source": [
    "from sklearn.metrics import classification_report\n",
    "\n",
    "print(classification_report(y_test, y_predict))"
   ]
  },
  {
   "cell_type": "code",
   "execution_count": 72,
   "metadata": {},
   "outputs": [
    {
     "data": {
      "text/plain": [
       "0.7142857142857143"
      ]
     },
     "execution_count": 72,
     "metadata": {},
     "output_type": "execute_result"
    }
   ],
   "source": [
    "from sklearn.metrics import accuracy_score\n",
    "accuracy_score(y_test, y_predict)"
   ]
  },
  {
   "cell_type": "code",
   "execution_count": null,
   "metadata": {},
   "outputs": [],
   "source": []
  }
 ],
 "metadata": {
  "kernelspec": {
   "display_name": "'Python Interactive'",
   "language": "python",
   "name": "63476874-fa36-435a-a3b9-898b5473e28f"
  },
  "language_info": {
   "codemirror_mode": {
    "name": "ipython",
    "version": 3
   },
   "file_extension": ".py",
   "mimetype": "text/x-python",
   "name": "python",
   "nbconvert_exporter": "python",
   "pygments_lexer": "ipython3",
   "version": "3.7.3"
  }
 },
 "nbformat": 4,
 "nbformat_minor": 2
}
