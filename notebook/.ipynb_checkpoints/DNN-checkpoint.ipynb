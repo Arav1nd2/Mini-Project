{
 "cells": [
  {
   "cell_type": "markdown",
   "metadata": {},
   "source": [
    "# Artificial Neural Network (ANN) implementation"
   ]
  },
  {
   "cell_type": "code",
   "execution_count": 23,
   "metadata": {},
   "outputs": [],
   "source": [
    "import numpy as np \n",
    "import pandas as pd\n",
    "from keras.models import Sequential\n",
    "from keras.layers import Dense\n",
    "from keras.layers import Dropout\n",
    "from keras.layers import Flatten\n",
    "from keras.layers.convolutional import Convolution2D\n",
    "from keras.layers.convolutional import MaxPooling2D\n",
    "from sklearn.preprocessing import LabelEncoder,OneHotEncoder\n",
    "from keras import backend as K\n",
    "from modules import *"
   ]
  },
  {
   "cell_type": "code",
   "execution_count": 2,
   "metadata": {},
   "outputs": [],
   "source": [
    "train = pd.read_csv(\"../Data/Glottal.csv\")\n",
    "\n",
    "train.fillna(0, inplace=True)"
   ]
  },
  {
   "cell_type": "code",
   "execution_count": 3,
   "metadata": {},
   "outputs": [
    {
     "data": {
      "text/html": [
       "<div>\n",
       "<style scoped>\n",
       "    .dataframe tbody tr th:only-of-type {\n",
       "        vertical-align: middle;\n",
       "    }\n",
       "\n",
       "    .dataframe tbody tr th {\n",
       "        vertical-align: top;\n",
       "    }\n",
       "\n",
       "    .dataframe thead th {\n",
       "        text-align: right;\n",
       "    }\n",
       "</style>\n",
       "<table border=\"1\" class=\"dataframe\">\n",
       "  <thead>\n",
       "    <tr style=\"text-align: right;\">\n",
       "      <th></th>\n",
       "      <th>sno</th>\n",
       "      <th>AQ_kurt</th>\n",
       "      <th>AQ_max</th>\n",
       "      <th>AQ_mean</th>\n",
       "      <th>AQ_median</th>\n",
       "      <th>AQ_min</th>\n",
       "      <th>AQ_skew</th>\n",
       "      <th>AQ_std</th>\n",
       "      <th>ClQ_kurt</th>\n",
       "      <th>ClQ_max</th>\n",
       "      <th>...</th>\n",
       "      <th>SQ1_std</th>\n",
       "      <th>SQ2_kurt</th>\n",
       "      <th>SQ2_max</th>\n",
       "      <th>SQ2_mean</th>\n",
       "      <th>SQ2_median</th>\n",
       "      <th>SQ2_min</th>\n",
       "      <th>SQ2_skew</th>\n",
       "      <th>SQ2_std</th>\n",
       "      <th>filename</th>\n",
       "      <th>label</th>\n",
       "    </tr>\n",
       "  </thead>\n",
       "  <tbody>\n",
       "    <tr>\n",
       "      <th>0</th>\n",
       "      <td>0</td>\n",
       "      <td>-1.125019</td>\n",
       "      <td>0.001362</td>\n",
       "      <td>0.000734</td>\n",
       "      <td>0.000578</td>\n",
       "      <td>0.000025</td>\n",
       "      <td>0.399345</td>\n",
       "      <td>0.000339</td>\n",
       "      <td>-1.513942</td>\n",
       "      <td>0.635115</td>\n",
       "      <td>...</td>\n",
       "      <td>0.675402</td>\n",
       "      <td>0.308816</td>\n",
       "      <td>2.674824</td>\n",
       "      <td>1.157275</td>\n",
       "      <td>1.006275</td>\n",
       "      <td>0.075223</td>\n",
       "      <td>0.952797</td>\n",
       "      <td>0.536728</td>\n",
       "      <td>D21</td>\n",
       "      <td>1</td>\n",
       "    </tr>\n",
       "    <tr>\n",
       "      <th>1</th>\n",
       "      <td>1</td>\n",
       "      <td>0.000000</td>\n",
       "      <td>0.000273</td>\n",
       "      <td>0.000273</td>\n",
       "      <td>0.000273</td>\n",
       "      <td>0.000273</td>\n",
       "      <td>0.000000</td>\n",
       "      <td>0.000000</td>\n",
       "      <td>0.000000</td>\n",
       "      <td>0.212901</td>\n",
       "      <td>...</td>\n",
       "      <td>0.000000</td>\n",
       "      <td>0.000000</td>\n",
       "      <td>2.212919</td>\n",
       "      <td>2.212919</td>\n",
       "      <td>2.212919</td>\n",
       "      <td>2.212919</td>\n",
       "      <td>0.000000</td>\n",
       "      <td>0.000000</td>\n",
       "      <td>D41</td>\n",
       "      <td>1</td>\n",
       "    </tr>\n",
       "    <tr>\n",
       "      <th>2</th>\n",
       "      <td>2</td>\n",
       "      <td>0.000000</td>\n",
       "      <td>0.000000</td>\n",
       "      <td>0.000000</td>\n",
       "      <td>0.000000</td>\n",
       "      <td>0.000000</td>\n",
       "      <td>0.000000</td>\n",
       "      <td>0.000000</td>\n",
       "      <td>0.000000</td>\n",
       "      <td>0.000000</td>\n",
       "      <td>...</td>\n",
       "      <td>0.000000</td>\n",
       "      <td>0.000000</td>\n",
       "      <td>0.000000</td>\n",
       "      <td>0.000000</td>\n",
       "      <td>0.000000</td>\n",
       "      <td>0.000000</td>\n",
       "      <td>0.000000</td>\n",
       "      <td>0.000000</td>\n",
       "      <td>D62</td>\n",
       "      <td>1</td>\n",
       "    </tr>\n",
       "    <tr>\n",
       "      <th>3</th>\n",
       "      <td>3</td>\n",
       "      <td>-1.030347</td>\n",
       "      <td>0.001417</td>\n",
       "      <td>0.000791</td>\n",
       "      <td>0.000885</td>\n",
       "      <td>0.000069</td>\n",
       "      <td>-0.182928</td>\n",
       "      <td>0.000360</td>\n",
       "      <td>-0.023530</td>\n",
       "      <td>0.869753</td>\n",
       "      <td>...</td>\n",
       "      <td>1.185508</td>\n",
       "      <td>35.373686</td>\n",
       "      <td>8.356877</td>\n",
       "      <td>0.872556</td>\n",
       "      <td>0.715124</td>\n",
       "      <td>0.000000</td>\n",
       "      <td>5.312221</td>\n",
       "      <td>0.945553</td>\n",
       "      <td>D26</td>\n",
       "      <td>1</td>\n",
       "    </tr>\n",
       "    <tr>\n",
       "      <th>4</th>\n",
       "      <td>4</td>\n",
       "      <td>-0.485704</td>\n",
       "      <td>0.000403</td>\n",
       "      <td>0.000215</td>\n",
       "      <td>0.000237</td>\n",
       "      <td>0.000046</td>\n",
       "      <td>0.101187</td>\n",
       "      <td>0.000095</td>\n",
       "      <td>-0.931441</td>\n",
       "      <td>0.839397</td>\n",
       "      <td>...</td>\n",
       "      <td>2.236482</td>\n",
       "      <td>18.286592</td>\n",
       "      <td>6.931799</td>\n",
       "      <td>0.688371</td>\n",
       "      <td>0.341031</td>\n",
       "      <td>0.084272</td>\n",
       "      <td>4.242434</td>\n",
       "      <td>1.524225</td>\n",
       "      <td>D28</td>\n",
       "      <td>1</td>\n",
       "    </tr>\n",
       "  </tbody>\n",
       "</table>\n",
       "<p>5 rows × 69 columns</p>\n",
       "</div>"
      ],
      "text/plain": [
       "   sno   AQ_kurt    AQ_max   AQ_mean  AQ_median    AQ_min   AQ_skew    AQ_std  \\\n",
       "0    0 -1.125019  0.001362  0.000734   0.000578  0.000025  0.399345  0.000339   \n",
       "1    1  0.000000  0.000273  0.000273   0.000273  0.000273  0.000000  0.000000   \n",
       "2    2  0.000000  0.000000  0.000000   0.000000  0.000000  0.000000  0.000000   \n",
       "3    3 -1.030347  0.001417  0.000791   0.000885  0.000069 -0.182928  0.000360   \n",
       "4    4 -0.485704  0.000403  0.000215   0.000237  0.000046  0.101187  0.000095   \n",
       "\n",
       "   ClQ_kurt   ClQ_max  ...   SQ1_std   SQ2_kurt   SQ2_max  SQ2_mean  \\\n",
       "0 -1.513942  0.635115  ...  0.675402   0.308816  2.674824  1.157275   \n",
       "1  0.000000  0.212901  ...  0.000000   0.000000  2.212919  2.212919   \n",
       "2  0.000000  0.000000  ...  0.000000   0.000000  0.000000  0.000000   \n",
       "3 -0.023530  0.869753  ...  1.185508  35.373686  8.356877  0.872556   \n",
       "4 -0.931441  0.839397  ...  2.236482  18.286592  6.931799  0.688371   \n",
       "\n",
       "   SQ2_median   SQ2_min  SQ2_skew   SQ2_std  filename  label  \n",
       "0    1.006275  0.075223  0.952797  0.536728       D21      1  \n",
       "1    2.212919  2.212919  0.000000  0.000000       D41      1  \n",
       "2    0.000000  0.000000  0.000000  0.000000       D62      1  \n",
       "3    0.715124  0.000000  5.312221  0.945553       D26      1  \n",
       "4    0.341031  0.084272  4.242434  1.524225       D28      1  \n",
       "\n",
       "[5 rows x 69 columns]"
      ]
     },
     "execution_count": 3,
     "metadata": {},
     "output_type": "execute_result"
    }
   ],
   "source": [
    "train.head()"
   ]
  },
  {
   "cell_type": "code",
   "execution_count": 4,
   "metadata": {},
   "outputs": [],
   "source": [
    "columns = train.columns.tolist()\n",
    "\n",
    "features = [f for f in filter(lambda x: x not in ['sno','label', 'frameTime','filename'], columns)]\n",
    "target = ['label']\n",
    "\n",
    "feature_df = train[features]\n",
    "\n",
    "X = np.asarray(feature_df.values)\n",
    "\n",
    "y = np.asarray(train['label'].values)"
   ]
  },
  {
   "cell_type": "code",
   "execution_count": 5,
   "metadata": {},
   "outputs": [],
   "source": [
    "from sklearn.model_selection import train_test_split\n",
    "\n",
    "\n",
    "X_train, X_test, y_train, y_test = train_test_split(X, y, test_size=0.1, random_state=4)\n"
   ]
  },
  {
   "cell_type": "code",
   "execution_count": 6,
   "metadata": {},
   "outputs": [],
   "source": [
    "\n",
    "from sklearn import preprocessing \n",
    "  \n",
    "# label_encoder object knows how to understand word labels. \n",
    "label_encoder = preprocessing.LabelEncoder() \n",
    "  \n",
    "# Encode labels in column 'species'. \n",
    "y_train= label_encoder.fit_transform(y_train)"
   ]
  },
  {
   "cell_type": "code",
   "execution_count": 7,
   "metadata": {},
   "outputs": [],
   "source": [
    "y_test = y_test.reshape(-1,1)\n",
    "y_train = y_train.reshape(-1,1)"
   ]
  },
  {
   "cell_type": "code",
   "execution_count": 8,
   "metadata": {},
   "outputs": [
    {
     "name": "stdout",
     "output_type": "stream",
     "text": [
      "WARNING:tensorflow:From C:\\Users\\Ashwin Ram\\Anaconda3\\lib\\site-packages\\keras\\backend\\tensorflow_backend.py:66: The name tf.get_default_graph is deprecated. Please use tf.compat.v1.get_default_graph instead.\n",
      "\n",
      "WARNING:tensorflow:From C:\\Users\\Ashwin Ram\\Anaconda3\\lib\\site-packages\\keras\\backend\\tensorflow_backend.py:541: The name tf.placeholder is deprecated. Please use tf.compat.v1.placeholder instead.\n",
      "\n",
      "WARNING:tensorflow:From C:\\Users\\Ashwin Ram\\Anaconda3\\lib\\site-packages\\keras\\backend\\tensorflow_backend.py:4432: The name tf.random_uniform is deprecated. Please use tf.random.uniform instead.\n",
      "\n",
      "WARNING:tensorflow:From C:\\Users\\Ashwin Ram\\Anaconda3\\lib\\site-packages\\keras\\optimizers.py:793: The name tf.train.Optimizer is deprecated. Please use tf.compat.v1.train.Optimizer instead.\n",
      "\n",
      "WARNING:tensorflow:From C:\\Users\\Ashwin Ram\\Anaconda3\\lib\\site-packages\\keras\\backend\\tensorflow_backend.py:3657: The name tf.log is deprecated. Please use tf.math.log instead.\n",
      "\n",
      "WARNING:tensorflow:From C:\\Users\\Ashwin Ram\\Anaconda3\\lib\\site-packages\\tensorflow\\python\\ops\\nn_impl.py:180: add_dispatch_support.<locals>.wrapper (from tensorflow.python.ops.array_ops) is deprecated and will be removed in a future version.\n",
      "Instructions for updating:\n",
      "Use tf.where in 2.0, which has the same broadcast rule as np.where\n"
     ]
    },
    {
     "name": "stderr",
     "output_type": "stream",
     "text": [
      "C:\\Users\\Ashwin Ram\\Anaconda3\\lib\\site-packages\\ipykernel_launcher.py:5: UserWarning: Update your `Dense` call to the Keras 2 API: `Dense(activation=\"relu\", input_dim=66, units=6, kernel_initializer=\"uniform\")`\n",
      "  \"\"\"\n",
      "C:\\Users\\Ashwin Ram\\Anaconda3\\lib\\site-packages\\ipykernel_launcher.py:8: UserWarning: Update your `Dense` call to the Keras 2 API: `Dense(activation=\"relu\", units=6, kernel_initializer=\"uniform\")`\n",
      "  \n",
      "C:\\Users\\Ashwin Ram\\Anaconda3\\lib\\site-packages\\ipykernel_launcher.py:11: UserWarning: Update your `Dense` call to the Keras 2 API: `Dense(activation=\"sigmoid\", units=1, kernel_initializer=\"uniform\")`\n",
      "  # This is added back by InteractiveShellApp.init_path()\n"
     ]
    }
   ],
   "source": [
    "#initialising the Aritificial Neural Network\n",
    "classifier = Sequential()\n",
    "\n",
    "#adding the input layer and first hidden layer\n",
    "classifier.add(Dense(output_dim = 6,init = 'uniform',activation = 'relu',input_dim=66))\n",
    "\n",
    "#adding the second hidden layer\n",
    "classifier.add(Dense(output_dim = 6,init = 'uniform',activation = 'relu'))\n",
    "\n",
    "#adding the output layer\n",
    "classifier.add(Dense(output_dim = 1,init = 'uniform',activation = 'sigmoid'))\n",
    "\n",
    "#compling the Artificial neural network\n",
    "classifier.compile(optimizer = 'adam', loss = 'binary_crossentropy', metrics = ['accuracy'])"
   ]
  },
  {
   "cell_type": "code",
   "execution_count": 9,
   "metadata": {
    "scrolled": true
   },
   "outputs": [
    {
     "name": "stderr",
     "output_type": "stream",
     "text": [
      "C:\\Users\\Ashwin Ram\\Anaconda3\\lib\\site-packages\\ipykernel_launcher.py:1: UserWarning: The `nb_epoch` argument in `fit` has been renamed `epochs`.\n",
      "  \"\"\"Entry point for launching an IPython kernel.\n"
     ]
    },
    {
     "name": "stdout",
     "output_type": "stream",
     "text": [
      "WARNING:tensorflow:From C:\\Users\\Ashwin Ram\\Anaconda3\\lib\\site-packages\\keras\\backend\\tensorflow_backend.py:1033: The name tf.assign_add is deprecated. Please use tf.compat.v1.assign_add instead.\n",
      "\n",
      "Epoch 1/10\n",
      "181/181 [==============================] - 2s 10ms/step - loss: 0.6934 - acc: 0.4586\n",
      "Epoch 2/10\n",
      "181/181 [==============================] - 0s 413us/step - loss: 0.6916 - acc: 0.7348\n",
      "Epoch 3/10\n",
      "181/181 [==============================] - 0s 408us/step - loss: 0.6866 - acc: 0.8453\n",
      "Epoch 4/10\n",
      "181/181 [==============================] - 0s 391us/step - loss: 0.6712 - acc: 0.8453\n",
      "Epoch 5/10\n",
      "181/181 [==============================] - 0s 408us/step - loss: 0.6350 - acc: 0.8508\n",
      "Epoch 6/10\n",
      "181/181 [==============================] - 0s 441us/step - loss: 0.5749 - acc: 0.8508\n",
      "Epoch 7/10\n",
      "181/181 [==============================] - 0s 413us/step - loss: 0.4917 - acc: 0.8564\n",
      "Epoch 8/10\n",
      "181/181 [==============================] - 0s 397us/step - loss: 0.4124 - acc: 0.8785\n",
      "Epoch 9/10\n",
      "181/181 [==============================] - 0s 419us/step - loss: 0.3492 - acc: 0.9006\n",
      "Epoch 10/10\n",
      "181/181 [==============================] - 0s 441us/step - loss: 0.2892 - acc: 0.9337\n"
     ]
    },
    {
     "data": {
      "text/plain": [
       "<keras.callbacks.History at 0x12eebb728d0>"
      ]
     },
     "execution_count": 9,
     "metadata": {},
     "output_type": "execute_result"
    }
   ],
   "source": [
    "classifier.fit(X_train, y_train, batch_size = 10, nb_epoch = 10)"
   ]
  },
  {
   "cell_type": "code",
   "execution_count": 21,
   "metadata": {},
   "outputs": [],
   "source": [
    "X_test = np.reshape(X_test,(-1,66,1))\n",
    "y_predict = model.predict(X_test)"
   ]
  },
  {
   "cell_type": "code",
   "execution_count": 22,
   "metadata": {},
   "outputs": [
    {
     "name": "stdout",
     "output_type": "stream",
     "text": [
      "0.876\n"
     ]
    }
   ],
   "source": [
    "from sklearn.metrics import accuracy_score\n",
    "accuracyscore = accuracy_score(y_test, y_predict)\n",
    "print(accuracyScore)"
   ]
  },
  {
   "cell_type": "markdown",
   "metadata": {},
   "source": [
    "# Convolutional Neural Network (CNN) implementation"
   ]
  },
  {
   "cell_type": "code",
   "execution_count": 12,
   "metadata": {},
   "outputs": [],
   "source": [
    "from modules import *\n",
    "train = pd.read_csv(\"../Data/Glottal.csv\")\n",
    "train.fillna(0, inplace=True)"
   ]
  },
  {
   "cell_type": "code",
   "execution_count": 13,
   "metadata": {},
   "outputs": [
    {
     "data": {
      "text/html": [
       "<div>\n",
       "<style scoped>\n",
       "    .dataframe tbody tr th:only-of-type {\n",
       "        vertical-align: middle;\n",
       "    }\n",
       "\n",
       "    .dataframe tbody tr th {\n",
       "        vertical-align: top;\n",
       "    }\n",
       "\n",
       "    .dataframe thead th {\n",
       "        text-align: right;\n",
       "    }\n",
       "</style>\n",
       "<table border=\"1\" class=\"dataframe\">\n",
       "  <thead>\n",
       "    <tr style=\"text-align: right;\">\n",
       "      <th></th>\n",
       "      <th>sno</th>\n",
       "      <th>AQ_kurt</th>\n",
       "      <th>AQ_max</th>\n",
       "      <th>AQ_mean</th>\n",
       "      <th>AQ_median</th>\n",
       "      <th>AQ_min</th>\n",
       "      <th>AQ_skew</th>\n",
       "      <th>AQ_std</th>\n",
       "      <th>ClQ_kurt</th>\n",
       "      <th>ClQ_max</th>\n",
       "      <th>...</th>\n",
       "      <th>SQ1_std</th>\n",
       "      <th>SQ2_kurt</th>\n",
       "      <th>SQ2_max</th>\n",
       "      <th>SQ2_mean</th>\n",
       "      <th>SQ2_median</th>\n",
       "      <th>SQ2_min</th>\n",
       "      <th>SQ2_skew</th>\n",
       "      <th>SQ2_std</th>\n",
       "      <th>filename</th>\n",
       "      <th>label</th>\n",
       "    </tr>\n",
       "  </thead>\n",
       "  <tbody>\n",
       "    <tr>\n",
       "      <th>0</th>\n",
       "      <td>0</td>\n",
       "      <td>-1.125019</td>\n",
       "      <td>0.001362</td>\n",
       "      <td>0.000734</td>\n",
       "      <td>0.000578</td>\n",
       "      <td>0.000025</td>\n",
       "      <td>0.399345</td>\n",
       "      <td>0.000339</td>\n",
       "      <td>-1.513942</td>\n",
       "      <td>0.635115</td>\n",
       "      <td>...</td>\n",
       "      <td>0.675402</td>\n",
       "      <td>0.308816</td>\n",
       "      <td>2.674824</td>\n",
       "      <td>1.157275</td>\n",
       "      <td>1.006275</td>\n",
       "      <td>0.075223</td>\n",
       "      <td>0.952797</td>\n",
       "      <td>0.536728</td>\n",
       "      <td>D21</td>\n",
       "      <td>1</td>\n",
       "    </tr>\n",
       "    <tr>\n",
       "      <th>1</th>\n",
       "      <td>1</td>\n",
       "      <td>0.000000</td>\n",
       "      <td>0.000273</td>\n",
       "      <td>0.000273</td>\n",
       "      <td>0.000273</td>\n",
       "      <td>0.000273</td>\n",
       "      <td>0.000000</td>\n",
       "      <td>0.000000</td>\n",
       "      <td>0.000000</td>\n",
       "      <td>0.212901</td>\n",
       "      <td>...</td>\n",
       "      <td>0.000000</td>\n",
       "      <td>0.000000</td>\n",
       "      <td>2.212919</td>\n",
       "      <td>2.212919</td>\n",
       "      <td>2.212919</td>\n",
       "      <td>2.212919</td>\n",
       "      <td>0.000000</td>\n",
       "      <td>0.000000</td>\n",
       "      <td>D41</td>\n",
       "      <td>1</td>\n",
       "    </tr>\n",
       "    <tr>\n",
       "      <th>2</th>\n",
       "      <td>2</td>\n",
       "      <td>0.000000</td>\n",
       "      <td>0.000000</td>\n",
       "      <td>0.000000</td>\n",
       "      <td>0.000000</td>\n",
       "      <td>0.000000</td>\n",
       "      <td>0.000000</td>\n",
       "      <td>0.000000</td>\n",
       "      <td>0.000000</td>\n",
       "      <td>0.000000</td>\n",
       "      <td>...</td>\n",
       "      <td>0.000000</td>\n",
       "      <td>0.000000</td>\n",
       "      <td>0.000000</td>\n",
       "      <td>0.000000</td>\n",
       "      <td>0.000000</td>\n",
       "      <td>0.000000</td>\n",
       "      <td>0.000000</td>\n",
       "      <td>0.000000</td>\n",
       "      <td>D62</td>\n",
       "      <td>1</td>\n",
       "    </tr>\n",
       "    <tr>\n",
       "      <th>3</th>\n",
       "      <td>3</td>\n",
       "      <td>-1.030347</td>\n",
       "      <td>0.001417</td>\n",
       "      <td>0.000791</td>\n",
       "      <td>0.000885</td>\n",
       "      <td>0.000069</td>\n",
       "      <td>-0.182928</td>\n",
       "      <td>0.000360</td>\n",
       "      <td>-0.023530</td>\n",
       "      <td>0.869753</td>\n",
       "      <td>...</td>\n",
       "      <td>1.185508</td>\n",
       "      <td>35.373686</td>\n",
       "      <td>8.356877</td>\n",
       "      <td>0.872556</td>\n",
       "      <td>0.715124</td>\n",
       "      <td>0.000000</td>\n",
       "      <td>5.312221</td>\n",
       "      <td>0.945553</td>\n",
       "      <td>D26</td>\n",
       "      <td>1</td>\n",
       "    </tr>\n",
       "    <tr>\n",
       "      <th>4</th>\n",
       "      <td>4</td>\n",
       "      <td>-0.485704</td>\n",
       "      <td>0.000403</td>\n",
       "      <td>0.000215</td>\n",
       "      <td>0.000237</td>\n",
       "      <td>0.000046</td>\n",
       "      <td>0.101187</td>\n",
       "      <td>0.000095</td>\n",
       "      <td>-0.931441</td>\n",
       "      <td>0.839397</td>\n",
       "      <td>...</td>\n",
       "      <td>2.236482</td>\n",
       "      <td>18.286592</td>\n",
       "      <td>6.931799</td>\n",
       "      <td>0.688371</td>\n",
       "      <td>0.341031</td>\n",
       "      <td>0.084272</td>\n",
       "      <td>4.242434</td>\n",
       "      <td>1.524225</td>\n",
       "      <td>D28</td>\n",
       "      <td>1</td>\n",
       "    </tr>\n",
       "  </tbody>\n",
       "</table>\n",
       "<p>5 rows × 69 columns</p>\n",
       "</div>"
      ],
      "text/plain": [
       "   sno   AQ_kurt    AQ_max   AQ_mean  AQ_median    AQ_min   AQ_skew    AQ_std  \\\n",
       "0    0 -1.125019  0.001362  0.000734   0.000578  0.000025  0.399345  0.000339   \n",
       "1    1  0.000000  0.000273  0.000273   0.000273  0.000273  0.000000  0.000000   \n",
       "2    2  0.000000  0.000000  0.000000   0.000000  0.000000  0.000000  0.000000   \n",
       "3    3 -1.030347  0.001417  0.000791   0.000885  0.000069 -0.182928  0.000360   \n",
       "4    4 -0.485704  0.000403  0.000215   0.000237  0.000046  0.101187  0.000095   \n",
       "\n",
       "   ClQ_kurt   ClQ_max  ...   SQ1_std   SQ2_kurt   SQ2_max  SQ2_mean  \\\n",
       "0 -1.513942  0.635115  ...  0.675402   0.308816  2.674824  1.157275   \n",
       "1  0.000000  0.212901  ...  0.000000   0.000000  2.212919  2.212919   \n",
       "2  0.000000  0.000000  ...  0.000000   0.000000  0.000000  0.000000   \n",
       "3 -0.023530  0.869753  ...  1.185508  35.373686  8.356877  0.872556   \n",
       "4 -0.931441  0.839397  ...  2.236482  18.286592  6.931799  0.688371   \n",
       "\n",
       "   SQ2_median   SQ2_min  SQ2_skew   SQ2_std  filename  label  \n",
       "0    1.006275  0.075223  0.952797  0.536728       D21      1  \n",
       "1    2.212919  2.212919  0.000000  0.000000       D41      1  \n",
       "2    0.000000  0.000000  0.000000  0.000000       D62      1  \n",
       "3    0.715124  0.000000  5.312221  0.945553       D26      1  \n",
       "4    0.341031  0.084272  4.242434  1.524225       D28      1  \n",
       "\n",
       "[5 rows x 69 columns]"
      ]
     },
     "execution_count": 13,
     "metadata": {},
     "output_type": "execute_result"
    }
   ],
   "source": [
    "train.head()"
   ]
  },
  {
   "cell_type": "code",
   "execution_count": 14,
   "metadata": {},
   "outputs": [],
   "source": [
    "\n",
    "columns = train.columns.tolist()\n",
    "\n",
    "features = [f for f in filter(lambda x: x not in ['sno','label', 'frameTime','filename'], columns)]\n",
    "target = ['label']\n",
    "\n",
    "feature_df = train[features]\n",
    "\n",
    "X = np.asarray(feature_df.values)\n",
    "\n",
    "y = np.asarray(train['label'].values)"
   ]
  },
  {
   "cell_type": "code",
   "execution_count": 15,
   "metadata": {},
   "outputs": [],
   "source": [
    "from sklearn.model_selection import train_test_split\n",
    "\n",
    "\n",
    "X_train, X_test, y_train, y_test = train_test_split(X, y, test_size=0.3, random_state=4)\n"
   ]
  },
  {
   "cell_type": "code",
   "execution_count": 16,
   "metadata": {},
   "outputs": [],
   "source": [
    "y_test = y_test.reshape(-1,1)\n",
    "y_train = y_train.reshape(-1,1)"
   ]
  },
  {
   "cell_type": "code",
   "execution_count": 17,
   "metadata": {},
   "outputs": [
    {
     "name": "stdout",
     "output_type": "stream",
     "text": [
      "WARNING:tensorflow:From C:\\Users\\Ashwin Ram\\Anaconda3\\lib\\site-packages\\keras\\backend\\tensorflow_backend.py:4267: The name tf.nn.max_pool is deprecated. Please use tf.nn.max_pool2d instead.\n",
      "\n",
      "WARNING:tensorflow:From C:\\Users\\Ashwin Ram\\Anaconda3\\lib\\site-packages\\keras\\backend\\tensorflow_backend.py:3733: calling dropout (from tensorflow.python.ops.nn_ops) with keep_prob is deprecated and will be removed in a future version.\n",
      "Instructions for updating:\n",
      "Please use `rate` instead of `keep_prob`. Rate should be set to `rate = 1 - keep_prob`.\n"
     ]
    }
   ],
   "source": [
    "model = Sequential()\n",
    "import keras\n",
    "model.add(keras.layers.convolutional.Convolution1D(filters=2, kernel_size=2, \n",
    "activation='relu',input_shape=(66,1)))\n",
    "model.add(keras.layers.convolutional.MaxPooling1D(pool_size=2))\n",
    "model.add(keras.layers.convolutional.Convolution1D(15,kernel_size=2, activation= 'relu' ))\n",
    "model.add(Dropout(0.5))\n",
    "model.add(keras.layers.convolutional.MaxPooling1D(pool_size=2))\n",
    "model.add(Flatten())\n",
    "model.add(Dense(100, activation='relu'))\n",
    "model.add(Dense(1, activation='softmax'))\n",
    "model.compile(loss='sparse_categorical_crossentropy', optimizer='adam', metrics=['accuracy'])"
   ]
  },
  {
   "cell_type": "code",
   "execution_count": 18,
   "metadata": {
    "scrolled": true
   },
   "outputs": [
    {
     "name": "stdout",
     "output_type": "stream",
     "text": [
      "Epoch 1/10\n",
      "141/141 [==============================] - 0s 1ms/step - loss: 0.2521 - acc: 0.9433\n",
      "Epoch 2/10\n",
      "120/141 [========================>.....] - ETA: 0s - loss: 0.2383 - acc: 0.9500"
     ]
    },
    {
     "name": "stderr",
     "output_type": "stream",
     "text": [
      "C:\\Users\\Ashwin Ram\\Anaconda3\\lib\\site-packages\\ipykernel_launcher.py:1: UserWarning: The `nb_epoch` argument in `fit` has been renamed `epochs`.\n",
      "  \"\"\"Entry point for launching an IPython kernel.\n"
     ]
    },
    {
     "name": "stdout",
     "output_type": "stream",
     "text": [
      "141/141 [==============================] - 0s 509us/step - loss: 0.2237 - acc: 0.9574\n",
      "Epoch 3/10\n",
      "141/141 [==============================] - 0s 467us/step - loss: 0.2004 - acc: 0.9645\n",
      "Epoch 4/10\n",
      "141/141 [==============================] - 0s 481us/step - loss: 0.1861 - acc: 0.9504\n",
      "Epoch 5/10\n",
      "141/141 [==============================] - 0s 446us/step - loss: 0.1674 - acc: 0.9645\n",
      "Epoch 6/10\n",
      "141/141 [==============================] - 0s 424us/step - loss: 0.1555 - acc: 0.9574\n",
      "Epoch 7/10\n",
      "141/141 [==============================] - 0s 439us/step - loss: 0.1454 - acc: 0.9574\n",
      "Epoch 8/10\n",
      "141/141 [==============================] - 0s 523us/step - loss: 0.1372 - acc: 0.9574\n",
      "Epoch 9/10\n",
      "141/141 [==============================] - 0s 445us/step - loss: 0.1318 - acc: 0.9574\n",
      "Epoch 10/10\n",
      "141/141 [==============================] - 0s 347us/step - loss: 0.1277 - acc: 0.9504\n"
     ]
    },
    {
     "data": {
      "text/plain": [
       "<keras.callbacks.History at 0x12f8a9d37b8>"
      ]
     },
     "execution_count": 18,
     "metadata": {},
     "output_type": "execute_result"
    }
   ],
   "source": [
    "classifier.fit(X_train, y_train, batch_size = 10, nb_epoch = 10)"
   ]
  },
  {
   "cell_type": "code",
   "execution_count": 19,
   "metadata": {},
   "outputs": [],
   "source": [
    "X_test = np.reshape(X_test,(-1,66,1))\n",
    "y_predict = model.predict(X_test)"
   ]
  },
  {
   "cell_type": "code",
   "execution_count": 20,
   "metadata": {
    "scrolled": true
   },
   "outputs": [
    {
     "name": "stdout",
     "output_type": "stream",
     "text": [
      "0.862\n"
     ]
    }
   ],
   "source": [
    "from sklearn.metrics import accuracy_score\n",
    "accscore = accuracy_score(y_test, y_predict)\n",
    "print(accScore)"
   ]
  }
 ],
 "metadata": {
  "kernelspec": {
   "display_name": "'Python Interactive'",
   "language": "python",
   "name": "63476874-fa36-435a-a3b9-898b5473e28f"
  },
  "language_info": {
   "codemirror_mode": {
    "name": "ipython",
    "version": 3
   },
   "file_extension": ".py",
   "mimetype": "text/x-python",
   "name": "python",
   "nbconvert_exporter": "python",
   "pygments_lexer": "ipython3",
   "version": "3.7.3"
  }
 },
 "nbformat": 4,
 "nbformat_minor": 2
}
