{
 "cells": [
  {
   "cell_type": "code",
   "execution_count": 1,
   "metadata": {
    "executionInfo": {
     "elapsed": 3513,
     "status": "ok",
     "timestamp": 1603956767738,
     "user": {
      "displayName": "Aravind Srinivasan",
      "photoUrl": "https://lh3.googleusercontent.com/a-/AOh14Ghe2VFDFgic95xjnTzSQjtPsmUwL_di1wZdoeYr=s64",
      "userId": "16782759661997552051"
     },
     "user_tz": -330
    },
    "id": "us0Dl9cISkpB"
   },
   "outputs": [],
   "source": [
    "import pandas as pd\n",
    "import numpy as np\n",
    "from sklearn.preprocessing import StandardScaler\n",
    "from matplotlib import*\n",
    "import matplotlib.pyplot as plt\n",
    "from matplotlib import cm \n",
    "from scipy import stats\n",
    "from sklearn.decomposition import PCA as sklearnPCA\n",
    "import seaborn\n",
    "import io\n"
   ]
  },
  {
   "cell_type": "code",
   "execution_count": 3,
   "metadata": {
    "colab": {
     "base_uri": "https://localhost:8080/",
     "height": 72,
     "resources": {
      "http://localhost:8080/nbextensions/google.colab/files.js": {
       "data": "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",
       "headers": [
        [
         "content-type",
         "application/javascript"
        ]
       ],
       "ok": true,
       "status": 200,
       "status_text": ""
      }
     }
    },
    "executionInfo": {
     "elapsed": 46400,
     "status": "ok",
     "timestamp": 1603956820837,
     "user": {
      "displayName": "Aravind Srinivasan",
      "photoUrl": "https://lh3.googleusercontent.com/a-/AOh14Ghe2VFDFgic95xjnTzSQjtPsmUwL_di1wZdoeYr=s64",
      "userId": "16782759661997552051"
     },
     "user_tz": -330
    },
    "id": "WHm3pqrYSkpQ",
    "outputId": "be563023-380d-40b1-d727-b24394d5f9f9"
   },
   "outputs": [
    {
     "data": {
      "text/html": [
       "\n",
       "     <input type=\"file\" id=\"files-c16efc8c-ba1c-47ce-9f14-342cb497618f\" name=\"files[]\" multiple disabled\n",
       "        style=\"border:none\" />\n",
       "     <output id=\"result-c16efc8c-ba1c-47ce-9f14-342cb497618f\">\n",
       "      Upload widget is only available when the cell has been executed in the\n",
       "      current browser session. Please rerun this cell to enable.\n",
       "      </output>\n",
       "      <script src=\"/nbextensions/google.colab/files.js\"></script> "
      ],
      "text/plain": [
       "<IPython.core.display.HTML object>"
      ]
     },
     "metadata": {
      "tags": []
     },
     "output_type": "display_data"
    },
    {
     "name": "stdout",
     "output_type": "stream",
     "text": [
      "Saving Acoustic.csv to Acoustic.csv\n"
     ]
    }
   ],
   "source": [
    "from google.colab import files\n",
    "uploaded = files.upload()"
   ]
  },
  {
   "cell_type": "code",
   "execution_count": 2,
   "metadata": {
    "colab": {
     "base_uri": "https://localhost:8080/",
     "height": 241
    },
    "executionInfo": {
     "elapsed": 1089,
     "status": "ok",
     "timestamp": 1603956864700,
     "user": {
      "displayName": "Aravind Srinivasan",
      "photoUrl": "https://lh3.googleusercontent.com/a-/AOh14Ghe2VFDFgic95xjnTzSQjtPsmUwL_di1wZdoeYr=s64",
      "userId": "16782759661997552051"
     },
     "user_tz": -330
    },
    "id": "6oFFwqSBVLzQ",
    "outputId": "acf8bc24-103c-4ade-9365-1076d0df31c7"
   },
   "outputs": [
    {
     "data": {
      "text/html": [
       "<div>\n",
       "<style scoped>\n",
       "    .dataframe tbody tr th:only-of-type {\n",
       "        vertical-align: middle;\n",
       "    }\n",
       "\n",
       "    .dataframe tbody tr th {\n",
       "        vertical-align: top;\n",
       "    }\n",
       "\n",
       "    .dataframe thead th {\n",
       "        text-align: right;\n",
       "    }\n",
       "</style>\n",
       "<table border=\"1\" class=\"dataframe\">\n",
       "  <thead>\n",
       "    <tr style=\"text-align: right;\">\n",
       "      <th></th>\n",
       "      <th>Unnamed: 0</th>\n",
       "      <th>AQ_kurt</th>\n",
       "      <th>AQ_max</th>\n",
       "      <th>AQ_mean</th>\n",
       "      <th>AQ_median</th>\n",
       "      <th>AQ_min</th>\n",
       "      <th>AQ_skew</th>\n",
       "      <th>AQ_std</th>\n",
       "      <th>ClQ_kurt</th>\n",
       "      <th>ClQ_max</th>\n",
       "      <th>...</th>\n",
       "      <th>SQ1_std</th>\n",
       "      <th>SQ2_kurt</th>\n",
       "      <th>SQ2_max</th>\n",
       "      <th>SQ2_mean</th>\n",
       "      <th>SQ2_median</th>\n",
       "      <th>SQ2_min</th>\n",
       "      <th>SQ2_skew</th>\n",
       "      <th>SQ2_std</th>\n",
       "      <th>Unnamed: 67</th>\n",
       "      <th>label</th>\n",
       "    </tr>\n",
       "  </thead>\n",
       "  <tbody>\n",
       "    <tr>\n",
       "      <th>0</th>\n",
       "      <td>0</td>\n",
       "      <td>-1.125019</td>\n",
       "      <td>0.001362</td>\n",
       "      <td>0.000734</td>\n",
       "      <td>0.000578</td>\n",
       "      <td>0.000025</td>\n",
       "      <td>0.399345</td>\n",
       "      <td>0.000339</td>\n",
       "      <td>-1.513942</td>\n",
       "      <td>0.635115</td>\n",
       "      <td>...</td>\n",
       "      <td>0.675402</td>\n",
       "      <td>0.308816</td>\n",
       "      <td>2.674824</td>\n",
       "      <td>1.157275</td>\n",
       "      <td>1.006275</td>\n",
       "      <td>0.075223</td>\n",
       "      <td>0.952797</td>\n",
       "      <td>0.536728</td>\n",
       "      <td>NaN</td>\n",
       "      <td>1</td>\n",
       "    </tr>\n",
       "    <tr>\n",
       "      <th>1</th>\n",
       "      <td>1</td>\n",
       "      <td>NaN</td>\n",
       "      <td>0.000273</td>\n",
       "      <td>0.000273</td>\n",
       "      <td>0.000273</td>\n",
       "      <td>0.000273</td>\n",
       "      <td>NaN</td>\n",
       "      <td>NaN</td>\n",
       "      <td>NaN</td>\n",
       "      <td>0.212901</td>\n",
       "      <td>...</td>\n",
       "      <td>NaN</td>\n",
       "      <td>NaN</td>\n",
       "      <td>2.212919</td>\n",
       "      <td>2.212919</td>\n",
       "      <td>2.212919</td>\n",
       "      <td>2.212919</td>\n",
       "      <td>NaN</td>\n",
       "      <td>NaN</td>\n",
       "      <td>NaN</td>\n",
       "      <td>1</td>\n",
       "    </tr>\n",
       "    <tr>\n",
       "      <th>2</th>\n",
       "      <td>2</td>\n",
       "      <td>NaN</td>\n",
       "      <td>NaN</td>\n",
       "      <td>NaN</td>\n",
       "      <td>NaN</td>\n",
       "      <td>NaN</td>\n",
       "      <td>NaN</td>\n",
       "      <td>NaN</td>\n",
       "      <td>NaN</td>\n",
       "      <td>NaN</td>\n",
       "      <td>...</td>\n",
       "      <td>NaN</td>\n",
       "      <td>NaN</td>\n",
       "      <td>NaN</td>\n",
       "      <td>NaN</td>\n",
       "      <td>NaN</td>\n",
       "      <td>NaN</td>\n",
       "      <td>NaN</td>\n",
       "      <td>NaN</td>\n",
       "      <td>NaN</td>\n",
       "      <td>1</td>\n",
       "    </tr>\n",
       "    <tr>\n",
       "      <th>3</th>\n",
       "      <td>3</td>\n",
       "      <td>-1.030347</td>\n",
       "      <td>0.001417</td>\n",
       "      <td>0.000791</td>\n",
       "      <td>0.000885</td>\n",
       "      <td>0.000069</td>\n",
       "      <td>-0.182928</td>\n",
       "      <td>0.000360</td>\n",
       "      <td>-0.023530</td>\n",
       "      <td>0.869753</td>\n",
       "      <td>...</td>\n",
       "      <td>1.185508</td>\n",
       "      <td>35.373686</td>\n",
       "      <td>8.356877</td>\n",
       "      <td>0.872556</td>\n",
       "      <td>0.715124</td>\n",
       "      <td>0.000000</td>\n",
       "      <td>5.312221</td>\n",
       "      <td>0.945553</td>\n",
       "      <td>NaN</td>\n",
       "      <td>1</td>\n",
       "    </tr>\n",
       "    <tr>\n",
       "      <th>4</th>\n",
       "      <td>4</td>\n",
       "      <td>-0.485704</td>\n",
       "      <td>0.000403</td>\n",
       "      <td>0.000215</td>\n",
       "      <td>0.000237</td>\n",
       "      <td>0.000046</td>\n",
       "      <td>0.101187</td>\n",
       "      <td>0.000095</td>\n",
       "      <td>-0.931441</td>\n",
       "      <td>0.839397</td>\n",
       "      <td>...</td>\n",
       "      <td>2.236482</td>\n",
       "      <td>18.286592</td>\n",
       "      <td>6.931799</td>\n",
       "      <td>0.688371</td>\n",
       "      <td>0.341031</td>\n",
       "      <td>0.084272</td>\n",
       "      <td>4.242434</td>\n",
       "      <td>1.524225</td>\n",
       "      <td>NaN</td>\n",
       "      <td>1</td>\n",
       "    </tr>\n",
       "  </tbody>\n",
       "</table>\n",
       "<p>5 rows × 69 columns</p>\n",
       "</div>"
      ],
      "text/plain": [
       "   Unnamed: 0   AQ_kurt    AQ_max   AQ_mean  AQ_median    AQ_min   AQ_skew  \\\n",
       "0           0 -1.125019  0.001362  0.000734   0.000578  0.000025  0.399345   \n",
       "1           1       NaN  0.000273  0.000273   0.000273  0.000273       NaN   \n",
       "2           2       NaN       NaN       NaN        NaN       NaN       NaN   \n",
       "3           3 -1.030347  0.001417  0.000791   0.000885  0.000069 -0.182928   \n",
       "4           4 -0.485704  0.000403  0.000215   0.000237  0.000046  0.101187   \n",
       "\n",
       "     AQ_std  ClQ_kurt   ClQ_max  ...   SQ1_std   SQ2_kurt   SQ2_max  SQ2_mean  \\\n",
       "0  0.000339 -1.513942  0.635115  ...  0.675402   0.308816  2.674824  1.157275   \n",
       "1       NaN       NaN  0.212901  ...       NaN        NaN  2.212919  2.212919   \n",
       "2       NaN       NaN       NaN  ...       NaN        NaN       NaN       NaN   \n",
       "3  0.000360 -0.023530  0.869753  ...  1.185508  35.373686  8.356877  0.872556   \n",
       "4  0.000095 -0.931441  0.839397  ...  2.236482  18.286592  6.931799  0.688371   \n",
       "\n",
       "   SQ2_median   SQ2_min  SQ2_skew   SQ2_std  Unnamed: 67  label  \n",
       "0    1.006275  0.075223  0.952797  0.536728          NaN      1  \n",
       "1    2.212919  2.212919       NaN       NaN          NaN      1  \n",
       "2         NaN       NaN       NaN       NaN          NaN      1  \n",
       "3    0.715124  0.000000  5.312221  0.945553          NaN      1  \n",
       "4    0.341031  0.084272  4.242434  1.524225          NaN      1  \n",
       "\n",
       "[5 rows x 69 columns]"
      ]
     },
     "execution_count": 2,
     "metadata": {},
     "output_type": "execute_result"
    }
   ],
   "source": [
    "d1=pd.read_csv(\"../Data/GlottalPCA.csv\")\n",
    "d1.head(5)"
   ]
  },
  {
   "cell_type": "code",
   "execution_count": 3,
   "metadata": {
    "id": "Ub3tBHV-Skpf"
   },
   "outputs": [],
   "source": [
    "df1=d1.replace(np.nan,0,regex=True)"
   ]
  },
  {
   "cell_type": "code",
   "execution_count": 4,
   "metadata": {},
   "outputs": [
    {
     "data": {
      "text/html": [
       "<div>\n",
       "<style scoped>\n",
       "    .dataframe tbody tr th:only-of-type {\n",
       "        vertical-align: middle;\n",
       "    }\n",
       "\n",
       "    .dataframe tbody tr th {\n",
       "        vertical-align: top;\n",
       "    }\n",
       "\n",
       "    .dataframe thead th {\n",
       "        text-align: right;\n",
       "    }\n",
       "</style>\n",
       "<table border=\"1\" class=\"dataframe\">\n",
       "  <thead>\n",
       "    <tr style=\"text-align: right;\">\n",
       "      <th></th>\n",
       "      <th>Unnamed: 0</th>\n",
       "      <th>AQ_kurt</th>\n",
       "      <th>AQ_max</th>\n",
       "      <th>AQ_mean</th>\n",
       "      <th>AQ_median</th>\n",
       "      <th>AQ_min</th>\n",
       "      <th>AQ_skew</th>\n",
       "      <th>AQ_std</th>\n",
       "      <th>ClQ_kurt</th>\n",
       "      <th>ClQ_max</th>\n",
       "      <th>...</th>\n",
       "      <th>SQ1_std</th>\n",
       "      <th>SQ2_kurt</th>\n",
       "      <th>SQ2_max</th>\n",
       "      <th>SQ2_mean</th>\n",
       "      <th>SQ2_median</th>\n",
       "      <th>SQ2_min</th>\n",
       "      <th>SQ2_skew</th>\n",
       "      <th>SQ2_std</th>\n",
       "      <th>Unnamed: 67</th>\n",
       "      <th>label</th>\n",
       "    </tr>\n",
       "  </thead>\n",
       "  <tbody>\n",
       "    <tr>\n",
       "      <th>0</th>\n",
       "      <td>0</td>\n",
       "      <td>-1.125019</td>\n",
       "      <td>0.001362</td>\n",
       "      <td>0.000734</td>\n",
       "      <td>0.000578</td>\n",
       "      <td>0.000025</td>\n",
       "      <td>0.399345</td>\n",
       "      <td>0.000339</td>\n",
       "      <td>-1.513942</td>\n",
       "      <td>0.635115</td>\n",
       "      <td>...</td>\n",
       "      <td>0.675402</td>\n",
       "      <td>0.308816</td>\n",
       "      <td>2.674824</td>\n",
       "      <td>1.157275</td>\n",
       "      <td>1.006275</td>\n",
       "      <td>0.075223</td>\n",
       "      <td>0.952797</td>\n",
       "      <td>0.536728</td>\n",
       "      <td>0.0</td>\n",
       "      <td>1</td>\n",
       "    </tr>\n",
       "    <tr>\n",
       "      <th>1</th>\n",
       "      <td>1</td>\n",
       "      <td>0.000000</td>\n",
       "      <td>0.000273</td>\n",
       "      <td>0.000273</td>\n",
       "      <td>0.000273</td>\n",
       "      <td>0.000273</td>\n",
       "      <td>0.000000</td>\n",
       "      <td>0.000000</td>\n",
       "      <td>0.000000</td>\n",
       "      <td>0.212901</td>\n",
       "      <td>...</td>\n",
       "      <td>0.000000</td>\n",
       "      <td>0.000000</td>\n",
       "      <td>2.212919</td>\n",
       "      <td>2.212919</td>\n",
       "      <td>2.212919</td>\n",
       "      <td>2.212919</td>\n",
       "      <td>0.000000</td>\n",
       "      <td>0.000000</td>\n",
       "      <td>0.0</td>\n",
       "      <td>1</td>\n",
       "    </tr>\n",
       "    <tr>\n",
       "      <th>2</th>\n",
       "      <td>2</td>\n",
       "      <td>0.000000</td>\n",
       "      <td>0.000000</td>\n",
       "      <td>0.000000</td>\n",
       "      <td>0.000000</td>\n",
       "      <td>0.000000</td>\n",
       "      <td>0.000000</td>\n",
       "      <td>0.000000</td>\n",
       "      <td>0.000000</td>\n",
       "      <td>0.000000</td>\n",
       "      <td>...</td>\n",
       "      <td>0.000000</td>\n",
       "      <td>0.000000</td>\n",
       "      <td>0.000000</td>\n",
       "      <td>0.000000</td>\n",
       "      <td>0.000000</td>\n",
       "      <td>0.000000</td>\n",
       "      <td>0.000000</td>\n",
       "      <td>0.000000</td>\n",
       "      <td>0.0</td>\n",
       "      <td>1</td>\n",
       "    </tr>\n",
       "    <tr>\n",
       "      <th>3</th>\n",
       "      <td>3</td>\n",
       "      <td>-1.030347</td>\n",
       "      <td>0.001417</td>\n",
       "      <td>0.000791</td>\n",
       "      <td>0.000885</td>\n",
       "      <td>0.000069</td>\n",
       "      <td>-0.182928</td>\n",
       "      <td>0.000360</td>\n",
       "      <td>-0.023530</td>\n",
       "      <td>0.869753</td>\n",
       "      <td>...</td>\n",
       "      <td>1.185508</td>\n",
       "      <td>35.373686</td>\n",
       "      <td>8.356877</td>\n",
       "      <td>0.872556</td>\n",
       "      <td>0.715124</td>\n",
       "      <td>0.000000</td>\n",
       "      <td>5.312221</td>\n",
       "      <td>0.945553</td>\n",
       "      <td>0.0</td>\n",
       "      <td>1</td>\n",
       "    </tr>\n",
       "    <tr>\n",
       "      <th>4</th>\n",
       "      <td>4</td>\n",
       "      <td>-0.485704</td>\n",
       "      <td>0.000403</td>\n",
       "      <td>0.000215</td>\n",
       "      <td>0.000237</td>\n",
       "      <td>0.000046</td>\n",
       "      <td>0.101187</td>\n",
       "      <td>0.000095</td>\n",
       "      <td>-0.931441</td>\n",
       "      <td>0.839397</td>\n",
       "      <td>...</td>\n",
       "      <td>2.236482</td>\n",
       "      <td>18.286592</td>\n",
       "      <td>6.931799</td>\n",
       "      <td>0.688371</td>\n",
       "      <td>0.341031</td>\n",
       "      <td>0.084272</td>\n",
       "      <td>4.242434</td>\n",
       "      <td>1.524225</td>\n",
       "      <td>0.0</td>\n",
       "      <td>1</td>\n",
       "    </tr>\n",
       "  </tbody>\n",
       "</table>\n",
       "<p>5 rows × 69 columns</p>\n",
       "</div>"
      ],
      "text/plain": [
       "   Unnamed: 0   AQ_kurt    AQ_max   AQ_mean  AQ_median    AQ_min   AQ_skew  \\\n",
       "0           0 -1.125019  0.001362  0.000734   0.000578  0.000025  0.399345   \n",
       "1           1  0.000000  0.000273  0.000273   0.000273  0.000273  0.000000   \n",
       "2           2  0.000000  0.000000  0.000000   0.000000  0.000000  0.000000   \n",
       "3           3 -1.030347  0.001417  0.000791   0.000885  0.000069 -0.182928   \n",
       "4           4 -0.485704  0.000403  0.000215   0.000237  0.000046  0.101187   \n",
       "\n",
       "     AQ_std  ClQ_kurt   ClQ_max  ...   SQ1_std   SQ2_kurt   SQ2_max  SQ2_mean  \\\n",
       "0  0.000339 -1.513942  0.635115  ...  0.675402   0.308816  2.674824  1.157275   \n",
       "1  0.000000  0.000000  0.212901  ...  0.000000   0.000000  2.212919  2.212919   \n",
       "2  0.000000  0.000000  0.000000  ...  0.000000   0.000000  0.000000  0.000000   \n",
       "3  0.000360 -0.023530  0.869753  ...  1.185508  35.373686  8.356877  0.872556   \n",
       "4  0.000095 -0.931441  0.839397  ...  2.236482  18.286592  6.931799  0.688371   \n",
       "\n",
       "   SQ2_median   SQ2_min  SQ2_skew   SQ2_std  Unnamed: 67  label  \n",
       "0    1.006275  0.075223  0.952797  0.536728          0.0      1  \n",
       "1    2.212919  2.212919  0.000000  0.000000          0.0      1  \n",
       "2    0.000000  0.000000  0.000000  0.000000          0.0      1  \n",
       "3    0.715124  0.000000  5.312221  0.945553          0.0      1  \n",
       "4    0.341031  0.084272  4.242434  1.524225          0.0      1  \n",
       "\n",
       "[5 rows x 69 columns]"
      ]
     },
     "execution_count": 4,
     "metadata": {},
     "output_type": "execute_result"
    }
   ],
   "source": [
    "\n",
    "from sklearn import preprocessing \n",
    "  \n",
    "# label_encoder object knows how to understand word labels. \n",
    "label_encoder = preprocessing.LabelEncoder() \n",
    "\n",
    "\n",
    "# Encode labels in column 'species'. \n",
    "df1['label']= label_encoder.fit_transform(df1['label'])\n",
    "df1.head()"
   ]
  },
  {
   "cell_type": "code",
   "execution_count": 5,
   "metadata": {
    "id": "QcJ2bLmYSkpl",
    "scrolled": true
   },
   "outputs": [
    {
     "name": "stderr",
     "output_type": "stream",
     "text": [
      "C:\\Users\\Ashwin Ram\\Anaconda3\\lib\\site-packages\\sklearn\\preprocessing\\data.py:645: DataConversionWarning: Data with input dtype int64, float64 were all converted to float64 by StandardScaler.\n",
      "  return self.partial_fit(X, y)\n",
      "C:\\Users\\Ashwin Ram\\Anaconda3\\lib\\site-packages\\sklearn\\base.py:464: DataConversionWarning: Data with input dtype int64, float64 were all converted to float64 by StandardScaler.\n",
      "  return self.fit(X, **fit_params).transform(X)\n"
     ]
    }
   ],
   "source": [
    "X_std=StandardScaler().fit_transform(df1)"
   ]
  },
  {
   "cell_type": "code",
   "execution_count": 6,
   "metadata": {
    "colab": {
     "base_uri": "https://localhost:8080/",
     "height": 260
    },
    "executionInfo": {
     "elapsed": 1289,
     "status": "ok",
     "timestamp": 1603202797874,
     "user": {
      "displayName": "Shabhitha Murugadass",
      "photoUrl": "https://lh3.googleusercontent.com/a-/AOh14Gi7p7UAHTXYSPe5n79FNbudyYF3DblZOEKKAnVy=s64",
      "userId": "09384834320567856021"
     },
     "user_tz": -330
    },
    "id": "HH9VTWxQSkpq",
    "outputId": "9c9ab416-e144-43c3-b05f-8ea0d4e9a283",
    "scrolled": true
   },
   "outputs": [
    {
     "name": "stdout",
     "output_type": "stream",
     "text": [
      "covaariance matrix \n",
      "[[ 1.00497512 -0.04944397 -0.04267637 ...  0.02254641  0.\n",
      "   0.        ]\n",
      " [-0.04944397  1.00497512  0.29338284 ...  0.00330684  0.\n",
      "  -0.20505929]\n",
      " [-0.04267637  0.29338284  1.00497512 ...  0.37392721  0.\n",
      "  -0.80680568]\n",
      " ...\n",
      " [ 0.02254641  0.00330684  0.37392721 ...  1.00497512  0.\n",
      "  -0.36463066]\n",
      " [ 0.          0.          0.         ...  0.          0.\n",
      "   0.        ]\n",
      " [ 0.         -0.20505929 -0.80680568 ... -0.36463066  0.\n",
      "   1.00497512]]\n"
     ]
    }
   ],
   "source": [
    "mean_vec=np.mean(X_std,axis=0)\n",
    "cov_mat=(X_std-mean_vec).T.dot((X_std-mean_vec)/(X_std.shape[0]-1))\n",
    "print(\"covaariance matrix \\n%s\" %cov_mat)\n"
   ]
  },
  {
   "cell_type": "markdown",
   "metadata": {
    "id": "lhP5QhwzSkpv"
   },
   "source": [
    "cov_mat=np.cov(X_std.T)\n",
    "eig_vals,eig_vect=np.linalg.eig(cov_mat)\n",
    "print(\"eigen values \\n%s\"%eig_vals)\n",
    "print(\"eigen vectors \\n%s\"%eig_vect)"
   ]
  },
  {
   "cell_type": "code",
   "execution_count": 7,
   "metadata": {
    "colab": {
     "base_uri": "https://localhost:8080/",
     "height": 1000
    },
    "executionInfo": {
     "elapsed": 1026,
     "status": "ok",
     "timestamp": 1603202801638,
     "user": {
      "displayName": "Shabhitha Murugadass",
      "photoUrl": "https://lh3.googleusercontent.com/a-/AOh14Gi7p7UAHTXYSPe5n79FNbudyYF3DblZOEKKAnVy=s64",
      "userId": "09384834320567856021"
     },
     "user_tz": -330
    },
    "id": "nmuzk8XMSkpw",
    "outputId": "57c5f889-a052-4f81-9bef-ab49f6f02f72"
   },
   "outputs": [
    {
     "name": "stdout",
     "output_type": "stream",
     "text": [
      "eigen values \n",
      "[2.31780816e+01 1.04003889e+01 6.84325889e+00 4.37757530e+00\n",
      " 3.43915909e+00 2.29015287e+00 2.08014562e+00 1.81622693e+00\n",
      " 1.47982922e+00 1.16352971e+00 1.06965197e+00 1.05840053e+00\n",
      " 9.75656317e-01 9.15986614e-01 7.44671551e-01 6.70258005e-01\n",
      " 5.68049804e-01 5.11946000e-01 4.99745601e-01 4.11516032e-01\n",
      " 3.87162995e-01 3.45807485e-01 2.88186672e-01 2.76825413e-01\n",
      " 2.49455932e-01 2.29592350e-01 2.09469957e-01 1.88078899e-01\n",
      " 1.84743451e-01 1.59095581e-01 1.47097543e-01 1.39840164e-01\n",
      " 1.25050242e-01 1.08227192e-01 1.02855008e-01 8.53555404e-02\n",
      " 7.56659290e-02 7.00539167e-02 6.03345236e-02 5.14272782e-02\n",
      " 4.13003157e-02 3.91588543e-02 3.07482047e-02 2.93285273e-02\n",
      " 2.80866893e-02 2.46004599e-02 2.20866053e-02 1.85115034e-02\n",
      " 1.78418850e-02 1.75024931e-02 1.25064423e-02 1.17853019e-02\n",
      " 1.11126764e-02 1.01942825e-02 8.25117642e-03 6.62938302e-03\n",
      " 5.62130991e-03 4.36285553e-03 3.99690963e-03 3.90175615e-03\n",
      " 4.47163550e-04 7.24575747e-04 1.08262748e-03 2.54324945e-03\n",
      " 2.34728526e-03 1.50384206e-03 1.87821410e-03 1.69720473e-03\n",
      " 0.00000000e+00]\n",
      "eigen vectors \n",
      "[[ 7.72816211e-03  4.38411646e-03  1.80716979e-02 ...  4.83636134e-03\n",
      "   9.11373719e-04  0.00000000e+00]\n",
      " [-3.18519778e-02  3.00234449e-02  6.59129138e-02 ...  6.13764764e-02\n",
      "  -2.79165176e-03  0.00000000e+00]\n",
      " [-1.30211487e-01  1.58989114e-01  1.00073560e-01 ...  7.65641443e-02\n",
      "   9.23573213e-02  0.00000000e+00]\n",
      " ...\n",
      " [-9.87110366e-02  1.63456662e-01 -1.12167467e-01 ... -2.06490952e-01\n",
      "  -2.13661947e-02  0.00000000e+00]\n",
      " [ 0.00000000e+00  0.00000000e+00  0.00000000e+00 ...  0.00000000e+00\n",
      "   0.00000000e+00  1.00000000e+00]\n",
      " [ 7.45794083e-02 -2.26326527e-01 -1.37976094e-01 ...  9.39641579e-03\n",
      "   4.21558935e-02  0.00000000e+00]]\n"
     ]
    }
   ],
   "source": [
    "cov_mat=np.cov(X_std.T)\n",
    "eig_vals,eig_vect=np.linalg.eig(cov_mat)\n",
    "print(\"eigen values \\n%s\"%eig_vals)\n",
    "print(\"eigen vectors \\n%s\"%eig_vect)\n"
   ]
  },
  {
   "cell_type": "code",
   "execution_count": 8,
   "metadata": {
    "colab": {
     "base_uri": "https://localhost:8080/",
     "height": 1000
    },
    "executionInfo": {
     "elapsed": 1290,
     "status": "ok",
     "timestamp": 1603202807951,
     "user": {
      "displayName": "Shabhitha Murugadass",
      "photoUrl": "https://lh3.googleusercontent.com/a-/AOh14Gi7p7UAHTXYSPe5n79FNbudyYF3DblZOEKKAnVy=s64",
      "userId": "09384834320567856021"
     },
     "user_tz": -330
    },
    "id": "Mwcu8NVrSkp1",
    "outputId": "7ef7e3c7-94ab-4e4c-e59c-aa9b70899444"
   },
   "outputs": [
    {
     "name": "stdout",
     "output_type": "stream",
     "text": [
      "Eigen values in descending order\n",
      "23.178081620007955\n",
      "10.400388906129832\n",
      "6.843258894788635\n",
      "4.377575304426443\n",
      "3.43915908510816\n",
      "2.2901528682256633\n",
      "2.08014562309954\n",
      "1.81622693298205\n",
      "1.4798292212095616\n",
      "1.1635297121858816\n",
      "1.0696519652684746\n",
      "1.0584005339729021\n",
      "0.9756563171929045\n",
      "0.9159866135178254\n",
      "0.7446715508307551\n",
      "0.670258004781681\n",
      "0.5680498043260946\n",
      "0.5119460003904647\n",
      "0.49974560079914443\n",
      "0.4115160324368833\n",
      "0.38716299494468676\n",
      "0.3458074845675646\n",
      "0.28818667224999306\n",
      "0.2768254134993112\n",
      "0.24945593185235931\n",
      "0.22959235029301636\n",
      "0.20946995698161958\n",
      "0.18807889897184252\n",
      "0.18474345084415247\n",
      "0.1590955809433641\n",
      "0.1470975425991424\n",
      "0.1398401644921751\n",
      "0.12505024188161817\n",
      "0.10822719184192563\n",
      "0.102855008116133\n",
      "0.08535554040968857\n",
      "0.07566592901237423\n",
      "0.07005391670146661\n",
      "0.060334523640949\n",
      "0.051427278166775364\n",
      "0.041300315736537085\n",
      "0.039158854252167134\n",
      "0.030748204706865123\n",
      "0.02932852731891893\n",
      "0.028086689331231547\n",
      "0.02460045988059996\n",
      "0.022086605260346753\n",
      "0.018511503350007306\n",
      "0.017841884971270594\n",
      "0.017502493077074268\n",
      "0.01250644228748214\n",
      "0.011785301941576568\n",
      "0.011112676386534535\n",
      "0.01019428248088932\n",
      "0.008251176423226153\n",
      "0.006629383019995444\n",
      "0.005621309914043661\n",
      "0.004362855531666617\n",
      "0.003996909629816483\n",
      "0.0039017561475571576\n",
      "0.00044716354997127814\n",
      "0.0007245757465623923\n",
      "0.001082627479248825\n",
      "0.0025432494463151576\n",
      "0.0023472852638738015\n",
      "0.001503842058699402\n",
      "0.0018782140993174573\n",
      "0.001697204728682643\n",
      "0.0\n"
     ]
    }
   ],
   "source": [
    "eig_pairs=[(np.abs(eig_vals[i],eig_vect[1,i]) for i in range(len(eig_vals)))]\n",
    "print(\"Eigen values in descending order\")\n",
    "for i in eig_vals:\n",
    "     print(i)"
   ]
  },
  {
   "cell_type": "code",
   "execution_count": 9,
   "metadata": {
    "id": "Z0xuetI_Skp6"
   },
   "outputs": [],
   "source": [
    "from sklearn.decomposition import PCA\n"
   ]
  },
  {
   "cell_type": "code",
   "execution_count": 10,
   "metadata": {
    "colab": {
     "base_uri": "https://localhost:8080/",
     "height": 104
    },
    "executionInfo": {
     "elapsed": 1001,
     "status": "ok",
     "timestamp": 1603202820421,
     "user": {
      "displayName": "Shabhitha Murugadass",
      "photoUrl": "https://lh3.googleusercontent.com/a-/AOh14Gi7p7UAHTXYSPe5n79FNbudyYF3DblZOEKKAnVy=s64",
      "userId": "09384834320567856021"
     },
     "user_tz": -330
    },
    "id": "fY3Pb8HuSkp-",
    "outputId": "1150af35-c1b4-4416-b152-31293d23c5c5"
   },
   "outputs": [
    {
     "name": "stdout",
     "output_type": "stream",
     "text": [
      "[0.33916674 0.15218973 0.10013796 0.06405741 0.05032549 0.03351199\n",
      " 0.03043894 0.026577   0.02165446 0.01702602 0.0156523  0.01548766\n",
      " 0.01427686 0.01340371 0.01089684 0.00980794 0.00831232 0.00749135\n",
      " 0.00731282 0.00602175 0.00566539 0.00506023 0.00421706 0.00405081\n",
      " 0.00365031 0.00335964 0.00306519 0.00275217 0.00270337 0.00232806]\n"
     ]
    }
   ],
   "source": [
    "pca=PCA(n_components=30)\n",
    "pca.fit_transform(X_std)\n",
    "print(pca.explained_variance_ratio_)"
   ]
  },
  {
   "cell_type": "code",
   "execution_count": 11,
   "metadata": {
    "colab": {
     "base_uri": "https://localhost:8080/",
     "height": 35
    },
    "executionInfo": {
     "elapsed": 970,
     "status": "ok",
     "timestamp": 1603202823963,
     "user": {
      "displayName": "Shabhitha Murugadass",
      "photoUrl": "https://lh3.googleusercontent.com/a-/AOh14Gi7p7UAHTXYSPe5n79FNbudyYF3DblZOEKKAnVy=s64",
      "userId": "09384834320567856021"
     },
     "user_tz": -330
    },
    "id": "hMx_p5lCSkqD",
    "outputId": "9d2986d2-292d-4cd5-bd89-83e8f71e1b34"
   },
   "outputs": [
    {
     "data": {
      "text/plain": [
       "(202, 69)"
      ]
     },
     "execution_count": 11,
     "metadata": {},
     "output_type": "execute_result"
    }
   ],
   "source": [
    "X_std.shape"
   ]
  },
  {
   "cell_type": "code",
   "execution_count": 12,
   "metadata": {
    "colab": {
     "base_uri": "https://localhost:8080/",
     "height": 35
    },
    "executionInfo": {
     "elapsed": 1196,
     "status": "ok",
     "timestamp": 1603202827339,
     "user": {
      "displayName": "Shabhitha Murugadass",
      "photoUrl": "https://lh3.googleusercontent.com/a-/AOh14Gi7p7UAHTXYSPe5n79FNbudyYF3DblZOEKKAnVy=s64",
      "userId": "09384834320567856021"
     },
     "user_tz": -330
    },
    "id": "zR4gNLROSkqI",
    "outputId": "abb05f99-a9ce-4b99-872f-011a8c1af20b"
   },
   "outputs": [
    {
     "data": {
      "text/plain": [
       "(202, 30)"
      ]
     },
     "execution_count": 12,
     "metadata": {},
     "output_type": "execute_result"
    }
   ],
   "source": [
    "X_pca=pca.transform(X_std)\n",
    "X_pca.shape"
   ]
  },
  {
   "cell_type": "code",
   "execution_count": 13,
   "metadata": {
    "colab": {
     "base_uri": "https://localhost:8080/",
     "height": 243
    },
    "executionInfo": {
     "elapsed": 1657,
     "status": "ok",
     "timestamp": 1603202830960,
     "user": {
      "displayName": "Shabhitha Murugadass",
      "photoUrl": "https://lh3.googleusercontent.com/a-/AOh14Gi7p7UAHTXYSPe5n79FNbudyYF3DblZOEKKAnVy=s64",
      "userId": "09384834320567856021"
     },
     "user_tz": -330
    },
    "id": "k5fSsJHLSkqN",
    "outputId": "0704c8b2-4735-4192-8784-f2c12d9b8628"
   },
   "outputs": [
    {
     "data": {
      "text/plain": [
       "array([[-1.61483236,  0.98474876, -2.84783228, ..., -0.47871126,\n",
       "        -0.22882059,  0.05275433],\n",
       "       [-0.10455755,  4.04303191,  5.72445272, ...,  0.25497964,\n",
       "        -0.10231713, -0.62542243],\n",
       "       [11.5480847 ,  0.17298285, -0.66205601, ..., -0.14779424,\n",
       "         0.21524881,  0.15890817],\n",
       "       ...,\n",
       "       [-2.18197559, -2.09491954,  2.53205047, ..., -0.59473609,\n",
       "         0.2448046 ,  0.324717  ],\n",
       "       [-3.50497376, -6.259832  , -3.32484577, ...,  0.62305255,\n",
       "        -1.05849377,  0.27100793],\n",
       "       [-1.28939444, -4.30856438,  4.64983005, ...,  0.34184105,\n",
       "        -0.17857506,  0.24120748]])"
      ]
     },
     "execution_count": 13,
     "metadata": {},
     "output_type": "execute_result"
    }
   ],
   "source": [
    "X_pca"
   ]
  },
  {
   "cell_type": "code",
   "execution_count": 14,
   "metadata": {},
   "outputs": [
    {
     "data": {
      "text/plain": [
       "array([0.33916674, 0.15218973, 0.10013796, 0.06405741, 0.05032549,\n",
       "       0.03351199, 0.03043894, 0.026577  , 0.02165446, 0.01702602,\n",
       "       0.0156523 , 0.01548766, 0.01427686, 0.01340371, 0.01089684,\n",
       "       0.00980794, 0.00831232, 0.00749135, 0.00731282, 0.00602175,\n",
       "       0.00566539, 0.00506023, 0.00421706, 0.00405081, 0.00365031,\n",
       "       0.00335964, 0.00306519, 0.00275217, 0.00270337, 0.00232806])"
      ]
     },
     "execution_count": 14,
     "metadata": {},
     "output_type": "execute_result"
    }
   ],
   "source": [
    "pca.explained_variance_ratio_"
   ]
  },
  {
   "cell_type": "code",
   "execution_count": 15,
   "metadata": {
    "colab": {
     "base_uri": "https://localhost:8080/",
     "height": 180
    },
    "executionInfo": {
     "elapsed": 2631,
     "status": "error",
     "timestamp": 1603956751228,
     "user": {
      "displayName": "Aravind Srinivasan",
      "photoUrl": "https://lh3.googleusercontent.com/a-/AOh14Ghe2VFDFgic95xjnTzSQjtPsmUwL_di1wZdoeYr=s64",
      "userId": "16782759661997552051"
     },
     "user_tz": -330
    },
    "id": "IEfKFoTGSkqT",
    "outputId": "9ed56e9b-c821-44b1-e8ad-e3f3cb0083ae"
   },
   "outputs": [],
   "source": [
    "a = numpy.asarray(X_pca)\n",
    "# df1['label']"
   ]
  },
  {
   "cell_type": "code",
   "execution_count": 16,
   "metadata": {},
   "outputs": [
    {
     "data": {
      "text/plain": [
       "array([-1.61483236,  0.98474876, -2.84783228, ...,  0.        ,\n",
       "        0.        ,  0.        ])"
      ]
     },
     "execution_count": 16,
     "metadata": {},
     "output_type": "execute_result"
    }
   ],
   "source": [
    "np.append(a,df1['label'])"
   ]
  },
  {
   "cell_type": "code",
   "execution_count": 23,
   "metadata": {},
   "outputs": [],
   "source": [
    "numpy.savetxt(\"../Data/pca.csv\", a, delimiter=\",\")"
   ]
  },
  {
   "cell_type": "code",
   "execution_count": 18,
   "metadata": {
    "colab": {
     "base_uri": "https://localhost:8080/",
     "height": 279
    },
    "executionInfo": {
     "elapsed": 1079,
     "status": "ok",
     "timestamp": 1603202839383,
     "user": {
      "displayName": "Shabhitha Murugadass",
      "photoUrl": "https://lh3.googleusercontent.com/a-/AOh14Gi7p7UAHTXYSPe5n79FNbudyYF3DblZOEKKAnVy=s64",
      "userId": "09384834320567856021"
     },
     "user_tz": -330
    },
    "id": "UeHOrW1QSkqY",
    "outputId": "30c9bf77-7cc0-4bbc-b2d3-823b44369512"
   },
   "outputs": [
    {
     "data": {
      "image/png": "[encoded data removed]",
      "text/plain": [
       "<Figure size 432x288 with 1 Axes>"
      ]
     },
     "metadata": {
      "needs_background": "light"
     },
     "output_type": "display_data"
    }
   ],
   "source": [
    "pca=PCA().fit(X_std)\n",
    "plt.plot(np.cumsum(pca.explained_variance_ratio_))\n",
    "plt.xlabel('number of components')\n",
    "plt.ylabel('cumulative explained variance')\n",
    "plt.show()"
   ]
  },
  {
   "cell_type": "code",
   "execution_count": 19,
   "metadata": {
    "id": "pOupudFiSkqe"
   },
   "outputs": [],
   "source": [
    "#plt.figure(flagsize=(1,0))\n",
    "#plt.scatter(X_pca[1,0],X_pca[1,0],d1)\n",
    "#plt.xlabel('number of components')\n",
    "#plt.ylabel('cumulative explained variance')"
   ]
  },
  {
   "cell_type": "code",
   "execution_count": 20,
   "metadata": {
    "id": "m6cOKemaSkqj"
   },
   "outputs": [],
   "source": [
    "df = pd.read_csv(\"pca.csv\")\n",
    "df.fillna(0, inplace=True)"
   ]
  },
  {
   "cell_type": "code",
   "execution_count": null,
   "metadata": {},
   "outputs": [],
   "source": []
  }
 ],
 "metadata": {
  "colab": {
   "name": "PCA.ipynb",
   "provenance": []
  },
  "kernelspec": {
   "display_name": "Python 3",
   "language": "python",
   "name": "python3"
  },
  "language_info": {
   "codemirror_mode": {
    "name": "ipython",
    "version": 3
   },
   "file_extension": ".py",
   "mimetype": "text/x-python",
   "name": "python",
   "nbconvert_exporter": "python",
   "pygments_lexer": "ipython3",
   "version": "3.7.3"
  }
 },
 "nbformat": 4,
 "nbformat_minor": 1
}
