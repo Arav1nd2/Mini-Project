{
 "cells": [
  {
   "cell_type": "code",
   "execution_count": 38,
   "metadata": {
    "executionInfo": {
     "elapsed": 3513,
     "status": "ok",
     "timestamp": 1603956767738,
     "user": {
      "displayName": "Aravind Srinivasan",
      "photoUrl": "https://lh3.googleusercontent.com/a-/AOh14Ghe2VFDFgic95xjnTzSQjtPsmUwL_di1wZdoeYr=s64",
      "userId": "16782759661997552051"
     },
     "user_tz": -330
    },
    "id": "us0Dl9cISkpB"
   },
   "outputs": [],
   "source": [
    "import pandas as pd\n",
    "import numpy as np\n",
    "from sklearn.preprocessing import StandardScaler\n",
    "from matplotlib import*\n",
    "import matplotlib.pyplot as plt\n",
    "from matplotlib import cm \n",
    "from scipy import stats\n",
    "from sklearn.decomposition import PCA as sklearnPCA\n",
    "import seaborn\n",
    "import io\n"
   ]
  },
  {
   "cell_type": "code",
   "execution_count": 3,
   "metadata": {
    "colab": {
     "base_uri": "https://localhost:8080/",
     "height": 72,
     "resources": {
      "http://localhost:8080/nbextensions/google.colab/files.js": {
       "data": "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",
       "headers": [
        [
         "content-type",
         "application/javascript"
        ]
       ],
       "ok": true,
       "status": 200,
       "status_text": ""
      }
     }
    },
    "executionInfo": {
     "elapsed": 46400,
     "status": "ok",
     "timestamp": 1603956820837,
     "user": {
      "displayName": "Aravind Srinivasan",
      "photoUrl": "https://lh3.googleusercontent.com/a-/AOh14Ghe2VFDFgic95xjnTzSQjtPsmUwL_di1wZdoeYr=s64",
      "userId": "16782759661997552051"
     },
     "user_tz": -330
    },
    "id": "WHm3pqrYSkpQ",
    "outputId": "be563023-380d-40b1-d727-b24394d5f9f9"
   },
   "outputs": [
    {
     "data": {
      "text/html": [
       "\n",
       "     <input type=\"file\" id=\"files-c16efc8c-ba1c-47ce-9f14-342cb497618f\" name=\"files[]\" multiple disabled\n",
       "        style=\"border:none\" />\n",
       "     <output id=\"result-c16efc8c-ba1c-47ce-9f14-342cb497618f\">\n",
       "      Upload widget is only available when the cell has been executed in the\n",
       "      current browser session. Please rerun this cell to enable.\n",
       "      </output>\n",
       "      <script src=\"/nbextensions/google.colab/files.js\"></script> "
      ],
      "text/plain": [
       "<IPython.core.display.HTML object>"
      ]
     },
     "metadata": {
      "tags": []
     },
     "output_type": "display_data"
    },
    {
     "name": "stdout",
     "output_type": "stream",
     "text": [
      "Saving Acoustic.csv to Acoustic.csv\n"
     ]
    }
   ],
   "source": [
    "from google.colab import files\n",
    "uploaded = files.upload()"
   ]
  },
  {
   "cell_type": "code",
   "execution_count": 48,
   "metadata": {
    "colab": {
     "base_uri": "https://localhost:8080/",
     "height": 241
    },
    "executionInfo": {
     "elapsed": 1089,
     "status": "ok",
     "timestamp": 1603956864700,
     "user": {
      "displayName": "Aravind Srinivasan",
      "photoUrl": "https://lh3.googleusercontent.com/a-/AOh14Ghe2VFDFgic95xjnTzSQjtPsmUwL_di1wZdoeYr=s64",
      "userId": "16782759661997552051"
     },
     "user_tz": -330
    },
    "id": "6oFFwqSBVLzQ",
    "outputId": "acf8bc24-103c-4ade-9365-1076d0df31c7"
   },
   "outputs": [
    {
     "data": {
      "text/html": [
       "<div>\n",
       "<style scoped>\n",
       "    .dataframe tbody tr th:only-of-type {\n",
       "        vertical-align: middle;\n",
       "    }\n",
       "\n",
       "    .dataframe tbody tr th {\n",
       "        vertical-align: top;\n",
       "    }\n",
       "\n",
       "    .dataframe thead th {\n",
       "        text-align: right;\n",
       "    }\n",
       "</style>\n",
       "<table border=\"1\" class=\"dataframe\">\n",
       "  <thead>\n",
       "    <tr style=\"text-align: right;\">\n",
       "      <th></th>\n",
       "      <th>Unnamed: 0</th>\n",
       "      <th>AQ_kurt</th>\n",
       "      <th>AQ_max</th>\n",
       "      <th>AQ_mean</th>\n",
       "      <th>AQ_median</th>\n",
       "      <th>AQ_min</th>\n",
       "      <th>AQ_skew</th>\n",
       "      <th>AQ_std</th>\n",
       "      <th>ClQ_kurt</th>\n",
       "      <th>ClQ_max</th>\n",
       "      <th>...</th>\n",
       "      <th>SQ1_std</th>\n",
       "      <th>SQ2_kurt</th>\n",
       "      <th>SQ2_max</th>\n",
       "      <th>SQ2_mean</th>\n",
       "      <th>SQ2_median</th>\n",
       "      <th>SQ2_min</th>\n",
       "      <th>SQ2_skew</th>\n",
       "      <th>SQ2_std</th>\n",
       "      <th>Unnamed: 67</th>\n",
       "      <th>label</th>\n",
       "    </tr>\n",
       "  </thead>\n",
       "  <tbody>\n",
       "    <tr>\n",
       "      <th>0</th>\n",
       "      <td>0</td>\n",
       "      <td>-1.125019</td>\n",
       "      <td>0.001362</td>\n",
       "      <td>0.000734</td>\n",
       "      <td>0.000578</td>\n",
       "      <td>0.000025</td>\n",
       "      <td>0.399345</td>\n",
       "      <td>0.000339</td>\n",
       "      <td>-1.513942</td>\n",
       "      <td>0.635115</td>\n",
       "      <td>...</td>\n",
       "      <td>0.675402</td>\n",
       "      <td>0.308816</td>\n",
       "      <td>2.674824</td>\n",
       "      <td>1.157275</td>\n",
       "      <td>1.006275</td>\n",
       "      <td>0.075223</td>\n",
       "      <td>0.952797</td>\n",
       "      <td>0.536728</td>\n",
       "      <td>NaN</td>\n",
       "      <td>1</td>\n",
       "    </tr>\n",
       "    <tr>\n",
       "      <th>1</th>\n",
       "      <td>1</td>\n",
       "      <td>NaN</td>\n",
       "      <td>0.000273</td>\n",
       "      <td>0.000273</td>\n",
       "      <td>0.000273</td>\n",
       "      <td>0.000273</td>\n",
       "      <td>NaN</td>\n",
       "      <td>NaN</td>\n",
       "      <td>NaN</td>\n",
       "      <td>0.212901</td>\n",
       "      <td>...</td>\n",
       "      <td>NaN</td>\n",
       "      <td>NaN</td>\n",
       "      <td>2.212919</td>\n",
       "      <td>2.212919</td>\n",
       "      <td>2.212919</td>\n",
       "      <td>2.212919</td>\n",
       "      <td>NaN</td>\n",
       "      <td>NaN</td>\n",
       "      <td>NaN</td>\n",
       "      <td>1</td>\n",
       "    </tr>\n",
       "    <tr>\n",
       "      <th>2</th>\n",
       "      <td>2</td>\n",
       "      <td>NaN</td>\n",
       "      <td>NaN</td>\n",
       "      <td>NaN</td>\n",
       "      <td>NaN</td>\n",
       "      <td>NaN</td>\n",
       "      <td>NaN</td>\n",
       "      <td>NaN</td>\n",
       "      <td>NaN</td>\n",
       "      <td>NaN</td>\n",
       "      <td>...</td>\n",
       "      <td>NaN</td>\n",
       "      <td>NaN</td>\n",
       "      <td>NaN</td>\n",
       "      <td>NaN</td>\n",
       "      <td>NaN</td>\n",
       "      <td>NaN</td>\n",
       "      <td>NaN</td>\n",
       "      <td>NaN</td>\n",
       "      <td>NaN</td>\n",
       "      <td>1</td>\n",
       "    </tr>\n",
       "    <tr>\n",
       "      <th>3</th>\n",
       "      <td>3</td>\n",
       "      <td>-1.030347</td>\n",
       "      <td>0.001417</td>\n",
       "      <td>0.000791</td>\n",
       "      <td>0.000885</td>\n",
       "      <td>0.000069</td>\n",
       "      <td>-0.182928</td>\n",
       "      <td>0.000360</td>\n",
       "      <td>-0.023530</td>\n",
       "      <td>0.869753</td>\n",
       "      <td>...</td>\n",
       "      <td>1.185508</td>\n",
       "      <td>35.373686</td>\n",
       "      <td>8.356877</td>\n",
       "      <td>0.872556</td>\n",
       "      <td>0.715124</td>\n",
       "      <td>0.000000</td>\n",
       "      <td>5.312221</td>\n",
       "      <td>0.945553</td>\n",
       "      <td>NaN</td>\n",
       "      <td>1</td>\n",
       "    </tr>\n",
       "    <tr>\n",
       "      <th>4</th>\n",
       "      <td>4</td>\n",
       "      <td>-0.485704</td>\n",
       "      <td>0.000403</td>\n",
       "      <td>0.000215</td>\n",
       "      <td>0.000237</td>\n",
       "      <td>0.000046</td>\n",
       "      <td>0.101187</td>\n",
       "      <td>0.000095</td>\n",
       "      <td>-0.931441</td>\n",
       "      <td>0.839397</td>\n",
       "      <td>...</td>\n",
       "      <td>2.236482</td>\n",
       "      <td>18.286592</td>\n",
       "      <td>6.931799</td>\n",
       "      <td>0.688371</td>\n",
       "      <td>0.341031</td>\n",
       "      <td>0.084272</td>\n",
       "      <td>4.242434</td>\n",
       "      <td>1.524225</td>\n",
       "      <td>NaN</td>\n",
       "      <td>1</td>\n",
       "    </tr>\n",
       "  </tbody>\n",
       "</table>\n",
       "<p>5 rows × 69 columns</p>\n",
       "</div>"
      ],
      "text/plain": [
       "   Unnamed: 0   AQ_kurt    AQ_max   AQ_mean  AQ_median    AQ_min   AQ_skew  \\\n",
       "0           0 -1.125019  0.001362  0.000734   0.000578  0.000025  0.399345   \n",
       "1           1       NaN  0.000273  0.000273   0.000273  0.000273       NaN   \n",
       "2           2       NaN       NaN       NaN        NaN       NaN       NaN   \n",
       "3           3 -1.030347  0.001417  0.000791   0.000885  0.000069 -0.182928   \n",
       "4           4 -0.485704  0.000403  0.000215   0.000237  0.000046  0.101187   \n",
       "\n",
       "     AQ_std  ClQ_kurt   ClQ_max  ...   SQ1_std   SQ2_kurt   SQ2_max  SQ2_mean  \\\n",
       "0  0.000339 -1.513942  0.635115  ...  0.675402   0.308816  2.674824  1.157275   \n",
       "1       NaN       NaN  0.212901  ...       NaN        NaN  2.212919  2.212919   \n",
       "2       NaN       NaN       NaN  ...       NaN        NaN       NaN       NaN   \n",
       "3  0.000360 -0.023530  0.869753  ...  1.185508  35.373686  8.356877  0.872556   \n",
       "4  0.000095 -0.931441  0.839397  ...  2.236482  18.286592  6.931799  0.688371   \n",
       "\n",
       "   SQ2_median   SQ2_min  SQ2_skew   SQ2_std  Unnamed: 67  label  \n",
       "0    1.006275  0.075223  0.952797  0.536728          NaN      1  \n",
       "1    2.212919  2.212919       NaN       NaN          NaN      1  \n",
       "2         NaN       NaN       NaN       NaN          NaN      1  \n",
       "3    0.715124  0.000000  5.312221  0.945553          NaN      1  \n",
       "4    0.341031  0.084272  4.242434  1.524225          NaN      1  \n",
       "\n",
       "[5 rows x 69 columns]"
      ]
     },
     "execution_count": 48,
     "metadata": {},
     "output_type": "execute_result"
    }
   ],
   "source": [
    "d1=pd.read_csv(\"GlottalPCA.csv\")\n",
    "d1.head(5)"
   ]
  },
  {
   "cell_type": "code",
   "execution_count": 49,
   "metadata": {
    "id": "Ub3tBHV-Skpf"
   },
   "outputs": [],
   "source": [
    "df1=d1.replace(np.nan,0,regex=True)"
   ]
  },
  {
   "cell_type": "code",
   "execution_count": 61,
   "metadata": {},
   "outputs": [
    {
     "data": {
      "text/html": [
       "<div>\n",
       "<style scoped>\n",
       "    .dataframe tbody tr th:only-of-type {\n",
       "        vertical-align: middle;\n",
       "    }\n",
       "\n",
       "    .dataframe tbody tr th {\n",
       "        vertical-align: top;\n",
       "    }\n",
       "\n",
       "    .dataframe thead th {\n",
       "        text-align: right;\n",
       "    }\n",
       "</style>\n",
       "<table border=\"1\" class=\"dataframe\">\n",
       "  <thead>\n",
       "    <tr style=\"text-align: right;\">\n",
       "      <th></th>\n",
       "      <th>Unnamed: 0</th>\n",
       "      <th>AQ_kurt</th>\n",
       "      <th>AQ_max</th>\n",
       "      <th>AQ_mean</th>\n",
       "      <th>AQ_median</th>\n",
       "      <th>AQ_min</th>\n",
       "      <th>AQ_skew</th>\n",
       "      <th>AQ_std</th>\n",
       "      <th>ClQ_kurt</th>\n",
       "      <th>ClQ_max</th>\n",
       "      <th>...</th>\n",
       "      <th>SQ1_std</th>\n",
       "      <th>SQ2_kurt</th>\n",
       "      <th>SQ2_max</th>\n",
       "      <th>SQ2_mean</th>\n",
       "      <th>SQ2_median</th>\n",
       "      <th>SQ2_min</th>\n",
       "      <th>SQ2_skew</th>\n",
       "      <th>SQ2_std</th>\n",
       "      <th>Unnamed: 67</th>\n",
       "      <th>label</th>\n",
       "    </tr>\n",
       "  </thead>\n",
       "  <tbody>\n",
       "    <tr>\n",
       "      <th>0</th>\n",
       "      <td>0</td>\n",
       "      <td>-1.125019</td>\n",
       "      <td>0.001362</td>\n",
       "      <td>0.000734</td>\n",
       "      <td>0.000578</td>\n",
       "      <td>0.000025</td>\n",
       "      <td>0.399345</td>\n",
       "      <td>0.000339</td>\n",
       "      <td>-1.513942</td>\n",
       "      <td>0.635115</td>\n",
       "      <td>...</td>\n",
       "      <td>0.675402</td>\n",
       "      <td>0.308816</td>\n",
       "      <td>2.674824</td>\n",
       "      <td>1.157275</td>\n",
       "      <td>1.006275</td>\n",
       "      <td>0.075223</td>\n",
       "      <td>0.952797</td>\n",
       "      <td>0.536728</td>\n",
       "      <td>0.0</td>\n",
       "      <td>1</td>\n",
       "    </tr>\n",
       "    <tr>\n",
       "      <th>1</th>\n",
       "      <td>1</td>\n",
       "      <td>0.000000</td>\n",
       "      <td>0.000273</td>\n",
       "      <td>0.000273</td>\n",
       "      <td>0.000273</td>\n",
       "      <td>0.000273</td>\n",
       "      <td>0.000000</td>\n",
       "      <td>0.000000</td>\n",
       "      <td>0.000000</td>\n",
       "      <td>0.212901</td>\n",
       "      <td>...</td>\n",
       "      <td>0.000000</td>\n",
       "      <td>0.000000</td>\n",
       "      <td>2.212919</td>\n",
       "      <td>2.212919</td>\n",
       "      <td>2.212919</td>\n",
       "      <td>2.212919</td>\n",
       "      <td>0.000000</td>\n",
       "      <td>0.000000</td>\n",
       "      <td>0.0</td>\n",
       "      <td>1</td>\n",
       "    </tr>\n",
       "    <tr>\n",
       "      <th>2</th>\n",
       "      <td>2</td>\n",
       "      <td>0.000000</td>\n",
       "      <td>0.000000</td>\n",
       "      <td>0.000000</td>\n",
       "      <td>0.000000</td>\n",
       "      <td>0.000000</td>\n",
       "      <td>0.000000</td>\n",
       "      <td>0.000000</td>\n",
       "      <td>0.000000</td>\n",
       "      <td>0.000000</td>\n",
       "      <td>...</td>\n",
       "      <td>0.000000</td>\n",
       "      <td>0.000000</td>\n",
       "      <td>0.000000</td>\n",
       "      <td>0.000000</td>\n",
       "      <td>0.000000</td>\n",
       "      <td>0.000000</td>\n",
       "      <td>0.000000</td>\n",
       "      <td>0.000000</td>\n",
       "      <td>0.0</td>\n",
       "      <td>1</td>\n",
       "    </tr>\n",
       "    <tr>\n",
       "      <th>3</th>\n",
       "      <td>3</td>\n",
       "      <td>-1.030347</td>\n",
       "      <td>0.001417</td>\n",
       "      <td>0.000791</td>\n",
       "      <td>0.000885</td>\n",
       "      <td>0.000069</td>\n",
       "      <td>-0.182928</td>\n",
       "      <td>0.000360</td>\n",
       "      <td>-0.023530</td>\n",
       "      <td>0.869753</td>\n",
       "      <td>...</td>\n",
       "      <td>1.185508</td>\n",
       "      <td>35.373686</td>\n",
       "      <td>8.356877</td>\n",
       "      <td>0.872556</td>\n",
       "      <td>0.715124</td>\n",
       "      <td>0.000000</td>\n",
       "      <td>5.312221</td>\n",
       "      <td>0.945553</td>\n",
       "      <td>0.0</td>\n",
       "      <td>1</td>\n",
       "    </tr>\n",
       "    <tr>\n",
       "      <th>4</th>\n",
       "      <td>4</td>\n",
       "      <td>-0.485704</td>\n",
       "      <td>0.000403</td>\n",
       "      <td>0.000215</td>\n",
       "      <td>0.000237</td>\n",
       "      <td>0.000046</td>\n",
       "      <td>0.101187</td>\n",
       "      <td>0.000095</td>\n",
       "      <td>-0.931441</td>\n",
       "      <td>0.839397</td>\n",
       "      <td>...</td>\n",
       "      <td>2.236482</td>\n",
       "      <td>18.286592</td>\n",
       "      <td>6.931799</td>\n",
       "      <td>0.688371</td>\n",
       "      <td>0.341031</td>\n",
       "      <td>0.084272</td>\n",
       "      <td>4.242434</td>\n",
       "      <td>1.524225</td>\n",
       "      <td>0.0</td>\n",
       "      <td>1</td>\n",
       "    </tr>\n",
       "  </tbody>\n",
       "</table>\n",
       "<p>5 rows × 69 columns</p>\n",
       "</div>"
      ],
      "text/plain": [
       "   Unnamed: 0   AQ_kurt    AQ_max   AQ_mean  AQ_median    AQ_min   AQ_skew  \\\n",
       "0           0 -1.125019  0.001362  0.000734   0.000578  0.000025  0.399345   \n",
       "1           1  0.000000  0.000273  0.000273   0.000273  0.000273  0.000000   \n",
       "2           2  0.000000  0.000000  0.000000   0.000000  0.000000  0.000000   \n",
       "3           3 -1.030347  0.001417  0.000791   0.000885  0.000069 -0.182928   \n",
       "4           4 -0.485704  0.000403  0.000215   0.000237  0.000046  0.101187   \n",
       "\n",
       "     AQ_std  ClQ_kurt   ClQ_max  ...   SQ1_std   SQ2_kurt   SQ2_max  SQ2_mean  \\\n",
       "0  0.000339 -1.513942  0.635115  ...  0.675402   0.308816  2.674824  1.157275   \n",
       "1  0.000000  0.000000  0.212901  ...  0.000000   0.000000  2.212919  2.212919   \n",
       "2  0.000000  0.000000  0.000000  ...  0.000000   0.000000  0.000000  0.000000   \n",
       "3  0.000360 -0.023530  0.869753  ...  1.185508  35.373686  8.356877  0.872556   \n",
       "4  0.000095 -0.931441  0.839397  ...  2.236482  18.286592  6.931799  0.688371   \n",
       "\n",
       "   SQ2_median   SQ2_min  SQ2_skew   SQ2_std  Unnamed: 67  label  \n",
       "0    1.006275  0.075223  0.952797  0.536728          0.0      1  \n",
       "1    2.212919  2.212919  0.000000  0.000000          0.0      1  \n",
       "2    0.000000  0.000000  0.000000  0.000000          0.0      1  \n",
       "3    0.715124  0.000000  5.312221  0.945553          0.0      1  \n",
       "4    0.341031  0.084272  4.242434  1.524225          0.0      1  \n",
       "\n",
       "[5 rows x 69 columns]"
      ]
     },
     "execution_count": 61,
     "metadata": {},
     "output_type": "execute_result"
    }
   ],
   "source": [
    "\n",
    "from sklearn import preprocessing \n",
    "  \n",
    "# label_encoder object knows how to understand word labels. \n",
    "label_encoder = preprocessing.LabelEncoder() \n",
    "\n",
    "\n",
    "# Encode labels in column 'species'. \n",
    "df1['label']= label_encoder.fit_transform(df1['label'])\n",
    "df1.head()"
   ]
  },
  {
   "cell_type": "code",
   "execution_count": 51,
   "metadata": {
    "id": "QcJ2bLmYSkpl",
    "scrolled": true
   },
   "outputs": [
    {
     "name": "stderr",
     "output_type": "stream",
     "text": [
      "C:\\Users\\Ashwin Ram\\Anaconda3\\lib\\site-packages\\sklearn\\preprocessing\\data.py:645: DataConversionWarning: Data with input dtype int64, float64 were all converted to float64 by StandardScaler.\n",
      "  return self.partial_fit(X, y)\n",
      "C:\\Users\\Ashwin Ram\\Anaconda3\\lib\\site-packages\\sklearn\\base.py:464: DataConversionWarning: Data with input dtype int64, float64 were all converted to float64 by StandardScaler.\n",
      "  return self.fit(X, **fit_params).transform(X)\n"
     ]
    }
   ],
   "source": [
    "X_std=StandardScaler().fit_transform(df1)"
   ]
  },
  {
   "cell_type": "code",
   "execution_count": 8,
   "metadata": {
    "colab": {
     "base_uri": "https://localhost:8080/",
     "height": 260
    },
    "executionInfo": {
     "elapsed": 1289,
     "status": "ok",
     "timestamp": 1603202797874,
     "user": {
      "displayName": "Shabhitha Murugadass",
      "photoUrl": "https://lh3.googleusercontent.com/a-/AOh14Gi7p7UAHTXYSPe5n79FNbudyYF3DblZOEKKAnVy=s64",
      "userId": "09384834320567856021"
     },
     "user_tz": -330
    },
    "id": "HH9VTWxQSkpq",
    "outputId": "9c9ab416-e144-43c3-b05f-8ea0d4e9a283",
    "scrolled": true
   },
   "outputs": [
    {
     "name": "stdout",
     "output_type": "stream",
     "text": [
      "covaariance matrix \n",
      "[[ 0.          0.          0.         ...  0.          0.\n",
      "   0.        ]\n",
      " [ 0.          1.0002784   0.31257763 ... -0.1212777  -0.04925908\n",
      "   0.04159688]\n",
      " [ 0.          0.31257763  1.0002784  ... -0.02722904  0.14842019\n",
      "   0.1655405 ]\n",
      " ...\n",
      " [ 0.         -0.1212777  -0.02722904 ...  1.0002784   0.36417449\n",
      "   0.1158777 ]\n",
      " [ 0.         -0.04925908  0.14842019 ...  0.36417449  1.0002784\n",
      "   0.07428568]\n",
      " [ 0.          0.04159688  0.1655405  ...  0.1158777   0.07428568\n",
      "   1.0002784 ]]\n"
     ]
    }
   ],
   "source": [
    "mean_vec=np.mean(X_std,axis=0)\n",
    "cov_mat=(X_std-mean_vec).T.dot((X_std-mean_vec)/(X_std.shape[0]-1))\n",
    "print(\"covaariance matrix \\n%s\" %cov_mat)\n"
   ]
  },
  {
   "cell_type": "markdown",
   "metadata": {
    "id": "lhP5QhwzSkpv"
   },
   "source": [
    "cov_mat=np.cov(X_std.T)\n",
    "eig_vals,eig_vect=np.linalg.eig(cov_mat)\n",
    "print(\"eigen values \\n%s\"%eig_vals)\n",
    "print(\"eigen vectors \\n%s\"%eig_vect)"
   ]
  },
  {
   "cell_type": "code",
   "execution_count": 52,
   "metadata": {
    "colab": {
     "base_uri": "https://localhost:8080/",
     "height": 1000
    },
    "executionInfo": {
     "elapsed": 1026,
     "status": "ok",
     "timestamp": 1603202801638,
     "user": {
      "displayName": "Shabhitha Murugadass",
      "photoUrl": "https://lh3.googleusercontent.com/a-/AOh14Gi7p7UAHTXYSPe5n79FNbudyYF3DblZOEKKAnVy=s64",
      "userId": "09384834320567856021"
     },
     "user_tz": -330
    },
    "id": "nmuzk8XMSkpw",
    "outputId": "57c5f889-a052-4f81-9bef-ab49f6f02f72"
   },
   "outputs": [
    {
     "name": "stdout",
     "output_type": "stream",
     "text": [
      "eigen values \n",
      "[2.31780816e+01 1.04003889e+01 6.84325889e+00 4.37757530e+00\n",
      " 3.43915909e+00 2.29015287e+00 2.08014562e+00 1.81622693e+00\n",
      " 1.47982922e+00 1.16352971e+00 1.06965197e+00 1.05840053e+00\n",
      " 9.75656317e-01 9.15986614e-01 7.44671551e-01 6.70258005e-01\n",
      " 5.68049804e-01 5.11946000e-01 4.99745601e-01 4.11516032e-01\n",
      " 3.87162995e-01 3.45807485e-01 2.88186672e-01 2.76825413e-01\n",
      " 2.49455932e-01 2.29592350e-01 2.09469957e-01 1.88078899e-01\n",
      " 1.84743451e-01 1.59095581e-01 1.47097543e-01 1.39840164e-01\n",
      " 1.25050242e-01 1.08227192e-01 1.02855008e-01 8.53555404e-02\n",
      " 7.56659290e-02 7.00539167e-02 6.03345236e-02 5.14272782e-02\n",
      " 4.13003157e-02 3.91588543e-02 3.07482047e-02 2.93285273e-02\n",
      " 2.80866893e-02 2.46004599e-02 2.20866053e-02 1.85115034e-02\n",
      " 1.78418850e-02 1.75024931e-02 1.25064423e-02 1.17853019e-02\n",
      " 1.11126764e-02 1.01942825e-02 8.25117642e-03 6.62938302e-03\n",
      " 5.62130991e-03 4.36285553e-03 3.99690963e-03 3.90175615e-03\n",
      " 4.47163550e-04 7.24575747e-04 1.08262748e-03 2.54324945e-03\n",
      " 2.34728526e-03 1.50384206e-03 1.87821410e-03 1.69720473e-03\n",
      " 0.00000000e+00]\n",
      "eigen vectors \n",
      "[[ 7.72816211e-03  4.38411646e-03  1.80716979e-02 ...  4.83636134e-03\n",
      "   9.11373719e-04  0.00000000e+00]\n",
      " [-3.18519778e-02  3.00234449e-02  6.59129138e-02 ...  6.13764764e-02\n",
      "  -2.79165176e-03  0.00000000e+00]\n",
      " [-1.30211487e-01  1.58989114e-01  1.00073560e-01 ...  7.65641443e-02\n",
      "   9.23573213e-02  0.00000000e+00]\n",
      " ...\n",
      " [-9.87110366e-02  1.63456662e-01 -1.12167467e-01 ... -2.06490952e-01\n",
      "  -2.13661947e-02  0.00000000e+00]\n",
      " [ 0.00000000e+00  0.00000000e+00  0.00000000e+00 ...  0.00000000e+00\n",
      "   0.00000000e+00  1.00000000e+00]\n",
      " [ 7.45794083e-02 -2.26326527e-01 -1.37976094e-01 ...  9.39641579e-03\n",
      "   4.21558935e-02  0.00000000e+00]]\n"
     ]
    }
   ],
   "source": [
    "cov_mat=np.cov(X_std.T)\n",
    "eig_vals,eig_vect=np.linalg.eig(cov_mat)\n",
    "print(\"eigen values \\n%s\"%eig_vals)\n",
    "print(\"eigen vectors \\n%s\"%eig_vect)\n"
   ]
  },
  {
   "cell_type": "code",
   "execution_count": 10,
   "metadata": {
    "colab": {
     "base_uri": "https://localhost:8080/",
     "height": 1000
    },
    "executionInfo": {
     "elapsed": 1290,
     "status": "ok",
     "timestamp": 1603202807951,
     "user": {
      "displayName": "Shabhitha Murugadass",
      "photoUrl": "https://lh3.googleusercontent.com/a-/AOh14Gi7p7UAHTXYSPe5n79FNbudyYF3DblZOEKKAnVy=s64",
      "userId": "09384834320567856021"
     },
     "user_tz": -330
    },
    "id": "Mwcu8NVrSkp1",
    "outputId": "7ef7e3c7-94ab-4e4c-e59c-aa9b70899444"
   },
   "outputs": [
    {
     "name": "stdout",
     "output_type": "stream",
     "text": [
      "Eigen values in descending order\n",
      "81.37409841798637\n",
      "41.718969377897274\n",
      "19.899859777606444\n",
      "18.761417503869517\n",
      "12.255942103988946\n",
      "9.905063484541017\n",
      "8.978942291122218\n",
      "8.630128372381607\n",
      "7.415670039522908\n",
      "6.751664643139319\n",
      "5.973411888429881\n",
      "5.705544363460866\n",
      "5.040130890265087\n",
      "4.432188631938002\n",
      "4.379252395079616\n",
      "4.014154244403132\n",
      "3.691826712157229\n",
      "3.551459734394693\n",
      "3.0583952190195682\n",
      "2.97346803571481\n",
      "2.8368169589502052\n",
      "2.688992147720281\n",
      "2.6585157697370074\n",
      "2.4652559826229403\n",
      "2.4429727328116435\n",
      "2.3550920718255797\n",
      "2.220492803658374\n",
      "2.1467589223896737\n",
      "2.095535600599991\n",
      "2.0524386925070717\n",
      "1.9952723643793566\n",
      "1.9530207973433216\n",
      "1.8189727715585038\n",
      "1.7739891051740346\n",
      "1.6884084122526875\n",
      "1.669529420877202\n",
      "1.648277840451507\n",
      "1.5917133987078975\n",
      "1.5490888342503355\n",
      "1.5425250058726498\n",
      "1.509014765348627\n",
      "1.489106891300222\n",
      "1.4310565982207144\n",
      "1.4275152323711537\n",
      "1.4049531766116479\n",
      "1.381425520138366\n",
      "1.3543822463029482\n",
      "1.3004082624160371\n",
      "1.2895064703332695\n",
      "1.2391289336638274\n",
      "1.2154775385629515\n",
      "1.1851988190123113\n",
      "1.1512298920943767\n",
      "1.1438789763858699\n",
      "1.1343355876523051\n",
      "1.1120672970507743\n",
      "1.0896202128329597\n",
      "1.052945369755457\n",
      "1.0346577610202254\n",
      "1.0282770784795054\n",
      "0.996107351775327\n",
      "0.982597707012548\n",
      "0.9727004870173632\n",
      "0.9604604679379132\n",
      "0.9481111421657138\n",
      "0.9411849381967841\n",
      "0.9202503651346563\n",
      "0.8957126251974378\n",
      "0.8147056355239828\n",
      "0.8245884723974285\n",
      "0.8660859149452578\n",
      "0.8544263134528453\n",
      "0.8454456435016087\n",
      "0.8044268308604781\n",
      "0.78660099362906\n",
      "0.7772217895748672\n",
      "0.7529741109439133\n",
      "0.7421956918080963\n",
      "0.7320281663773667\n",
      "0.7190683117592106\n",
      "0.6934492083438141\n",
      "0.6855300114407397\n",
      "0.6746898256735743\n",
      "0.6713391966631164\n",
      "0.655339590096502\n",
      "0.6456893430596929\n",
      "0.6434146775104477\n",
      "0.6379564509461446\n",
      "0.623416639534312\n",
      "0.6177664032544711\n",
      "0.61493084414056\n",
      "0.5773615442674035\n",
      "0.5839676249325715\n",
      "0.5941642026812444\n",
      "0.5935706498201302\n",
      "0.5656125884628415\n",
      "0.5536769300801431\n",
      "0.541671854122471\n",
      "0.5243800142462284\n",
      "0.5154412606517887\n",
      "0.5074543770711107\n",
      "0.504294824104264\n",
      "0.49421760207463833\n",
      "0.48565266776284055\n",
      "0.4767767574677284\n",
      "0.4806183486661082\n",
      "0.4266923750146988\n",
      "0.4310252261834559\n",
      "0.4590684116723562\n",
      "0.4568263717301705\n",
      "0.43920871457872784\n",
      "0.44832234317970754\n",
      "0.41555921768405374\n",
      "0.4056810555691506\n",
      "0.40031179418985546\n",
      "0.3907073825733586\n",
      "0.38745093985364826\n",
      "0.333068631676619\n",
      "0.37703275030478733\n",
      "0.374213292488603\n",
      "0.3677493653874859\n",
      "0.3621930265879243\n",
      "0.3433129602324776\n",
      "0.3539903331492319\n",
      "0.3510304715944289\n",
      "0.34797942140869814\n",
      "0.32725510703586724\n",
      "0.3245189972147067\n",
      "0.319641115667986\n",
      "0.315825693564\n",
      "0.2650626222660503\n",
      "0.26874795383267613\n",
      "0.27563180793400455\n",
      "0.2772225726887278\n",
      "0.28256080601870526\n",
      "0.28843130735324796\n",
      "0.295070645884239\n",
      "0.2986328402740287\n",
      "0.307329794770538\n",
      "0.3055508411434409\n",
      "0.3032528363876429\n",
      "0.26131836747510373\n",
      "0.25624063985871914\n",
      "0.25168302603592707\n",
      "0.250126004455599\n",
      "0.244444697475205\n",
      "0.2429653358482719\n",
      "0.24065919597524518\n",
      "0.23390952756658326\n",
      "0.22815530170796003\n",
      "0.2098056656174636\n",
      "0.2119770486691208\n",
      "0.2228883193278844\n",
      "0.22039269962930802\n",
      "0.2157443252098855\n",
      "0.20780298635866706\n",
      "0.20577844432973197\n",
      "0.20073752015601054\n",
      "0.19837201205648294\n",
      "0.19425584312874128\n",
      "0.19126038807104145\n",
      "0.1869893084208192\n",
      "0.1628237636954016\n",
      "0.18319906020377136\n",
      "0.18077952792599963\n",
      "0.16714064577788756\n",
      "0.1700995447557889\n",
      "0.17519746554156596\n",
      "0.1758846134408553\n",
      "0.16114825771142707\n",
      "0.15465057012582745\n",
      "0.15188172183070267\n",
      "0.15124611837809673\n",
      "0.14889305849359977\n",
      "0.1460979952702554\n",
      "0.14350709046207144\n",
      "0.14140403102384208\n",
      "0.13807589722774924\n",
      "0.13383246060491807\n",
      "0.13150476019118704\n",
      "0.1294229520356405\n",
      "0.12452792504677072\n",
      "0.12635278443028897\n",
      "0.12030565105074449\n",
      "0.11774541211487419\n",
      "0.11588682215782496\n",
      "0.1105543116030695\n",
      "0.10995668560315516\n",
      "0.10885259185781321\n",
      "0.10606783485180868\n",
      "0.10391484216051969\n",
      "0.10180706453264465\n",
      "0.10086994109529297\n",
      "0.09812091607532658\n",
      "0.09698560571422832\n",
      "0.08833918492536703\n",
      "0.08995361596952027\n",
      "0.09476181434736172\n",
      "0.09350110311366447\n",
      "0.09227560104193648\n",
      "0.08649524031505393\n",
      "0.08480690342005699\n",
      "0.08423084643478505\n",
      "0.08248276824822379\n",
      "0.08211939289603427\n",
      "0.08037839291801603\n",
      "0.07971002476947521\n",
      "0.07925904199868594\n",
      "0.07816716394026733\n",
      "0.07769767706905839\n",
      "0.07582769619297246\n",
      "0.06709205391428778\n",
      "0.06751424903894519\n",
      "0.07477962114614382\n",
      "0.07371781864860796\n",
      "0.07338119818814591\n",
      "0.0726014884602008\n",
      "0.07165521275275961\n",
      "0.07105760302448147\n",
      "0.06975399509425695\n",
      "0.06940658681132796\n",
      "0.06679685138572887\n",
      "0.06534494360212488\n",
      "0.06476999690798244\n",
      "0.06386970092151904\n",
      "0.06277526068283017\n",
      "0.055336886321557734\n",
      "0.05563794757625093\n",
      "0.06156724579141928\n",
      "0.06085379053728673\n",
      "0.06008695829573228\n",
      "0.05966709412004842\n",
      "0.059421775074335374\n",
      "0.057235664038151064\n",
      "0.05799547720817476\n",
      "0.05819908179962013\n",
      "0.0546504570075337\n",
      "0.0469794362141595\n",
      "0.04724357402079517\n",
      "0.04785889899837427\n",
      "0.04879808967725837\n",
      "0.0536541989950147\n",
      "0.05291495159026298\n",
      "0.052470967273505364\n",
      "0.05215090549391156\n",
      "0.05226364799010357\n",
      "0.04960856656809163\n",
      "0.05100848420134264\n",
      "0.05077905195740922\n",
      "0.05059285010969594\n",
      "0.036816941400236905\n",
      "0.03820825705322171\n",
      "0.03904427129595961\n",
      "0.0401635708789328\n",
      "0.040905035540025475\n",
      "0.04156731343377363\n",
      "0.04611073785936504\n",
      "0.042028853886183846\n",
      "0.04565408206556735\n",
      "0.04291271019624419\n",
      "0.04490760539448089\n",
      "0.04372977968566281\n",
      "0.043609867342834216\n",
      "0.04447531473210265\n",
      "0.042346546041061736\n",
      "0.035880591017340015\n",
      "0.035550620505793065\n",
      "0.035390074994500025\n",
      "0.03445797566123623\n",
      "0.03459353054746965\n",
      "0.033324931345546344\n",
      "0.03268854863647394\n",
      "0.03211047275047322\n",
      "0.02852331724974621\n",
      "0.02881490452026075\n",
      "0.030811604879644332\n",
      "0.030365486657766203\n",
      "0.030247599030170536\n",
      "0.030098233554321802\n",
      "0.027780780120718496\n",
      "0.027383601454053618\n",
      "0.02659791766556475\n",
      "0.026108705517583927\n",
      "0.025286571060963672\n",
      "0.02454002046696031\n",
      "0.02484283672842569\n",
      "0.023445414362195605\n",
      "0.022721726392375224\n",
      "0.022132931812031607\n",
      "0.021249582760092492\n",
      "0.02081430971718478\n",
      "0.020544936215349238\n",
      "0.019744753403997197\n",
      "0.019357886543782617\n",
      "0.026266512923736433\n",
      "0.01872644222079702\n",
      "0.018104393993424558\n",
      "0.017742448136965055\n",
      "0.0022618407871064037\n",
      "0.016453816020625664\n",
      "0.016083338105188062\n",
      "0.006629118066354755\n",
      "0.014934076262715066\n",
      "0.011589026344873455\n",
      "0.011229352248029718\n",
      "0.010974492714169313\n",
      "0.012282039619926816\n",
      "0.012698691448319676\n",
      "0.01051192947628155\n",
      "0.007910899710328585\n",
      "0.008701129852552244\n",
      "0.009031681191321157\n",
      "0.009147313832376347\n",
      "0.008121528190842796\n",
      "0.012999928273565135\n",
      "0.010095851239390776\n",
      "0.009927363407599666\n",
      "0.01545729218867754\n",
      "0.014359637564899596\n",
      "0.015364303925888856\n",
      "0.013294135735267644\n",
      "0.013885056653958316\n",
      "0.014045963027326119\n",
      "0.009631659474045243\n",
      "0.008060932005327103\n",
      "0.0006819232910363226\n",
      "0.0012046755010374512\n",
      "0.007519710857314302\n",
      "0.0015133344071930606\n",
      "0.006243970284499953\n",
      "0.005868074862921665\n",
      "0.0025128524494044467\n",
      "0.005918669153382106\n",
      "0.002687833983901082\n",
      "0.005172760208798437\n",
      "0.004856930911057421\n",
      "0.0031600917499927284\n",
      "0.005067715207175922\n",
      "0.0033018484606859564\n",
      "0.004481246828128381\n",
      "0.004505315946131063\n",
      "0.003569398601390989\n",
      "0.0037037788429123545\n",
      "0.0040570348011639045\n",
      "0.003952552573663781\n",
      "0.004139888321005922\n",
      "0.01740130406288043\n",
      "0.01739750945358973\n",
      "0.0027522205779844443\n",
      "0.0030394235719734433\n",
      "0.003409666787232416\n",
      "0.00374810995649647\n",
      "3.680212283277286e-13\n",
      "3.318931133172554e-13\n",
      "-6.738550502085893e-18\n",
      "2.5031197330983035e-13\n",
      "2.110349962166662e-14\n",
      "2.937666791627538e-14\n",
      "2.321889543914272e-13\n",
      "2.2501355567134614e-13\n",
      "6.516966716154461e-14\n",
      "6.763941976396602e-14\n",
      "2.0877964253085403e-13\n",
      "2.0498935881515801e-13\n",
      "1.971061131598337e-13\n",
      "1.91788770046551e-13\n",
      "1.9499391417470396e-13\n",
      "1.83029818016942e-13\n",
      "1.7546402057526686e-13\n",
      "1.7035581505053326e-13\n",
      "7.774668477400758e-14\n",
      "8.41441356311803e-14\n",
      "8.836745376000964e-14\n",
      "1.5315957708360978e-13\n",
      "9.610692136455506e-14\n",
      "1.0038695491354924e-13\n",
      "1.0814304898773202e-13\n",
      "1.1198010930542486e-13\n",
      "1.1951907517022e-13\n",
      "1.2312544742380715e-13\n",
      "1.2654731015256524e-13\n",
      "1.4289647744368327e-13\n",
      "1.3243275607922322e-13\n",
      "1.3972498746748072e-13\n",
      "0.0\n",
      "0.0\n"
     ]
    }
   ],
   "source": [
    "eig_pairs=[(np.abs(eig_vals[i],eig_vect[1,i]) for i in range(len(eig_vals)))]\n",
    "print(\"Eigen values in descending order\")\n",
    "for i in eig_vals:\n",
    "     print(i)"
   ]
  },
  {
   "cell_type": "code",
   "execution_count": 62,
   "metadata": {
    "id": "Z0xuetI_Skp6"
   },
   "outputs": [],
   "source": [
    "from sklearn.decomposition import PCA\n"
   ]
  },
  {
   "cell_type": "code",
   "execution_count": 63,
   "metadata": {
    "colab": {
     "base_uri": "https://localhost:8080/",
     "height": 104
    },
    "executionInfo": {
     "elapsed": 1001,
     "status": "ok",
     "timestamp": 1603202820421,
     "user": {
      "displayName": "Shabhitha Murugadass",
      "photoUrl": "https://lh3.googleusercontent.com/a-/AOh14Gi7p7UAHTXYSPe5n79FNbudyYF3DblZOEKKAnVy=s64",
      "userId": "09384834320567856021"
     },
     "user_tz": -330
    },
    "id": "fY3Pb8HuSkp-",
    "outputId": "1150af35-c1b4-4416-b152-31293d23c5c5"
   },
   "outputs": [
    {
     "name": "stdout",
     "output_type": "stream",
     "text": [
      "[0.33916674 0.15218973 0.10013796 0.06405741 0.05032549 0.03351199\n",
      " 0.03043894 0.026577   0.02165446 0.01702602 0.0156523  0.01548766\n",
      " 0.01427686 0.01340371 0.01089684 0.00980794 0.00831232 0.00749135\n",
      " 0.00731282 0.00602175 0.00566539 0.00506023 0.00421706 0.00405081\n",
      " 0.00365031 0.00335964 0.00306519 0.00275217 0.00270337 0.00232806]\n"
     ]
    }
   ],
   "source": [
    "pca=PCA(n_components=30)\n",
    "pca.fit_transform(X_std)\n",
    "print(pca.explained_variance_ratio_)"
   ]
  },
  {
   "cell_type": "code",
   "execution_count": 64,
   "metadata": {
    "colab": {
     "base_uri": "https://localhost:8080/",
     "height": 35
    },
    "executionInfo": {
     "elapsed": 970,
     "status": "ok",
     "timestamp": 1603202823963,
     "user": {
      "displayName": "Shabhitha Murugadass",
      "photoUrl": "https://lh3.googleusercontent.com/a-/AOh14Gi7p7UAHTXYSPe5n79FNbudyYF3DblZOEKKAnVy=s64",
      "userId": "09384834320567856021"
     },
     "user_tz": -330
    },
    "id": "hMx_p5lCSkqD",
    "outputId": "9d2986d2-292d-4cd5-bd89-83e8f71e1b34"
   },
   "outputs": [
    {
     "data": {
      "text/plain": [
       "(202, 69)"
      ]
     },
     "execution_count": 64,
     "metadata": {},
     "output_type": "execute_result"
    }
   ],
   "source": [
    "X_std.shape"
   ]
  },
  {
   "cell_type": "code",
   "execution_count": 65,
   "metadata": {
    "colab": {
     "base_uri": "https://localhost:8080/",
     "height": 35
    },
    "executionInfo": {
     "elapsed": 1196,
     "status": "ok",
     "timestamp": 1603202827339,
     "user": {
      "displayName": "Shabhitha Murugadass",
      "photoUrl": "https://lh3.googleusercontent.com/a-/AOh14Gi7p7UAHTXYSPe5n79FNbudyYF3DblZOEKKAnVy=s64",
      "userId": "09384834320567856021"
     },
     "user_tz": -330
    },
    "id": "zR4gNLROSkqI",
    "outputId": "abb05f99-a9ce-4b99-872f-011a8c1af20b"
   },
   "outputs": [
    {
     "data": {
      "text/plain": [
       "(202, 30)"
      ]
     },
     "execution_count": 65,
     "metadata": {},
     "output_type": "execute_result"
    }
   ],
   "source": [
    "X_pca=pca.transform(X_std)\n",
    "X_pca.shape"
   ]
  },
  {
   "cell_type": "code",
   "execution_count": 66,
   "metadata": {
    "colab": {
     "base_uri": "https://localhost:8080/",
     "height": 243
    },
    "executionInfo": {
     "elapsed": 1657,
     "status": "ok",
     "timestamp": 1603202830960,
     "user": {
      "displayName": "Shabhitha Murugadass",
      "photoUrl": "https://lh3.googleusercontent.com/a-/AOh14Gi7p7UAHTXYSPe5n79FNbudyYF3DblZOEKKAnVy=s64",
      "userId": "09384834320567856021"
     },
     "user_tz": -330
    },
    "id": "k5fSsJHLSkqN",
    "outputId": "0704c8b2-4735-4192-8784-f2c12d9b8628"
   },
   "outputs": [
    {
     "data": {
      "text/plain": [
       "array([[-1.61483236,  0.98474876, -2.84783228, ..., -0.47871126,\n",
       "        -0.22882059,  0.05275433],\n",
       "       [-0.10455755,  4.04303191,  5.72445272, ...,  0.25497964,\n",
       "        -0.10231713, -0.62542243],\n",
       "       [11.5480847 ,  0.17298285, -0.66205601, ..., -0.14779424,\n",
       "         0.21524881,  0.15890817],\n",
       "       ...,\n",
       "       [-2.18197559, -2.09491954,  2.53205047, ..., -0.59473609,\n",
       "         0.2448046 ,  0.324717  ],\n",
       "       [-3.50497376, -6.259832  , -3.32484577, ...,  0.62305255,\n",
       "        -1.05849377,  0.27100793],\n",
       "       [-1.28939444, -4.30856438,  4.64983005, ...,  0.34184105,\n",
       "        -0.17857506,  0.24120748]])"
      ]
     },
     "execution_count": 66,
     "metadata": {},
     "output_type": "execute_result"
    }
   ],
   "source": [
    "X_pca"
   ]
  },
  {
   "cell_type": "code",
   "execution_count": 72,
   "metadata": {},
   "outputs": [
    {
     "data": {
      "text/plain": [
       "array([0.33916674, 0.15218973, 0.10013796, 0.06405741, 0.05032549,\n",
       "       0.03351199, 0.03043894, 0.026577  , 0.02165446, 0.01702602,\n",
       "       0.0156523 , 0.01548766, 0.01427686, 0.01340371, 0.01089684,\n",
       "       0.00980794, 0.00831232, 0.00749135, 0.00731282, 0.00602175,\n",
       "       0.00566539, 0.00506023, 0.00421706, 0.00405081, 0.00365031,\n",
       "       0.00335964, 0.00306519, 0.00275217, 0.00270337, 0.00232806])"
      ]
     },
     "execution_count": 72,
     "metadata": {},
     "output_type": "execute_result"
    }
   ],
   "source": [
    "pca.explained_variance_ratio_"
   ]
  },
  {
   "cell_type": "code",
   "execution_count": 83,
   "metadata": {
    "colab": {
     "base_uri": "https://localhost:8080/",
     "height": 180
    },
    "executionInfo": {
     "elapsed": 2631,
     "status": "error",
     "timestamp": 1603956751228,
     "user": {
      "displayName": "Aravind Srinivasan",
      "photoUrl": "https://lh3.googleusercontent.com/a-/AOh14Ghe2VFDFgic95xjnTzSQjtPsmUwL_di1wZdoeYr=s64",
      "userId": "16782759661997552051"
     },
     "user_tz": -330
    },
    "id": "IEfKFoTGSkqT",
    "outputId": "9ed56e9b-c821-44b1-e8ad-e3f3cb0083ae"
   },
   "outputs": [],
   "source": [
    "a = numpy.asarray(X_pca)\n",
    "# df1['label']"
   ]
  },
  {
   "cell_type": "code",
   "execution_count": 80,
   "metadata": {},
   "outputs": [
    {
     "data": {
      "text/plain": [
       "array([-1.61483236,  0.98474876, -2.84783228, ...,  0.        ,\n",
       "        0.        ,  0.        ])"
      ]
     },
     "execution_count": 80,
     "metadata": {},
     "output_type": "execute_result"
    }
   ],
   "source": [
    "np.append(a,df1['label'])"
   ]
  },
  {
   "cell_type": "code",
   "execution_count": 81,
   "metadata": {},
   "outputs": [],
   "source": [
    "numpy.savetxt(\"pca.csv\", a, delimiter=\",\")"
   ]
  },
  {
   "cell_type": "code",
   "execution_count": 60,
   "metadata": {
    "colab": {
     "base_uri": "https://localhost:8080/",
     "height": 279
    },
    "executionInfo": {
     "elapsed": 1079,
     "status": "ok",
     "timestamp": 1603202839383,
     "user": {
      "displayName": "Shabhitha Murugadass",
      "photoUrl": "https://lh3.googleusercontent.com/a-/AOh14Gi7p7UAHTXYSPe5n79FNbudyYF3DblZOEKKAnVy=s64",
      "userId": "09384834320567856021"
     },
     "user_tz": -330
    },
    "id": "UeHOrW1QSkqY",
    "outputId": "30c9bf77-7cc0-4bbc-b2d3-823b44369512"
   },
   "outputs": [
    {
     "data": {
      "image/png": "[encoded data removed]",
      "text/plain": [
       "<Figure size 432x288 with 1 Axes>"
      ]
     },
     "metadata": {
      "needs_background": "light"
     },
     "output_type": "display_data"
    }
   ],
   "source": [
    "pca=PCA().fit(X_std)\n",
    "plt.plot(np.cumsum(pca.explained_variance_ratio_))\n",
    "plt.xlabel('number of components')\n",
    "plt.ylabel('cumulative explained variance')\n",
    "plt.show()"
   ]
  },
  {
   "cell_type": "code",
   "execution_count": null,
   "metadata": {
    "id": "pOupudFiSkqe"
   },
   "outputs": [],
   "source": [
    "#plt.figure(flagsize=(1,0))\n",
    "#plt.scatter(X_pca[1,0],X_pca[1,0],d1)\n",
    "#plt.xlabel('number of components')\n",
    "#plt.ylabel('cumulative explained variance')"
   ]
  },
  {
   "cell_type": "code",
   "execution_count": 96,
   "metadata": {
    "id": "m6cOKemaSkqj"
   },
   "outputs": [],
   "source": [
    "df = pd.read_csv(\"pca.csv\")\n",
    "df.fillna(0, inplace=True)"
   ]
  },
  {
   "cell_type": "code",
   "execution_count": null,
   "metadata": {},
   "outputs": [],
   "source": [
    "import pandas as pd\n",
    "import numpy as np\n",
    "from sklearn.preprocessing import StandardScaler\n",
    "from matplotlib import*\n",
    "import matplotlib.pyplot as plt\n",
    "from matplotlib import cm \n",
    "from scipy import stats\n",
    "from sklearn.decomposition import PCA as sklearnPCA\n",
    "import seaborn\n",
    "import io\n",
    "\n",
    "\n",
    "from google.colab import files\n",
    "uploaded = files.upload()\n",
    "\n",
    "d1=pd.read_csv(\"GlottalPCA.csv\")\n",
    "d1.head(5)\n",
    "\n",
    "df1=d1.replace(np.nan,0,regex=True)\n",
    "\n",
    "\n",
    "from sklearn import preprocessing \n",
    "  \n",
    "# label_encoder object knows how to understand word labels. \n",
    "label_encoder = preprocessing.LabelEncoder() \n",
    "\n",
    "\n",
    "# Encode labels in column 'species'. \n",
    "df1['label']= label_encoder.fit_transform(df1['label'])\n",
    "df1.head()\n",
    "\n",
    "X_std=StandardScaler().fit_transform(df1)\n",
    "\n",
    "mean_vec=np.mean(X_std,axis=0)\n",
    "cov_mat=(X_std-mean_vec).T.dot((X_std-mean_vec)/(X_std.shape[0]-1))\n",
    "print(\"covaariance matrix \\n%s\" %cov_mat)\n",
    "\n",
    "\n",
    "cov_mat=np.cov(X_std.T)\n",
    "eig_vals,eig_vect=np.linalg.eig(cov_mat)\n",
    "print(\"eigen values \\n%s\"%eig_vals)\n",
    "print(\"eigen vectors \\n%s\"%eig_vect)\n",
    "\n",
    "cov_mat=np.cov(X_std.T)\n",
    "eig_vals,eig_vect=np.linalg.eig(cov_mat)\n",
    "print(\"eigen values \\n%s\"%eig_vals)\n",
    "print(\"eigen vectors \\n%s\"%eig_vect)\n",
    "\n",
    "\n",
    "eig_pairs=[(np.abs(eig_vals[i],eig_vect[1,i]) for i in range(len(eig_vals)))]\n",
    "print(\"Eigen values in descending order\")\n",
    "for i in eig_vals:\n",
    "     print(i)\n",
    "\n",
    "from sklearn.decomposition import PCA\n",
    "\n",
    "\n",
    "pca=PCA(n_components=30)\n",
    "pca.fit_transform(X_std)\n",
    "print(pca.explained_variance_ratio_)\n",
    "\n",
    "X_std.shape\n",
    "\n",
    "X_pca=pca.transform(X_std)\n",
    "X_pca.shape\n",
    "\n",
    "X_pca\n",
    "\n",
    "pca.explained_variance_ratio_\n",
    "\n",
    "a = numpy.asarray(X_pca)\n",
    "# df1['label']\n",
    "\n",
    "np.append(a,df1['label'])\n",
    "\n",
    "numpy.savetxt(\"pca.csv\", a, delimiter=\",\")\n",
    "\n",
    "pca=PCA().fit(X_std)\n",
    "plt.plot(np.cumsum(pca.explained_variance_ratio_))\n",
    "plt.xlabel('number of components')\n",
    "plt.ylabel('cumulative explained variance')\n",
    "plt.show()\n",
    "\n",
    "#plt.figure(flagsize=(1,0))\n",
    "#plt.scatter(X_pca[1,0],X_pca[1,0],d1)\n",
    "#plt.xlabel('number of components')\n",
    "#plt.ylabel('cumulative explained variance')\n",
    "\n",
    "df = pd.read_csv(\"pca.csv\")\n",
    "df.fillna(0, inplace=True)"
   ]
  }
 ],
 "metadata": {
  "colab": {
   "name": "PCA.ipynb",
   "provenance": []
  },
  "kernelspec": {
   "display_name": "Python 3",
   "language": "python",
   "name": "python3"
  },
  "language_info": {
   "codemirror_mode": {
    "name": "ipython",
    "version": 3
   },
   "file_extension": ".py",
   "mimetype": "text/x-python",
   "name": "python",
   "nbconvert_exporter": "python",
   "pygments_lexer": "ipython3",
   "version": "3.7.3"
  }
 },
 "nbformat": 4,
 "nbformat_minor": 1
}
