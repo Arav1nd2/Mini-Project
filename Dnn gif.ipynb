{
 "cells": [
  {
   "cell_type": "code",
   "execution_count": 6,
   "metadata": {},
   "outputs": [],
   "source": [
    "import numpy as np # linear algebra\n",
    "import pandas as pd # data processing, CSV file I/O (e.g. pd.read_csv)\n",
    "from keras.models import Sequential\n",
    "from keras.layers import Dense\n",
    "from keras.layers import Dropout\n",
    "from keras.layers import Flatten\n",
    "from keras.layers.convolutional import Convolution2D\n",
    "from keras.layers.convolutional import MaxPooling2D\n",
    "from sklearn.preprocessing import LabelEncoder,OneHotEncoder\n",
    "from keras import backend as K\n",
    "\n",
    "\n",
    "# Input data files are available in the \"../input/\" directory.\n",
    "# For example, running this (by clicking run or pressing Shift+Enter) will list the files in the input directory\n"
   ]
  },
  {
   "cell_type": "code",
   "execution_count": 21,
   "metadata": {},
   "outputs": [],
   "source": [
    "train = pd.read_csv(\"OpenSmile_Acoustic_DATA.csv\")\n",
    "test  = pd.read_csv(\"OpenSmile_Acoustic_DATA.csv\")\n",
    "train.fillna(0, inplace=True)\n",
    "test.fillna(0,inplace=True)\n",
    "# train = train.values\n",
    "# test  = test.values"
   ]
  },
  {
   "cell_type": "code",
   "execution_count": 34,
   "metadata": {},
   "outputs": [
    {
     "data": {
      "text/html": [
       "<div>\n",
       "<style scoped>\n",
       "    .dataframe tbody tr th:only-of-type {\n",
       "        vertical-align: middle;\n",
       "    }\n",
       "\n",
       "    .dataframe tbody tr th {\n",
       "        vertical-align: top;\n",
       "    }\n",
       "\n",
       "    .dataframe thead th {\n",
       "        text-align: right;\n",
       "    }\n",
       "</style>\n",
       "<table border=\"1\" class=\"dataframe\">\n",
       "  <thead>\n",
       "    <tr style=\"text-align: right;\">\n",
       "      <th></th>\n",
       "      <th>frameTime</th>\n",
       "      <th>pcm_RMSenergy_sma_max</th>\n",
       "      <th>pcm_RMSenergy_sma_min</th>\n",
       "      <th>pcm_RMSenergy_sma_range</th>\n",
       "      <th>pcm_RMSenergy_sma_maxPos</th>\n",
       "      <th>pcm_RMSenergy_sma_minPos</th>\n",
       "      <th>pcm_RMSenergy_sma_amean</th>\n",
       "      <th>pcm_RMSenergy_sma_linregc1</th>\n",
       "      <th>pcm_RMSenergy_sma_linregc2</th>\n",
       "      <th>pcm_RMSenergy_sma_linregerrQ</th>\n",
       "      <th>...</th>\n",
       "      <th>F0_sma_de_maxPos</th>\n",
       "      <th>F0_sma_de_minPos</th>\n",
       "      <th>F0_sma_de_amean</th>\n",
       "      <th>F0_sma_de_linregc1</th>\n",
       "      <th>F0_sma_de_linregc2</th>\n",
       "      <th>F0_sma_de_linregerrQ</th>\n",
       "      <th>F0_sma_de_stddev</th>\n",
       "      <th>F0_sma_de_skewness</th>\n",
       "      <th>F0_sma_de_kurtosis</th>\n",
       "      <th>label</th>\n",
       "    </tr>\n",
       "  </thead>\n",
       "  <tbody>\n",
       "    <tr>\n",
       "      <th>0</th>\n",
       "      <td>0</td>\n",
       "      <td>0.013430</td>\n",
       "      <td>0.000315</td>\n",
       "      <td>0.013115</td>\n",
       "      <td>62</td>\n",
       "      <td>31</td>\n",
       "      <td>0.002099</td>\n",
       "      <td>0.000036</td>\n",
       "      <td>0.000259</td>\n",
       "      <td>0.000014</td>\n",
       "      <td>...</td>\n",
       "      <td>62</td>\n",
       "      <td>71</td>\n",
       "      <td>-4.850182e-08</td>\n",
       "      <td>-0.020856</td>\n",
       "      <td>1.053219</td>\n",
       "      <td>170.07320</td>\n",
       "      <td>13.055660</td>\n",
       "      <td>0.139536</td>\n",
       "      <td>13.962990</td>\n",
       "      <td>D</td>\n",
       "    </tr>\n",
       "    <tr>\n",
       "      <th>1</th>\n",
       "      <td>0</td>\n",
       "      <td>0.012014</td>\n",
       "      <td>0.000097</td>\n",
       "      <td>0.011916</td>\n",
       "      <td>86</td>\n",
       "      <td>24</td>\n",
       "      <td>0.001798</td>\n",
       "      <td>-0.000005</td>\n",
       "      <td>0.002335</td>\n",
       "      <td>0.000010</td>\n",
       "      <td>...</td>\n",
       "      <td>57</td>\n",
       "      <td>112</td>\n",
       "      <td>9.946342e-09</td>\n",
       "      <td>-0.019791</td>\n",
       "      <td>1.998919</td>\n",
       "      <td>156.33080</td>\n",
       "      <td>12.556900</td>\n",
       "      <td>1.408134</td>\n",
       "      <td>28.568980</td>\n",
       "      <td>D</td>\n",
       "    </tr>\n",
       "    <tr>\n",
       "      <th>2</th>\n",
       "      <td>0</td>\n",
       "      <td>0.017445</td>\n",
       "      <td>0.000102</td>\n",
       "      <td>0.017343</td>\n",
       "      <td>87</td>\n",
       "      <td>766</td>\n",
       "      <td>0.002201</td>\n",
       "      <td>-0.000004</td>\n",
       "      <td>0.003788</td>\n",
       "      <td>0.000006</td>\n",
       "      <td>...</td>\n",
       "      <td>597</td>\n",
       "      <td>601</td>\n",
       "      <td>-4.064229e-08</td>\n",
       "      <td>-0.002775</td>\n",
       "      <td>1.064037</td>\n",
       "      <td>679.20410</td>\n",
       "      <td>26.068800</td>\n",
       "      <td>0.078041</td>\n",
       "      <td>5.901169</td>\n",
       "      <td>D</td>\n",
       "    </tr>\n",
       "    <tr>\n",
       "      <th>3</th>\n",
       "      <td>0</td>\n",
       "      <td>0.065849</td>\n",
       "      <td>0.003651</td>\n",
       "      <td>0.062198</td>\n",
       "      <td>46</td>\n",
       "      <td>1</td>\n",
       "      <td>0.009701</td>\n",
       "      <td>-0.000070</td>\n",
       "      <td>0.013960</td>\n",
       "      <td>0.000150</td>\n",
       "      <td>...</td>\n",
       "      <td>42</td>\n",
       "      <td>47</td>\n",
       "      <td>2.071429e-08</td>\n",
       "      <td>-0.011110</td>\n",
       "      <td>0.672133</td>\n",
       "      <td>234.11950</td>\n",
       "      <td>15.305970</td>\n",
       "      <td>0.073403</td>\n",
       "      <td>11.027760</td>\n",
       "      <td>D</td>\n",
       "    </tr>\n",
       "    <tr>\n",
       "      <th>4</th>\n",
       "      <td>0</td>\n",
       "      <td>0.036867</td>\n",
       "      <td>0.002773</td>\n",
       "      <td>0.034093</td>\n",
       "      <td>145</td>\n",
       "      <td>15</td>\n",
       "      <td>0.005615</td>\n",
       "      <td>0.000016</td>\n",
       "      <td>0.003674</td>\n",
       "      <td>0.000040</td>\n",
       "      <td>...</td>\n",
       "      <td>129</td>\n",
       "      <td>154</td>\n",
       "      <td>-7.481755e-09</td>\n",
       "      <td>-0.004885</td>\n",
       "      <td>0.581368</td>\n",
       "      <td>87.16737</td>\n",
       "      <td>9.342429</td>\n",
       "      <td>1.363256</td>\n",
       "      <td>33.537700</td>\n",
       "      <td>D</td>\n",
       "    </tr>\n",
       "  </tbody>\n",
       "</table>\n",
       "<p>5 rows × 386 columns</p>\n",
       "</div>"
      ],
      "text/plain": [
       "   frameTime  pcm_RMSenergy_sma_max  pcm_RMSenergy_sma_min  \\\n",
       "0          0               0.013430               0.000315   \n",
       "1          0               0.012014               0.000097   \n",
       "2          0               0.017445               0.000102   \n",
       "3          0               0.065849               0.003651   \n",
       "4          0               0.036867               0.002773   \n",
       "\n",
       "   pcm_RMSenergy_sma_range  pcm_RMSenergy_sma_maxPos  \\\n",
       "0                 0.013115                        62   \n",
       "1                 0.011916                        86   \n",
       "2                 0.017343                        87   \n",
       "3                 0.062198                        46   \n",
       "4                 0.034093                       145   \n",
       "\n",
       "   pcm_RMSenergy_sma_minPos  pcm_RMSenergy_sma_amean  \\\n",
       "0                        31                 0.002099   \n",
       "1                        24                 0.001798   \n",
       "2                       766                 0.002201   \n",
       "3                         1                 0.009701   \n",
       "4                        15                 0.005615   \n",
       "\n",
       "   pcm_RMSenergy_sma_linregc1  pcm_RMSenergy_sma_linregc2  \\\n",
       "0                    0.000036                    0.000259   \n",
       "1                   -0.000005                    0.002335   \n",
       "2                   -0.000004                    0.003788   \n",
       "3                   -0.000070                    0.013960   \n",
       "4                    0.000016                    0.003674   \n",
       "\n",
       "   pcm_RMSenergy_sma_linregerrQ  ...  F0_sma_de_maxPos  F0_sma_de_minPos  \\\n",
       "0                      0.000014  ...                62                71   \n",
       "1                      0.000010  ...                57               112   \n",
       "2                      0.000006  ...               597               601   \n",
       "3                      0.000150  ...                42                47   \n",
       "4                      0.000040  ...               129               154   \n",
       "\n",
       "   F0_sma_de_amean  F0_sma_de_linregc1  F0_sma_de_linregc2  \\\n",
       "0    -4.850182e-08           -0.020856            1.053219   \n",
       "1     9.946342e-09           -0.019791            1.998919   \n",
       "2    -4.064229e-08           -0.002775            1.064037   \n",
       "3     2.071429e-08           -0.011110            0.672133   \n",
       "4    -7.481755e-09           -0.004885            0.581368   \n",
       "\n",
       "   F0_sma_de_linregerrQ  F0_sma_de_stddev  F0_sma_de_skewness  \\\n",
       "0             170.07320         13.055660            0.139536   \n",
       "1             156.33080         12.556900            1.408134   \n",
       "2             679.20410         26.068800            0.078041   \n",
       "3             234.11950         15.305970            0.073403   \n",
       "4              87.16737          9.342429            1.363256   \n",
       "\n",
       "   F0_sma_de_kurtosis  label  \n",
       "0           13.962990      D  \n",
       "1           28.568980      D  \n",
       "2            5.901169      D  \n",
       "3           11.027760      D  \n",
       "4           33.537700      D  \n",
       "\n",
       "[5 rows x 386 columns]"
      ]
     },
     "execution_count": 34,
     "metadata": {},
     "output_type": "execute_result"
    }
   ],
   "source": [
    "train.head()\n",
    "\n"
   ]
  },
  {
   "cell_type": "code",
   "execution_count": 35,
   "metadata": {},
   "outputs": [
    {
     "data": {
      "text/plain": [
       "(3593, 386)"
      ]
     },
     "execution_count": 35,
     "metadata": {},
     "output_type": "execute_result"
    }
   ],
   "source": [
    "train.shape"
   ]
  },
  {
   "cell_type": "code",
   "execution_count": 23,
   "metadata": {},
   "outputs": [],
   "source": [
    "columns = train.columns.tolist()\n",
    "\n",
    "features = [f for f in filter(lambda x: x not in ['label', 'frameTime','filename'], columns)]\n",
    "target = ['label']\n",
    "\n",
    "feature_df = train[features]\n",
    "\n",
    "X_train = np.asarray(feature_df.values)\n",
    "\n",
    "y_train = np.asarray(train['label'].values)\n",
    "\n",
    "\n"
   ]
  },
  {
   "cell_type": "code",
   "execution_count": 25,
   "metadata": {},
   "outputs": [],
   "source": [
    "# X_train = np.reshape(X_train, (1, X_train.shape[0],X_train.shape[1]))\n",
    "X_train = np.reshape(X_train, (3593,-1,1))\n",
    "y_test = y_train\n",
    "X_test = X_train"
   ]
  },
  {
   "cell_type": "code",
   "execution_count": 36,
   "metadata": {},
   "outputs": [
    {
     "name": "stderr",
     "output_type": "stream",
     "text": [
      "C:\\Users\\Ashwin Ram\\Anaconda3\\lib\\site-packages\\sklearn\\preprocessing\\label.py:235: DataConversionWarning: A column-vector y was passed when a 1d array was expected. Please change the shape of y to (n_samples, ), for example using ravel().\n",
      "  y = column_or_1d(y, warn=True)\n"
     ]
    }
   ],
   "source": [
    "\n",
    "from sklearn import preprocessing \n",
    "  \n",
    "# label_encoder object knows how to understand word labels. \n",
    "label_encoder = preprocessing.LabelEncoder() \n",
    "  \n",
    "# Encode labels in column 'species'. \n",
    "y_train= label_encoder.fit_transform(y_train)"
   ]
  },
  {
   "cell_type": "code",
   "execution_count": 37,
   "metadata": {},
   "outputs": [],
   "source": [
    "y_test = y_test.reshape(-1,1)\n",
    "y_train = y_train.reshape(-1,1)\n",
    "# y_test.shape"
   ]
  },
  {
   "cell_type": "code",
   "execution_count": 38,
   "metadata": {},
   "outputs": [],
   "source": [
    "model = Sequential()\n",
    "import keras\n",
    "model.add(keras.layers.convolutional.Convolution1D(filters=2, kernel_size=2, \n",
    "activation='relu',input_shape=(384,1)))\n",
    "# model.add(MaxPooling2D(pool_size=(2, 2)))\n",
    "# model.add(Convolution2D(15, 3, 3, activation= 'relu' ))\n",
    "# model.add(MaxPooling2D(pool_size=(2, 2)))\n",
    "# model.add(Dropout(0.2))\n",
    "# model.add(Flatten())\n",
    "# model.add(keras.layers.convolutional.MaxPooling1D(pool_size=2))\n",
    "model.add(Flatten())\n",
    "# model.add(Dense(100, activation='relu'))\n",
    "model.add(Dense(1, activation='softmax'))\n",
    "model.compile(loss='sparse_categorical_crossentropy', optimizer='adam', metrics=['accuracy'])"
   ]
  },
  {
   "cell_type": "code",
   "execution_count": 39,
   "metadata": {},
   "outputs": [
    {
     "name": "stdout",
     "output_type": "stream",
     "text": [
      "Epoch 1/20\n",
      "3593/3593 [==============================] - 1s 205us/step - loss: nan - acc: 0.6777\n",
      "Epoch 2/20\n",
      "3593/3593 [==============================] - 1s 161us/step - loss: nan - acc: 0.6777\n",
      "Epoch 3/20\n",
      "3593/3593 [==============================] - 1s 146us/step - loss: nan - acc: 0.6777\n",
      "Epoch 4/20\n",
      "3593/3593 [==============================] - 1s 145us/step - loss: nan - acc: 0.6777\n",
      "Epoch 5/20\n",
      "3593/3593 [==============================] - 1s 145us/step - loss: nan - acc: 0.6777\n",
      "Epoch 6/20\n",
      "3593/3593 [==============================] - 1s 147us/step - loss: nan - acc: 0.6777\n",
      "Epoch 7/20\n",
      "3593/3593 [==============================] - 1s 153us/step - loss: nan - acc: 0.6777\n",
      "Epoch 8/20\n",
      "3593/3593 [==============================] - 1s 143us/step - loss: nan - acc: 0.6777\n",
      "Epoch 9/20\n",
      "3593/3593 [==============================] - 1s 145us/step - loss: nan - acc: 0.6777\n",
      "Epoch 10/20\n",
      "3593/3593 [==============================] - 1s 143us/step - loss: nan - acc: 0.6777\n",
      "Epoch 11/20\n",
      "3593/3593 [==============================] - 1s 143us/step - loss: nan - acc: 0.6777\n",
      "Epoch 12/20\n",
      "3593/3593 [==============================] - 1s 145us/step - loss: nan - acc: 0.6777\n",
      "Epoch 13/20\n",
      "3593/3593 [==============================] - 1s 146us/step - loss: nan - acc: 0.6777\n",
      "Epoch 14/20\n",
      "3593/3593 [==============================] - 1s 150us/step - loss: nan - acc: 0.6777\n",
      "Epoch 15/20\n",
      "3593/3593 [==============================] - 1s 149us/step - loss: nan - acc: 0.6777\n",
      "Epoch 16/20\n",
      "3593/3593 [==============================] - 1s 166us/step - loss: nan - acc: 0.6777\n",
      "Epoch 17/20\n",
      "3593/3593 [==============================] - 1s 147us/step - loss: nan - acc: 0.6777\n",
      "Epoch 18/20\n",
      "3593/3593 [==============================] - 1s 144us/step - loss: nan - acc: 0.6777\n",
      "Epoch 19/20\n",
      "3593/3593 [==============================] - 1s 145us/step - loss: nan - acc: 0.6777\n",
      "Epoch 20/20\n",
      "3593/3593 [==============================] - 1s 145us/step - loss: nan - acc: 0.6777\n"
     ]
    },
    {
     "data": {
      "text/plain": [
       "<keras.callbacks.History at 0x23048dec4e0>"
      ]
     },
     "execution_count": 39,
     "metadata": {},
     "output_type": "execute_result"
    }
   ],
   "source": [
    "model.fit(X_train, y_train,\n",
    "          epochs=20,\n",
    "          batch_size= 20)\n",
    "# score = model.evaluate(X_test, y_test, batch_size=128)"
   ]
  },
  {
   "cell_type": "code",
   "execution_count": 29,
   "metadata": {},
   "outputs": [
    {
     "data": {
      "text/plain": [
       "(3593, 384, 1)"
      ]
     },
     "execution_count": 29,
     "metadata": {},
     "output_type": "execute_result"
    }
   ],
   "source": [
    "X_train.shape"
   ]
  },
  {
   "cell_type": "code",
   "execution_count": 202,
   "metadata": {},
   "outputs": [],
   "source": [
    "model = Sequential()\n",
    "model.add(Convolution2D(13, 1, input_shape=(1, 202, 13),activation= 'relu' ))\n",
    "# model.add(MaxPooling2D(pool_size=(2, 2)))\n",
    "# model.add(Convolution2D(15, 3, 3, activation= 'relu' ))\n",
    "# model.add(MaxPooling2D(pool_size=(2, 2)))\n",
    "# model.add(Dropout(0.2))\n",
    "# model.add(Flatten())\n",
    "# model.add(Dense(128, activation= 'relu' ))\n",
    "# model.add(Dense(50, activation= 'relu' ))\n",
    "model.add(Dense(2, activation= 'softmax' ))\n",
    "  # Compile model\n",
    "model.compile(loss= 'categorical_crossentropy' , optimizer= 'adam' , metrics=[ 'accuracy' ])"
   ]
  },
  {
   "cell_type": "code",
   "execution_count": 224,
   "metadata": {},
   "outputs": [
    {
     "data": {
      "text/plain": [
       "array([[ 1.00000000e+00],\n",
       "       [ 0.00000000e+00],\n",
       "       [ 2.73181648e-04],\n",
       "       [ 2.73181648e-04],\n",
       "       [ 2.73181648e-04],\n",
       "       [ 2.73181648e-04],\n",
       "       [ 0.00000000e+00],\n",
       "       [ 0.00000000e+00],\n",
       "       [ 0.00000000e+00],\n",
       "       [ 2.12901145e-01],\n",
       "       [ 2.12901145e-01],\n",
       "       [ 2.12901145e-01],\n",
       "       [ 2.12901145e-01],\n",
       "       [ 0.00000000e+00],\n",
       "       [ 0.00000000e+00],\n",
       "       [ 9.29587444e+00],\n",
       "       [-5.12989876e+00],\n",
       "       [ 0.00000000e+00],\n",
       "       [ 6.05669991e-02],\n",
       "       [ 6.05669991e-02],\n",
       "       [ 6.05669991e-02],\n",
       "       [ 6.05669991e-02],\n",
       "       [ 0.00000000e+00],\n",
       "       [ 0.00000000e+00],\n",
       "       [ 0.00000000e+00],\n",
       "       [ 7.81032044e-01],\n",
       "       [ 7.81032044e-01],\n",
       "       [ 7.81032044e-01],\n",
       "       [ 7.81032044e-01],\n",
       "       [ 0.00000000e+00],\n",
       "       [ 0.00000000e+00],\n",
       "       [ 0.00000000e+00],\n",
       "       [ 6.84034086e-01],\n",
       "       [ 6.84034086e-01],\n",
       "       [ 6.84034086e-01],\n",
       "       [ 6.84034086e-01],\n",
       "       [ 0.00000000e+00],\n",
       "       [ 0.00000000e+00],\n",
       "       [ 0.00000000e+00],\n",
       "       [ 1.53520387e-01],\n",
       "       [ 1.53520387e-01],\n",
       "       [ 1.53520387e-01],\n",
       "       [ 1.53520387e-01],\n",
       "       [ 0.00000000e+00],\n",
       "       [ 0.00000000e+00],\n",
       "       [ 1.51998959e+00],\n",
       "       [ 0.00000000e+00],\n",
       "       [ 5.16085599e-01],\n",
       "       [ 5.16085599e-01],\n",
       "       [ 5.16085599e-01],\n",
       "       [ 5.16085599e-01],\n",
       "       [ 0.00000000e+00],\n",
       "       [ 0.00000000e+00],\n",
       "       [ 0.00000000e+00],\n",
       "       [ 2.66851969e+00],\n",
       "       [ 2.66851969e+00],\n",
       "       [ 2.66851969e+00],\n",
       "       [ 2.66851969e+00],\n",
       "       [ 0.00000000e+00],\n",
       "       [ 0.00000000e+00],\n",
       "       [ 0.00000000e+00],\n",
       "       [ 2.21291877e+00],\n",
       "       [ 2.21291877e+00],\n",
       "       [ 2.21291877e+00],\n",
       "       [ 2.21291877e+00],\n",
       "       [ 0.00000000e+00],\n",
       "       [ 0.00000000e+00]])"
      ]
     },
     "execution_count": 224,
     "metadata": {},
     "output_type": "execute_result"
    }
   ],
   "source": [
    "X_train[1]"
   ]
  },
  {
   "cell_type": "code",
   "execution_count": 18,
   "metadata": {},
   "outputs": [
    {
     "name": "stdout",
     "output_type": "stream",
     "text": [
      "202/202 [==============================] - 0s 316us/step\n"
     ]
    }
   ],
   "source": [
    "score = model.evaluate(X_test, y_test, batch_size=128)"
   ]
  },
  {
   "cell_type": "code",
   "execution_count": 40,
   "metadata": {},
   "outputs": [
    {
     "data": {
      "text/plain": [
       "array([[1.],\n",
       "       [1.],\n",
       "       [1.],\n",
       "       ...,\n",
       "       [1.],\n",
       "       [1.],\n",
       "       [1.]], dtype=float32)"
      ]
     },
     "execution_count": 40,
     "metadata": {},
     "output_type": "execute_result"
    }
   ],
   "source": [
    "model.predict(X_test)"
   ]
  },
  {
   "cell_type": "code",
   "execution_count": null,
   "metadata": {},
   "outputs": [],
   "source": []
  }
 ],
 "metadata": {
  "kernelspec": {
   "display_name": "Python 3",
   "language": "python",
   "name": "python3"
  },
  "language_info": {
   "codemirror_mode": {
    "name": "ipython",
    "version": 3
   },
   "file_extension": ".py",
   "mimetype": "text/x-python",
   "name": "python",
   "nbconvert_exporter": "python",
   "pygments_lexer": "ipython3",
   "version": "3.7.3"
  }
 },
 "nbformat": 4,
 "nbformat_minor": 2
}
