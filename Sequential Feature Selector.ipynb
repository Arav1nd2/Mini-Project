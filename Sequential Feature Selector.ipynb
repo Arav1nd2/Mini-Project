{
 "cells": [
  {
   "cell_type": "code",
   "execution_count": 1,
   "metadata": {},
   "outputs": [],
   "source": [
    "import pandas as pd\n",
    "import numpy as np"
   ]
  },
  {
   "cell_type": "code",
   "execution_count": 2,
   "metadata": {},
   "outputs": [
    {
     "data": {
      "text/plain": [
       "80396"
      ]
     },
     "execution_count": 2,
     "metadata": {},
     "output_type": "execute_result"
    }
   ],
   "source": [
    "df = pd.read_csv('SVMDATA.csv')\n",
    "\n",
    "df.fillna(0, inplace=True)\n",
    "\n",
    "df.head()\n",
    "df.size"
   ]
  },
  {
   "cell_type": "code",
   "execution_count": 3,
   "metadata": {},
   "outputs": [
    {
     "data": {
      "text/html": [
       "<div>\n",
       "<style scoped>\n",
       "    .dataframe tbody tr th:only-of-type {\n",
       "        vertical-align: middle;\n",
       "    }\n",
       "\n",
       "    .dataframe tbody tr th {\n",
       "        vertical-align: top;\n",
       "    }\n",
       "\n",
       "    .dataframe thead th {\n",
       "        text-align: right;\n",
       "    }\n",
       "</style>\n",
       "<table border=\"1\" class=\"dataframe\">\n",
       "  <thead>\n",
       "    <tr style=\"text-align: right;\">\n",
       "      <th></th>\n",
       "      <th>Label</th>\n",
       "      <th>frameTime</th>\n",
       "      <th>pcm_RMSenergy_sma_max</th>\n",
       "      <th>pcm_RMSenergy_sma_min</th>\n",
       "      <th>pcm_RMSenergy_sma_range</th>\n",
       "      <th>pcm_RMSenergy_sma_maxPos</th>\n",
       "      <th>pcm_RMSenergy_sma_minPos</th>\n",
       "      <th>pcm_RMSenergy_sma_amean</th>\n",
       "      <th>pcm_RMSenergy_sma_linregc1</th>\n",
       "      <th>pcm_RMSenergy_sma_linregc2</th>\n",
       "      <th>...</th>\n",
       "      <th>NAQ</th>\n",
       "      <th>AQ</th>\n",
       "      <th>ClQ</th>\n",
       "      <th>OQa</th>\n",
       "      <th>QOQ</th>\n",
       "      <th>SQ1</th>\n",
       "      <th>SQ2</th>\n",
       "      <th>DH12</th>\n",
       "      <th>PSP</th>\n",
       "      <th>HRF</th>\n",
       "    </tr>\n",
       "  </thead>\n",
       "  <tbody>\n",
       "    <tr>\n",
       "      <th>0</th>\n",
       "      <td>1</td>\n",
       "      <td>0</td>\n",
       "      <td>0.010374</td>\n",
       "      <td>0.000102</td>\n",
       "      <td>0.010271</td>\n",
       "      <td>82</td>\n",
       "      <td>149</td>\n",
       "      <td>0.002477</td>\n",
       "      <td>-3.260103e-06</td>\n",
       "      <td>0.002743</td>\n",
       "      <td>...</td>\n",
       "      <td>0.000000</td>\n",
       "      <td>0.000000</td>\n",
       "      <td>0.000000</td>\n",
       "      <td>0.000000</td>\n",
       "      <td>0.000000</td>\n",
       "      <td>0.000000</td>\n",
       "      <td>0.000000</td>\n",
       "      <td>21.701640</td>\n",
       "      <td>0.000000</td>\n",
       "      <td>-10.397435</td>\n",
       "    </tr>\n",
       "    <tr>\n",
       "      <th>1</th>\n",
       "      <td>1</td>\n",
       "      <td>0</td>\n",
       "      <td>0.008003</td>\n",
       "      <td>0.000108</td>\n",
       "      <td>0.007896</td>\n",
       "      <td>88</td>\n",
       "      <td>5</td>\n",
       "      <td>0.001813</td>\n",
       "      <td>5.445886e-06</td>\n",
       "      <td>0.001394</td>\n",
       "      <td>...</td>\n",
       "      <td>0.153377</td>\n",
       "      <td>0.002528</td>\n",
       "      <td>0.415674</td>\n",
       "      <td>0.405545</td>\n",
       "      <td>0.488987</td>\n",
       "      <td>0.965098</td>\n",
       "      <td>0.532640</td>\n",
       "      <td>21.698599</td>\n",
       "      <td>0.275154</td>\n",
       "      <td>0.924383</td>\n",
       "    </tr>\n",
       "    <tr>\n",
       "      <th>2</th>\n",
       "      <td>1</td>\n",
       "      <td>0</td>\n",
       "      <td>0.011478</td>\n",
       "      <td>0.000100</td>\n",
       "      <td>0.011378</td>\n",
       "      <td>83</td>\n",
       "      <td>194</td>\n",
       "      <td>0.003527</td>\n",
       "      <td>-2.217385e-06</td>\n",
       "      <td>0.003756</td>\n",
       "      <td>...</td>\n",
       "      <td>0.000000</td>\n",
       "      <td>0.000000</td>\n",
       "      <td>0.000000</td>\n",
       "      <td>0.000000</td>\n",
       "      <td>0.000000</td>\n",
       "      <td>0.000000</td>\n",
       "      <td>0.000000</td>\n",
       "      <td>23.301822</td>\n",
       "      <td>0.000000</td>\n",
       "      <td>-8.691624</td>\n",
       "    </tr>\n",
       "    <tr>\n",
       "      <th>3</th>\n",
       "      <td>1</td>\n",
       "      <td>0</td>\n",
       "      <td>0.005419</td>\n",
       "      <td>0.000100</td>\n",
       "      <td>0.005319</td>\n",
       "      <td>109</td>\n",
       "      <td>206</td>\n",
       "      <td>0.001289</td>\n",
       "      <td>4.164633e-07</td>\n",
       "      <td>0.001246</td>\n",
       "      <td>...</td>\n",
       "      <td>0.077525</td>\n",
       "      <td>0.001359</td>\n",
       "      <td>0.344136</td>\n",
       "      <td>0.220149</td>\n",
       "      <td>0.140251</td>\n",
       "      <td>0.980445</td>\n",
       "      <td>0.671318</td>\n",
       "      <td>19.577620</td>\n",
       "      <td>0.350059</td>\n",
       "      <td>6.190404</td>\n",
       "    </tr>\n",
       "    <tr>\n",
       "      <th>4</th>\n",
       "      <td>1</td>\n",
       "      <td>0</td>\n",
       "      <td>0.011950</td>\n",
       "      <td>0.000100</td>\n",
       "      <td>0.011850</td>\n",
       "      <td>79</td>\n",
       "      <td>31</td>\n",
       "      <td>0.002273</td>\n",
       "      <td>9.087521e-06</td>\n",
       "      <td>0.001574</td>\n",
       "      <td>...</td>\n",
       "      <td>0.000000</td>\n",
       "      <td>0.000000</td>\n",
       "      <td>0.000000</td>\n",
       "      <td>0.000000</td>\n",
       "      <td>0.000000</td>\n",
       "      <td>0.000000</td>\n",
       "      <td>0.000000</td>\n",
       "      <td>20.080114</td>\n",
       "      <td>0.000000</td>\n",
       "      <td>-9.621048</td>\n",
       "    </tr>\n",
       "  </tbody>\n",
       "</table>\n",
       "<p>5 rows × 398 columns</p>\n",
       "</div>"
      ],
      "text/plain": [
       "   Label  frameTime  pcm_RMSenergy_sma_max  pcm_RMSenergy_sma_min  \\\n",
       "0      1          0               0.010374               0.000102   \n",
       "1      1          0               0.008003               0.000108   \n",
       "2      1          0               0.011478               0.000100   \n",
       "3      1          0               0.005419               0.000100   \n",
       "4      1          0               0.011950               0.000100   \n",
       "\n",
       "   pcm_RMSenergy_sma_range  pcm_RMSenergy_sma_maxPos  \\\n",
       "0                 0.010271                        82   \n",
       "1                 0.007896                        88   \n",
       "2                 0.011378                        83   \n",
       "3                 0.005319                       109   \n",
       "4                 0.011850                        79   \n",
       "\n",
       "   pcm_RMSenergy_sma_minPos  pcm_RMSenergy_sma_amean  \\\n",
       "0                       149                 0.002477   \n",
       "1                         5                 0.001813   \n",
       "2                       194                 0.003527   \n",
       "3                       206                 0.001289   \n",
       "4                        31                 0.002273   \n",
       "\n",
       "   pcm_RMSenergy_sma_linregc1  pcm_RMSenergy_sma_linregc2  ...       NAQ  \\\n",
       "0               -3.260103e-06                    0.002743  ...  0.000000   \n",
       "1                5.445886e-06                    0.001394  ...  0.153377   \n",
       "2               -2.217385e-06                    0.003756  ...  0.000000   \n",
       "3                4.164633e-07                    0.001246  ...  0.077525   \n",
       "4                9.087521e-06                    0.001574  ...  0.000000   \n",
       "\n",
       "         AQ       ClQ       OQa       QOQ       SQ1       SQ2       DH12  \\\n",
       "0  0.000000  0.000000  0.000000  0.000000  0.000000  0.000000  21.701640   \n",
       "1  0.002528  0.415674  0.405545  0.488987  0.965098  0.532640  21.698599   \n",
       "2  0.000000  0.000000  0.000000  0.000000  0.000000  0.000000  23.301822   \n",
       "3  0.001359  0.344136  0.220149  0.140251  0.980445  0.671318  19.577620   \n",
       "4  0.000000  0.000000  0.000000  0.000000  0.000000  0.000000  20.080114   \n",
       "\n",
       "        PSP        HRF  \n",
       "0  0.000000 -10.397435  \n",
       "1  0.275154   0.924383  \n",
       "2  0.000000  -8.691624  \n",
       "3  0.350059   6.190404  \n",
       "4  0.000000  -9.621048  \n",
       "\n",
       "[5 rows x 398 columns]"
      ]
     },
     "execution_count": 3,
     "metadata": {},
     "output_type": "execute_result"
    }
   ],
   "source": [
    "df.head()"
   ]
  },
  {
   "cell_type": "code",
   "execution_count": 4,
   "metadata": {},
   "outputs": [],
   "source": [
    "columns = df.columns.tolist()\n",
    "\n",
    "features = [f for f in filter(lambda x: x not in ['Label', 'frameTime'], columns)]\n",
    "target = ['Label']\n",
    "\n",
    "feature_df = df[features]\n",
    "\n",
    "X = np.asarray(feature_df)\n",
    "\n",
    "y = np.asarray(df['Label'])\n"
   ]
  },
  {
   "cell_type": "code",
   "execution_count": 5,
   "metadata": {},
   "outputs": [],
   "source": [
    "from sklearn.preprocessing import MinMaxScaler\n",
    "\n",
    "scaler = MinMaxScaler()\n",
    "scaler.fit(X)\n",
    "\n",
    "X = scaler.transform(X)"
   ]
  },
  {
   "cell_type": "code",
   "execution_count": 6,
   "metadata": {},
   "outputs": [
    {
     "data": {
      "text/plain": [
       "(181, 396)"
      ]
     },
     "execution_count": 6,
     "metadata": {},
     "output_type": "execute_result"
    }
   ],
   "source": [
    "from sklearn.model_selection import train_test_split\n",
    "\n",
    "\n",
    "X_train, X_test, y_train, y_test = train_test_split(feature_df, df['Label'], test_size=0.1, random_state=4)\n",
    "\n",
    "X_train.shape"
   ]
  },
  {
   "cell_type": "markdown",
   "metadata": {},
   "source": [
    "# SequentialFeatureSelector"
   ]
  },
  {
   "cell_type": "markdown",
   "metadata": {},
   "source": [
    "<img src=\"sequentialModelDiagram.png\">"
   ]
  },
  {
   "cell_type": "code",
   "execution_count": 76,
   "metadata": {},
   "outputs": [],
   "source": [
    "from mlxtend.feature_selection import SequentialFeatureSelector as SFS\n",
    "from sklearn.svm import SVC \n",
    "classifier = SVC(gamma='auto', C=10)\n",
    "# Sequential Forward Selection(sfs)\n",
    "feature_selector = SFS(SVC(kernel='rbf', C=1000, gamma=0.1),\n",
    "           k_features=20,\n",
    "           forward=True,\n",
    "           verbose=2,\n",
    "           scoring='roc_auc',\n",
    "           cv=4)"
   ]
  },
  {
   "cell_type": "code",
   "execution_count": 80,
   "metadata": {},
   "outputs": [],
   "source": [
    "from sklearn import svm\n",
    "# X_train, X_test, y_train, y_test = train_test_split(feature_df, df['Label'], test_size=0.1, random_state=4)\n",
    "\n",
    "classifier = svm.SVC(kernel='rbf', C=1000, gamma=0.1)\n",
    "\n",
    "classifier.fit(X_train[filtered_features], y_train)\n",
    "\n",
    "y_predict = classifier.predict(X_test[filtered_features])"
   ]
  },
  {
   "cell_type": "code",
   "execution_count": 81,
   "metadata": {},
   "outputs": [
    {
     "name": "stdout",
     "output_type": "stream",
     "text": [
      "              precision    recall  f1-score   support\n",
      "\n",
      "           1       1.00      0.62      0.77         8\n",
      "           2       0.81      1.00      0.90        13\n",
      "\n",
      "   micro avg       0.86      0.86      0.86        21\n",
      "   macro avg       0.91      0.81      0.83        21\n",
      "weighted avg       0.88      0.86      0.85        21\n",
      "\n"
     ]
    }
   ],
   "source": [
    "from sklearn.metrics import classification_report\n",
    "\n",
    "print(classification_report(y_test, y_predict))"
   ]
  },
  {
   "cell_type": "code",
   "execution_count": 82,
   "metadata": {},
   "outputs": [
    {
     "data": {
      "text/plain": [
       "0.8571428571428571"
      ]
     },
     "execution_count": 82,
     "metadata": {},
     "output_type": "execute_result"
    }
   ],
   "source": [
    "from sklearn.metrics import accuracy_score\n",
    "accuracy_score(y_test, y_predict)"
   ]
  },
  {
   "cell_type": "code",
   "execution_count": 77,
   "metadata": {},
   "outputs": [
    {
     "name": "stderr",
     "output_type": "stream",
     "text": [
      "[Parallel(n_jobs=1)]: Using backend SequentialBackend with 1 concurrent workers.\n",
      "[Parallel(n_jobs=1)]: Done   1 out of   1 | elapsed:    0.0s remaining:    0.0s\n",
      "[Parallel(n_jobs=1)]: Done 396 out of 396 | elapsed:    8.5s finished\n",
      "\n",
      "[2020-10-04 23:43:19] Features: 1/20 -- score: 1.0[Parallel(n_jobs=1)]: Using backend SequentialBackend with 1 concurrent workers.\n",
      "[Parallel(n_jobs=1)]: Done   1 out of   1 | elapsed:    0.0s remaining:    0.0s\n",
      "[Parallel(n_jobs=1)]: Done 395 out of 395 | elapsed:    8.6s finished\n",
      "\n",
      "[2020-10-04 23:43:27] Features: 2/20 -- score: 1.0[Parallel(n_jobs=1)]: Using backend SequentialBackend with 1 concurrent workers.\n",
      "[Parallel(n_jobs=1)]: Done   1 out of   1 | elapsed:    0.0s remaining:    0.0s\n",
      "[Parallel(n_jobs=1)]: Done 394 out of 394 | elapsed:    8.2s finished\n",
      "\n",
      "[2020-10-04 23:43:36] Features: 3/20 -- score: 1.0[Parallel(n_jobs=1)]: Using backend SequentialBackend with 1 concurrent workers.\n",
      "[Parallel(n_jobs=1)]: Done   1 out of   1 | elapsed:    0.0s remaining:    0.0s\n",
      "[Parallel(n_jobs=1)]: Done 393 out of 393 | elapsed:    7.8s finished\n",
      "\n",
      "[2020-10-04 23:43:44] Features: 4/20 -- score: 1.0[Parallel(n_jobs=1)]: Using backend SequentialBackend with 1 concurrent workers.\n",
      "[Parallel(n_jobs=1)]: Done   1 out of   1 | elapsed:    0.0s remaining:    0.0s\n",
      "[Parallel(n_jobs=1)]: Done 392 out of 392 | elapsed:    8.2s finished\n",
      "\n",
      "[2020-10-04 23:43:52] Features: 5/20 -- score: 1.0[Parallel(n_jobs=1)]: Using backend SequentialBackend with 1 concurrent workers.\n",
      "[Parallel(n_jobs=1)]: Done   1 out of   1 | elapsed:    0.0s remaining:    0.0s\n",
      "[Parallel(n_jobs=1)]: Done 391 out of 391 | elapsed:    7.4s finished\n",
      "\n",
      "[2020-10-04 23:43:59] Features: 6/20 -- score: 1.0[Parallel(n_jobs=1)]: Using backend SequentialBackend with 1 concurrent workers.\n",
      "[Parallel(n_jobs=1)]: Done   1 out of   1 | elapsed:    0.0s remaining:    0.0s\n",
      "[Parallel(n_jobs=1)]: Done 390 out of 390 | elapsed:    7.9s finished\n",
      "\n",
      "[2020-10-04 23:44:07] Features: 7/20 -- score: 1.0[Parallel(n_jobs=1)]: Using backend SequentialBackend with 1 concurrent workers.\n",
      "[Parallel(n_jobs=1)]: Done   1 out of   1 | elapsed:    0.0s remaining:    0.0s\n",
      "[Parallel(n_jobs=1)]: Done 389 out of 389 | elapsed:    7.5s finished\n",
      "\n",
      "[2020-10-04 23:44:15] Features: 8/20 -- score: 1.0[Parallel(n_jobs=1)]: Using backend SequentialBackend with 1 concurrent workers.\n",
      "[Parallel(n_jobs=1)]: Done   1 out of   1 | elapsed:    0.0s remaining:    0.0s\n",
      "[Parallel(n_jobs=1)]: Done 388 out of 388 | elapsed:    7.5s finished\n",
      "\n",
      "[2020-10-04 23:44:23] Features: 9/20 -- score: 1.0[Parallel(n_jobs=1)]: Using backend SequentialBackend with 1 concurrent workers.\n",
      "[Parallel(n_jobs=1)]: Done   1 out of   1 | elapsed:    0.0s remaining:    0.0s\n",
      "[Parallel(n_jobs=1)]: Done 387 out of 387 | elapsed:    7.7s finished\n",
      "\n",
      "[2020-10-04 23:44:30] Features: 10/20 -- score: 1.0[Parallel(n_jobs=1)]: Using backend SequentialBackend with 1 concurrent workers.\n",
      "[Parallel(n_jobs=1)]: Done   1 out of   1 | elapsed:    0.0s remaining:    0.0s\n",
      "[Parallel(n_jobs=1)]: Done 386 out of 386 | elapsed:    7.5s finished\n",
      "\n",
      "[2020-10-04 23:44:38] Features: 11/20 -- score: 1.0[Parallel(n_jobs=1)]: Using backend SequentialBackend with 1 concurrent workers.\n",
      "[Parallel(n_jobs=1)]: Done   1 out of   1 | elapsed:    0.0s remaining:    0.0s\n",
      "[Parallel(n_jobs=1)]: Done 385 out of 385 | elapsed:    7.6s finished\n",
      "\n",
      "[2020-10-04 23:44:46] Features: 12/20 -- score: 1.0[Parallel(n_jobs=1)]: Using backend SequentialBackend with 1 concurrent workers.\n",
      "[Parallel(n_jobs=1)]: Done   1 out of   1 | elapsed:    0.0s remaining:    0.0s\n",
      "[Parallel(n_jobs=1)]: Done 384 out of 384 | elapsed:    7.7s finished\n",
      "\n",
      "[2020-10-04 23:44:54] Features: 13/20 -- score: 1.0[Parallel(n_jobs=1)]: Using backend SequentialBackend with 1 concurrent workers.\n",
      "[Parallel(n_jobs=1)]: Done   1 out of   1 | elapsed:    0.0s remaining:    0.0s\n",
      "[Parallel(n_jobs=1)]: Done 383 out of 383 | elapsed:    7.8s finished\n",
      "\n",
      "[2020-10-04 23:45:01] Features: 14/20 -- score: 1.0[Parallel(n_jobs=1)]: Using backend SequentialBackend with 1 concurrent workers.\n",
      "[Parallel(n_jobs=1)]: Done   1 out of   1 | elapsed:    0.0s remaining:    0.0s\n",
      "[Parallel(n_jobs=1)]: Done 382 out of 382 | elapsed:    7.6s finished\n",
      "\n",
      "[2020-10-04 23:45:09] Features: 15/20 -- score: 1.0[Parallel(n_jobs=1)]: Using backend SequentialBackend with 1 concurrent workers.\n",
      "[Parallel(n_jobs=1)]: Done   1 out of   1 | elapsed:    0.0s remaining:    0.0s\n",
      "[Parallel(n_jobs=1)]: Done 381 out of 381 | elapsed:    9.5s finished\n",
      "\n",
      "[2020-10-04 23:45:19] Features: 16/20 -- score: 1.0[Parallel(n_jobs=1)]: Using backend SequentialBackend with 1 concurrent workers.\n",
      "[Parallel(n_jobs=1)]: Done   1 out of   1 | elapsed:    0.0s remaining:    0.0s\n",
      "[Parallel(n_jobs=1)]: Done 380 out of 380 | elapsed:   11.8s finished\n",
      "\n",
      "[2020-10-04 23:45:31] Features: 17/20 -- score: 1.0[Parallel(n_jobs=1)]: Using backend SequentialBackend with 1 concurrent workers.\n",
      "[Parallel(n_jobs=1)]: Done   1 out of   1 | elapsed:    0.0s remaining:    0.0s\n",
      "[Parallel(n_jobs=1)]: Done 379 out of 379 | elapsed:   12.0s finished\n",
      "\n",
      "[2020-10-04 23:45:43] Features: 18/20 -- score: 1.0[Parallel(n_jobs=1)]: Using backend SequentialBackend with 1 concurrent workers.\n",
      "[Parallel(n_jobs=1)]: Done   1 out of   1 | elapsed:    0.0s remaining:    0.0s\n",
      "[Parallel(n_jobs=1)]: Done 378 out of 378 | elapsed:   12.4s finished\n",
      "\n",
      "[2020-10-04 23:45:55] Features: 19/20 -- score: 1.0[Parallel(n_jobs=1)]: Using backend SequentialBackend with 1 concurrent workers.\n",
      "[Parallel(n_jobs=1)]: Done   1 out of   1 | elapsed:    0.0s remaining:    0.0s\n",
      "[Parallel(n_jobs=1)]: Done 377 out of 377 | elapsed:   11.6s finished\n",
      "\n",
      "[2020-10-04 23:46:07] Features: 20/20 -- score: 1.0"
     ]
    },
    {
     "data": {
      "text/plain": [
       "(1,\n",
       " 6,\n",
       " 7,\n",
       " 8,\n",
       " 66,\n",
       " 162,\n",
       " 174,\n",
       " 181,\n",
       " 184,\n",
       " 197,\n",
       " 198,\n",
       " 199,\n",
       " 200,\n",
       " 201,\n",
       " 210,\n",
       " 222,\n",
       " 270,\n",
       " 306,\n",
       " 318,\n",
       " 342)"
      ]
     },
     "execution_count": 77,
     "metadata": {},
     "output_type": "execute_result"
    }
   ],
   "source": [
    "feature_selector.fit(X_train, y_train)\n",
    "feature_selector.k_feature_idx_  "
   ]
  },
  {
   "cell_type": "code",
   "execution_count": 78,
   "metadata": {},
   "outputs": [],
   "source": [
    "# features = df[features].fit(np.asarray(x_train), y_train)"
   ]
  },
  {
   "cell_type": "code",
   "execution_count": 79,
   "metadata": {},
   "outputs": [
    {
     "data": {
      "text/plain": [
       "Index(['pcm_RMSenergy_sma_min', 'pcm_RMSenergy_sma_linregc1',\n",
       "       'pcm_RMSenergy_sma_linregc2', 'pcm_RMSenergy_sma_linregerrQ',\n",
       "       'pcm_fftMag_mfcc_sma[5]_linregc1', 'pcm_zcr_sma_linregc1',\n",
       "       'voiceProb_sma_linregc1', 'F0_sma_min', 'F0_sma_minPos',\n",
       "       'pcm_RMSenergy_sma_de_amean', 'pcm_RMSenergy_sma_de_linregc1',\n",
       "       'pcm_RMSenergy_sma_de_linregc2', 'pcm_RMSenergy_sma_de_linregerrQ',\n",
       "       'pcm_RMSenergy_sma_de_stddev', 'pcm_fftMag_mfcc_sma_de[1]_linregc1',\n",
       "       'pcm_fftMag_mfcc_sma_de[2]_linregc1',\n",
       "       'pcm_fftMag_mfcc_sma_de[6]_linregc1',\n",
       "       'pcm_fftMag_mfcc_sma_de[9]_linregc1',\n",
       "       'pcm_fftMag_mfcc_sma_de[10]_linregc1',\n",
       "       'pcm_fftMag_mfcc_sma_de[12]_linregc1'],\n",
       "      dtype='object')"
      ]
     },
     "execution_count": 79,
     "metadata": {},
     "output_type": "execute_result"
    }
   ],
   "source": [
    "filtered_features= df[features].columns[list(feature_selector.k_feature_idx_)]\n",
    "filtered_features"
   ]
  },
  {
   "cell_type": "code",
   "execution_count": null,
   "metadata": {},
   "outputs": [],
   "source": []
  },
  {
   "cell_type": "code",
   "execution_count": null,
   "metadata": {},
   "outputs": [],
   "source": []
  },
  {
   "cell_type": "code",
   "execution_count": null,
   "metadata": {},
   "outputs": [],
   "source": []
  }
 ],
 "metadata": {
  "kernelspec": {
   "display_name": "'Python Interactive'",
   "language": "python",
   "name": "63476874-fa36-435a-a3b9-898b5473e28f"
  },
  "language_info": {
   "codemirror_mode": {
    "name": "ipython",
    "version": 3
   },
   "file_extension": ".py",
   "mimetype": "text/x-python",
   "name": "python",
   "nbconvert_exporter": "python",
   "pygments_lexer": "ipython3",
   "version": "3.7.3"
  }
 },
 "nbformat": 4,
 "nbformat_minor": 2
}
